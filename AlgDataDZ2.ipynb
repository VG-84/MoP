{
 "cells": [
  {
   "cell_type": "code",
   "execution_count": 12,
   "metadata": {},
   "outputs": [],
   "source": [
    "import numpy as np\n",
    "import matplotlib.pyplot as plt\n",
    "%matplotlib inline"
   ]
  },
  {
   "cell_type": "code",
   "execution_count": 14,
   "metadata": {},
   "outputs": [],
   "source": [
    "X = np.array([[   1,    1,  500,    1],\n",
    "              [   1,    1,  700,    1],\n",
    "              [   1,    2,  750,    2],\n",
    "              [   1,    5,  600,    1],\n",
    "              [   1,    3, 1450,    2],\n",
    "              [   1,    0,  800,    1],\n",
    "              [   1,    5, 1500,    3],\n",
    "              [   1,   10, 2000,    3],\n",
    "              [   1,    1,  450,    1],\n",
    "              [   1,    2, 1000,    2]])\n",
    "y = [45, 55, 50, 55, 60, 35, 75, 80, 50, 60]"
   ]
  },
  {
   "cell_type": "code",
   "execution_count": 15,
   "metadata": {},
   "outputs": [],
   "source": [
    "def standart_scale(X):\n",
    "    mean = X.mean()\n",
    "    std = X.std()\n",
    "    return (X - mean) / std"
   ]
  },
  {
   "cell_type": "code",
   "execution_count": 16,
   "metadata": {},
   "outputs": [],
   "source": [
    "def normal_scale(X):\n",
    "    min_X = X.min()\n",
    "    max_X = X.max()\n",
    "    return (X - min_X) / (max_X - min_X)"
   ]
  },
  {
   "cell_type": "code",
   "execution_count": 17,
   "metadata": {},
   "outputs": [],
   "source": [
    "def calc_mse(y, y_pred):\n",
    "    err = np.mean((y - y_pred)**2)\n",
    "    return err"
   ]
  },
  {
   "cell_type": "code",
   "execution_count": 18,
   "metadata": {},
   "outputs": [
    {
     "data": {
      "text/plain": [
       "array([[ 1.        , -0.70710678, -0.97958969,  1.        ],\n",
       "       [ 1.        , -0.70710678, -0.56713087,  1.        ],\n",
       "       [ 1.        , -0.35355339, -0.46401617,  2.        ],\n",
       "       [ 1.        ,  0.70710678, -0.77336028,  1.        ],\n",
       "       [ 1.        ,  0.        ,  0.97958969,  2.        ],\n",
       "       [ 1.        , -1.06066017, -0.36090146,  1.        ],\n",
       "       [ 1.        ,  0.70710678,  1.08270439,  3.        ],\n",
       "       [ 1.        ,  2.47487373,  2.11385144,  3.        ],\n",
       "       [ 1.        , -0.70710678, -1.08270439,  1.        ],\n",
       "       [ 1.        , -0.35355339,  0.05155735,  2.        ]])"
      ]
     },
     "execution_count": 18,
     "metadata": {},
     "output_type": "execute_result"
    }
   ],
   "source": [
    "X_st = X.copy().astype(np.float64)\n",
    "X_st[:, 1] = standart_scale(X_st[:, 1])\n",
    "X_st[:, 2] = standart_scale(X_st[:, 2])\n",
    "X_st"
   ]
  },
  {
   "cell_type": "code",
   "execution_count": 19,
   "metadata": {},
   "outputs": [],
   "source": [
    "def gradient_descent_reg_l2(X, y, iterations, eta=1e-4, reg=1e-8):\n",
    "    W = np.random.randn(X.shape[1])\n",
    "    n = X.shape[0]\n",
    "    \n",
    "    for i in range(0, iterations):\n",
    "        y_pred = np.dot(X, W)\n",
    "        err = calc_mse(y, y_pred)\n",
    "        \n",
    "        dQ = 2/n * X.T @ (y_pred - y) # градиент функции ошибки\n",
    "        dReg = reg * W # градиент регуляризации\n",
    "        W -= eta * dQ + dReg\n",
    "        if i % (iterations / 10) == 0:\n",
    "            print(f'Iter: {i}, weights: {W}, error {err}')\n",
    "    print(f'Final MSE: {calc_mse(y, np.dot(X, W))}')\n",
    "    return W"
   ]
  },
  {
   "cell_type": "code",
   "execution_count": 20,
   "metadata": {},
   "outputs": [
    {
     "name": "stdout",
     "output_type": "stream",
     "text": [
      "Iter: 0, weights: [ 1.81849821 -0.35874607  0.86065675  2.21999953], error 3237.0573038075286\n",
      "Iter: 500, weights: [23.23552455  5.04313872 -6.82819862 19.17474317], error 39.974980749611284\n",
      "Iter: 1000, weights: [27.65038261  5.92171544 -5.90289627 16.67824645], error 33.67272416112749\n",
      "Iter: 1500, weights: [30.67458656  6.02837758 -4.76805326 14.95197797], error 30.404586846741733\n",
      "Iter: 2000, weights: [32.83245296  6.05269008 -3.90590153 13.71854049], error 28.533624713147645\n",
      "Iter: 2500, weights: [34.38118341  6.06493842 -3.28186098 12.83311574], error 27.430557342943096\n",
      "Iter: 3000, weights: [35.49363474  6.07321715 -2.833088   12.1970992 ], error 26.762123546595426\n",
      "Iter: 3500, weights: [36.29279774  6.07911264 -2.51064598 11.74019584], error 26.345884267284163\n",
      "Iter: 4000, weights: [36.86690962  6.08334274 -2.27900115 11.41196019], error 26.0798656345564\n",
      "Iter: 4500, weights: [37.2793476   6.0863811  -2.1125886  11.17615797], error 25.905792714129387\n",
      "Final MSE: 25.789530443308415\n"
     ]
    }
   ],
   "source": [
    "W = gradient_descent_reg_l2(X_st, y, iterations=5000, eta=1e-2, reg=1e-4)"
   ]
  },
  {
   "cell_type": "code",
   "execution_count": 21,
   "metadata": {},
   "outputs": [
    {
     "name": "stdout",
     "output_type": "stream",
     "text": [
      "reg (lambda)=0.0\n",
      "Iter: 0, weights: [1.52224633 0.14578524 1.24153224 1.30884715], error 3460.986604075305\n",
      "Iter: 500, weights: [23.65789783  5.16831536 -6.82639995 18.98029511], error 39.28681138576552\n",
      "Iter: 1000, weights: [28.37802401  6.09661066 -5.82595585 16.31081672], error 32.86696255532151\n",
      "Iter: 1500, weights: [31.77924364  6.21537531 -4.54842767 14.36930213], error 29.443696731526632\n",
      "Iter: 2000, weights: [34.33084893  6.24399985 -3.52883627 12.91079925], error 27.49368586981772\n",
      "Iter: 2500, weights: [36.2561468   6.2592135  -2.75304986 11.81008671], error 26.381425890086938\n",
      "Iter: 3000, weights: [37.71003771  6.27003187 -2.16653571 10.9788605 ], error 25.74699160234652\n",
      "Iter: 3500, weights: [38.80806786  6.27813198 -1.72350822 10.3510866 ], error 25.38510942519747\n",
      "Iter: 4000, weights: [39.63735218  6.2842422  -1.38890544  9.8769618 ], error 25.178691339182567\n",
      "Iter: 4500, weights: [40.26366829  6.28885616 -1.13619627  9.51887952], error 25.06095018216428\n",
      "Final MSE: 24.993790466057522\n",
      "reg (lambda)=0.05\n",
      "Iter: 0, weights: [ 0.18197739 -0.8628087   0.13866813  3.07406045], error 3268.59166961911\n",
      "Iter: 500, weights: [ 8.9390248   0.71204912 -0.12593695 14.83141953], error 540.1981805355501\n",
      "Iter: 1000, weights: [ 8.9390248   0.71204912 -0.12593695 14.83141953], error 540.198180535527\n",
      "Iter: 1500, weights: [ 8.9390248   0.71204912 -0.12593695 14.83141953], error 540.198180535527\n",
      "Iter: 2000, weights: [ 8.9390248   0.71204912 -0.12593695 14.83141953], error 540.198180535527\n",
      "Iter: 2500, weights: [ 8.9390248   0.71204912 -0.12593695 14.83141953], error 540.198180535527\n",
      "Iter: 3000, weights: [ 8.9390248   0.71204912 -0.12593695 14.83141953], error 540.198180535527\n",
      "Iter: 3500, weights: [ 8.9390248   0.71204912 -0.12593695 14.83141953], error 540.198180535527\n",
      "Iter: 4000, weights: [ 8.9390248   0.71204912 -0.12593695 14.83141953], error 540.198180535527\n",
      "Iter: 4500, weights: [ 8.9390248   0.71204912 -0.12593695 14.83141953], error 540.198180535527\n",
      "Final MSE: 540.198180535527\n",
      "reg (lambda)=0.1\n",
      "Iter: 0, weights: [ 1.47259425 -1.32985074  0.66690625  1.41436495], error 3514.996448209695\n",
      "Iter: 500, weights: [ 6.31330114  0.71544684  0.3759989  10.95305481], error 1037.1616579116067\n",
      "Iter: 1000, weights: [ 6.31330114  0.71544684  0.3759989  10.95305481], error 1037.1616579116067\n",
      "Iter: 1500, weights: [ 6.31330114  0.71544684  0.3759989  10.95305481], error 1037.1616579116067\n",
      "Iter: 2000, weights: [ 6.31330114  0.71544684  0.3759989  10.95305481], error 1037.1616579116067\n",
      "Iter: 2500, weights: [ 6.31330114  0.71544684  0.3759989  10.95305481], error 1037.1616579116067\n",
      "Iter: 3000, weights: [ 6.31330114  0.71544684  0.3759989  10.95305481], error 1037.1616579116067\n",
      "Iter: 3500, weights: [ 6.31330114  0.71544684  0.3759989  10.95305481], error 1037.1616579116067\n",
      "Iter: 4000, weights: [ 6.31330114  0.71544684  0.3759989  10.95305481], error 1037.1616579116067\n",
      "Iter: 4500, weights: [ 6.31330114  0.71544684  0.3759989  10.95305481], error 1037.1616579116067\n",
      "Final MSE: 1037.1616579116067\n",
      "reg (lambda)=0.15000000000000002\n",
      "Iter: 0, weights: [1.548743   1.96946176 1.76300524 2.63510481], error 3063.1833809801797\n",
      "Iter: 500, weights: [4.91133043 0.64884369 0.45779347 8.67864195], error 1405.7862457209253\n",
      "Iter: 1000, weights: [4.91133043 0.64884369 0.45779347 8.67864195], error 1405.7862457209253\n",
      "Iter: 1500, weights: [4.91133043 0.64884369 0.45779347 8.67864195], error 1405.7862457209253\n",
      "Iter: 2000, weights: [4.91133043 0.64884369 0.45779347 8.67864195], error 1405.7862457209253\n",
      "Iter: 2500, weights: [4.91133043 0.64884369 0.45779347 8.67864195], error 1405.7862457209253\n",
      "Iter: 3000, weights: [4.91133043 0.64884369 0.45779347 8.67864195], error 1405.7862457209253\n",
      "Iter: 3500, weights: [4.91133043 0.64884369 0.45779347 8.67864195], error 1405.7862457209253\n",
      "Iter: 4000, weights: [4.91133043 0.64884369 0.45779347 8.67864195], error 1405.7862457209253\n",
      "Iter: 4500, weights: [4.91133043 0.64884369 0.45779347 8.67864195], error 1405.7862457209253\n",
      "Final MSE: 1405.7862457209253\n",
      "reg (lambda)=0.2\n",
      "Iter: 0, weights: [1.47821274 0.37510203 0.55460738 1.29711158], error 3516.922720765285\n",
      "Iter: 500, weights: [4.02577108 0.57845744 0.45319992 7.18618712], error 1679.2368700057687\n",
      "Iter: 1000, weights: [4.02577108 0.57845744 0.45319992 7.18618712], error 1679.2368700057687\n",
      "Iter: 1500, weights: [4.02577108 0.57845744 0.45319992 7.18618712], error 1679.2368700057687\n",
      "Iter: 2000, weights: [4.02577108 0.57845744 0.45319992 7.18618712], error 1679.2368700057687\n",
      "Iter: 2500, weights: [4.02577108 0.57845744 0.45319992 7.18618712], error 1679.2368700057687\n",
      "Iter: 3000, weights: [4.02577108 0.57845744 0.45319992 7.18618712], error 1679.2368700057687\n",
      "Iter: 3500, weights: [4.02577108 0.57845744 0.45319992 7.18618712], error 1679.2368700057687\n",
      "Iter: 4000, weights: [4.02577108 0.57845744 0.45319992 7.18618712], error 1679.2368700057687\n",
      "Iter: 4500, weights: [4.02577108 0.57845744 0.45319992 7.18618712], error 1679.2368700057687\n",
      "Final MSE: 1679.2368700057687\n",
      "reg (lambda)=0.25\n",
      "Iter: 0, weights: [2.19665001 1.17230452 0.2127458  2.6627352 ], error 2969.6863270661333\n",
      "Iter: 500, weights: [3.41303878 0.51702864 0.42720453 6.13175086], error 1887.6470491670996\n",
      "Iter: 1000, weights: [3.41303878 0.51702864 0.42720453 6.13175086], error 1887.6470491670996\n",
      "Iter: 1500, weights: [3.41303878 0.51702864 0.42720453 6.13175086], error 1887.6470491670996\n",
      "Iter: 2000, weights: [3.41303878 0.51702864 0.42720453 6.13175086], error 1887.6470491670996\n",
      "Iter: 2500, weights: [3.41303878 0.51702864 0.42720453 6.13175086], error 1887.6470491670996\n",
      "Iter: 3000, weights: [3.41303878 0.51702864 0.42720453 6.13175086], error 1887.6470491670996\n",
      "Iter: 3500, weights: [3.41303878 0.51702864 0.42720453 6.13175086], error 1887.6470491670996\n",
      "Iter: 4000, weights: [3.41303878 0.51702864 0.42720453 6.13175086], error 1887.6470491670996\n",
      "Iter: 4500, weights: [3.41303878 0.51702864 0.42720453 6.13175086], error 1887.6470491670996\n",
      "Final MSE: 1887.6470491670996\n",
      "reg (lambda)=0.30000000000000004\n",
      "Iter: 0, weights: [ 1.08270787  0.30106091 -0.26755834  1.74597794], error 3496.56880385134\n",
      "Iter: 500, weights: [2.96311108 0.46545563 0.39710991 5.34718981], error 2050.9355609564873\n",
      "Iter: 1000, weights: [2.96311108 0.46545563 0.39710991 5.34718981], error 2050.9355609564873\n",
      "Iter: 1500, weights: [2.96311108 0.46545563 0.39710991 5.34718981], error 2050.9355609564873\n",
      "Iter: 2000, weights: [2.96311108 0.46545563 0.39710991 5.34718981], error 2050.9355609564873\n",
      "Iter: 2500, weights: [2.96311108 0.46545563 0.39710991 5.34718981], error 2050.9355609564873\n",
      "Iter: 3000, weights: [2.96311108 0.46545563 0.39710991 5.34718981], error 2050.9355609564873\n",
      "Iter: 3500, weights: [2.96311108 0.46545563 0.39710991 5.34718981], error 2050.9355609564873\n",
      "Iter: 4000, weights: [2.96311108 0.46545563 0.39710991 5.34718981], error 2050.9355609564873\n",
      "Iter: 4500, weights: [2.96311108 0.46545563 0.39710991 5.34718981], error 2050.9355609564873\n",
      "Final MSE: 2050.9355609564873\n",
      "reg (lambda)=0.35000000000000003\n",
      "Iter: 0, weights: [1.21711739 0.5291888  0.52476382 2.61907345], error 3116.784922229738\n",
      "Iter: 500, weights: [2.61842713 0.42233225 0.36809343 4.74064594], error 2181.9986861322254\n",
      "Iter: 1000, weights: [2.61842713 0.42233225 0.36809343 4.74064594], error 2181.9986861322254\n",
      "Iter: 1500, weights: [2.61842713 0.42233225 0.36809343 4.74064594], error 2181.9986861322254\n",
      "Iter: 2000, weights: [2.61842713 0.42233225 0.36809343 4.74064594], error 2181.9986861322254\n",
      "Iter: 2500, weights: [2.61842713 0.42233225 0.36809343 4.74064594], error 2181.9986861322254\n",
      "Iter: 3000, weights: [2.61842713 0.42233225 0.36809343 4.74064594], error 2181.9986861322254\n",
      "Iter: 3500, weights: [2.61842713 0.42233225 0.36809343 4.74064594], error 2181.9986861322254\n",
      "Iter: 4000, weights: [2.61842713 0.42233225 0.36809343 4.74064594], error 2181.9986861322254\n",
      "Iter: 4500, weights: [2.61842713 0.42233225 0.36809343 4.74064594], error 2181.9986861322254\n",
      "Final MSE: 2181.9986861322254\n",
      "reg (lambda)=0.4\n",
      "Iter: 0, weights: [ 0.62479803  0.409494   -0.80390719  2.57272472], error 3304.8624815663716\n",
      "Iter: 500, weights: [2.3458052  0.38605149 0.3416337  4.25770052], error 2289.371282218247\n",
      "Iter: 1000, weights: [2.3458052  0.38605149 0.3416337  4.25770052], error 2289.371282218247\n",
      "Iter: 1500, weights: [2.3458052  0.38605149 0.3416337  4.25770052], error 2289.371282218247\n",
      "Iter: 2000, weights: [2.3458052  0.38605149 0.3416337  4.25770052], error 2289.371282218247\n",
      "Iter: 2500, weights: [2.3458052  0.38605149 0.3416337  4.25770052], error 2289.371282218247\n",
      "Iter: 3000, weights: [2.3458052  0.38605149 0.3416337  4.25770052], error 2289.371282218247\n",
      "Iter: 3500, weights: [2.3458052  0.38605149 0.3416337  4.25770052], error 2289.371282218247\n",
      "Iter: 4000, weights: [2.3458052  0.38605149 0.3416337  4.25770052], error 2289.371282218247\n",
      "Iter: 4500, weights: [2.3458052  0.38605149 0.3416337  4.25770052], error 2289.371282218247\n",
      "Final MSE: 2289.371282218247\n",
      "reg (lambda)=0.45\n",
      "Iter: 0, weights: [ 2.34098491 -0.03248246 -0.7825905   1.0694849 ], error 3605.909888627043\n",
      "Iter: 500, weights: [2.12472722 0.35524675 0.31797587 3.86406488], error 2378.8702163810535\n",
      "Iter: 1000, weights: [2.12472722 0.35524675 0.31797587 3.86406488], error 2378.8702163810535\n",
      "Iter: 1500, weights: [2.12472722 0.35524675 0.31797587 3.86406488], error 2378.8702163810535\n",
      "Iter: 2000, weights: [2.12472722 0.35524675 0.31797587 3.86406488], error 2378.8702163810535\n",
      "Iter: 2500, weights: [2.12472722 0.35524675 0.31797587 3.86406488], error 2378.8702163810535\n",
      "Iter: 3000, weights: [2.12472722 0.35524675 0.31797587 3.86406488], error 2378.8702163810535\n",
      "Iter: 3500, weights: [2.12472722 0.35524675 0.31797587 3.86406488], error 2378.8702163810535\n",
      "Iter: 4000, weights: [2.12472722 0.35524675 0.31797587 3.86406488], error 2378.8702163810535\n",
      "Iter: 4500, weights: [2.12472722 0.35524675 0.31797587 3.86406488], error 2378.8702163810535\n",
      "Final MSE: 2378.8702163810535\n",
      "reg (lambda)=0.5\n",
      "Iter: 0, weights: [0.90447642 0.67023494 0.15424932 2.36081483], error 3253.927302835633\n",
      "Iter: 500, weights: [1.94180758 0.32883691 0.2969514  3.53706047], error 2454.5756153211664\n",
      "Iter: 1000, weights: [1.94180758 0.32883691 0.2969514  3.53706047], error 2454.5756153211664\n",
      "Iter: 1500, weights: [1.94180758 0.32883691 0.2969514  3.53706047], error 2454.5756153211664\n",
      "Iter: 2000, weights: [1.94180758 0.32883691 0.2969514  3.53706047], error 2454.5756153211664\n",
      "Iter: 2500, weights: [1.94180758 0.32883691 0.2969514  3.53706047], error 2454.5756153211664\n",
      "Iter: 3000, weights: [1.94180758 0.32883691 0.2969514  3.53706047], error 2454.5756153211664\n",
      "Iter: 3500, weights: [1.94180758 0.32883691 0.2969514  3.53706047], error 2454.5756153211664\n",
      "Iter: 4000, weights: [1.94180758 0.32883691 0.2969514  3.53706047], error 2454.5756153211664\n",
      "Iter: 4500, weights: [1.94180758 0.32883691 0.2969514  3.53706047], error 2454.5756153211664\n",
      "Final MSE: 2454.5756153211664\n",
      "reg (lambda)=0.55\n",
      "Iter: 0, weights: [ 1.29367368e+00 -7.43580225e-04 -8.17725318e-02  2.16916055e+00], error 3292.4656841534734\n",
      "Iter: 500, weights: [1.78793509 0.30598298 0.27827133 3.26108828], error 2519.425256825663\n",
      "Iter: 1000, weights: [1.78793509 0.30598298 0.27827133 3.26108828], error 2519.425256825663\n",
      "Iter: 1500, weights: [1.78793509 0.30598298 0.27827133 3.26108828], error 2519.425256825663\n",
      "Iter: 2000, weights: [1.78793509 0.30598298 0.27827133 3.26108828], error 2519.425256825663\n",
      "Iter: 2500, weights: [1.78793509 0.30598298 0.27827133 3.26108828], error 2519.425256825663\n",
      "Iter: 3000, weights: [1.78793509 0.30598298 0.27827133 3.26108828], error 2519.425256825663\n",
      "Iter: 3500, weights: [1.78793509 0.30598298 0.27827133 3.26108828], error 2519.425256825663\n",
      "Iter: 4000, weights: [1.78793509 0.30598298 0.27827133 3.26108828], error 2519.425256825663\n",
      "Iter: 4500, weights: [1.78793509 0.30598298 0.27827133 3.26108828], error 2519.425256825663\n",
      "Final MSE: 2519.425256825663\n",
      "reg (lambda)=0.6000000000000001\n",
      "Iter: 0, weights: [1.42704351 0.23376642 0.18386508 2.42055287], error 3031.5036377344054\n",
      "Iter: 500, weights: [1.65668992 0.28603451 0.26163374 3.02506621], error 2575.584179484523\n",
      "Iter: 1000, weights: [1.65668992 0.28603451 0.26163374 3.02506621], error 2575.584179484523\n",
      "Iter: 1500, weights: [1.65668992 0.28603451 0.26163374 3.02506621], error 2575.584179484523\n",
      "Iter: 2000, weights: [1.65668992 0.28603451 0.26163374 3.02506621], error 2575.584179484523\n",
      "Iter: 2500, weights: [1.65668992 0.28603451 0.26163374 3.02506621], error 2575.584179484523\n",
      "Iter: 3000, weights: [1.65668992 0.28603451 0.26163374 3.02506621], error 2575.584179484523\n",
      "Iter: 3500, weights: [1.65668992 0.28603451 0.26163374 3.02506621], error 2575.584179484523\n",
      "Iter: 4000, weights: [1.65668992 0.28603451 0.26163374 3.02506621], error 2575.584179484523\n",
      "Iter: 4500, weights: [1.65668992 0.28603451 0.26163374 3.02506621], error 2575.584179484523\n",
      "Final MSE: 2575.584179484523\n",
      "reg (lambda)=0.65\n",
      "Iter: 0, weights: [ 1.44078389  0.29095956 -0.18756126  1.95059352], error 3367.813262893832\n",
      "Iter: 500, weights: [1.54341679 0.26848413 0.2467613  2.8209045 ], error 2624.6810826444153\n",
      "Iter: 1000, weights: [1.54341679 0.26848413 0.2467613  2.8209045 ], error 2624.6810826444153\n",
      "Iter: 1500, weights: [1.54341679 0.26848413 0.2467613  2.8209045 ], error 2624.6810826444153\n",
      "Iter: 2000, weights: [1.54341679 0.26848413 0.2467613  2.8209045 ], error 2624.6810826444153\n",
      "Iter: 2500, weights: [1.54341679 0.26848413 0.2467613  2.8209045 ], error 2624.6810826444153\n",
      "Iter: 3000, weights: [1.54341679 0.26848413 0.2467613  2.8209045 ], error 2624.6810826444153\n",
      "Iter: 3500, weights: [1.54341679 0.26848413 0.2467613  2.8209045 ], error 2624.6810826444153\n",
      "Iter: 4000, weights: [1.54341679 0.26848413 0.2467613  2.8209045 ], error 2624.6810826444153\n",
      "Iter: 4500, weights: [1.54341679 0.26848413 0.2467613  2.8209045 ], error 2624.6810826444153\n",
      "Final MSE: 2624.6810826444153\n",
      "reg (lambda)=0.7000000000000001\n",
      "Iter: 0, weights: [0.63643582 0.06359266 0.65449928 2.30491423], error 3360.63747112141\n",
      "Iter: 500, weights: [1.44465691 0.25293247 0.23341183 2.64255955], error 2667.963673275027\n",
      "Iter: 1000, weights: [1.44465691 0.25293247 0.23341183 2.64255955], error 2667.963673275027\n",
      "Iter: 1500, weights: [1.44465691 0.25293247 0.23341183 2.64255955], error 2667.963673275027\n",
      "Iter: 2000, weights: [1.44465691 0.25293247 0.23341183 2.64255955], error 2667.963673275027\n",
      "Iter: 2500, weights: [1.44465691 0.25293247 0.23341183 2.64255955], error 2667.963673275027\n",
      "Iter: 3000, weights: [1.44465691 0.25293247 0.23341183 2.64255955], error 2667.963673275027\n",
      "Iter: 3500, weights: [1.44465691 0.25293247 0.23341183 2.64255955], error 2667.963673275027\n",
      "Iter: 4000, weights: [1.44465691 0.25293247 0.23341183 2.64255955], error 2667.963673275027\n",
      "Iter: 4500, weights: [1.44465691 0.25293247 0.23341183 2.64255955], error 2667.963673275027\n",
      "Final MSE: 2667.963673275027\n",
      "reg (lambda)=0.75\n",
      "Iter: 0, weights: [ 0.7919896   0.60715622 -0.09095438  2.07109428], error 3602.646192468497\n",
      "Iter: 500, weights: [1.35778641 0.23906207 0.22137836 2.48542547], error 2706.4033346816786\n",
      "Iter: 1000, weights: [1.35778641 0.23906207 0.22137836 2.48542547], error 2706.4033346816786\n",
      "Iter: 1500, weights: [1.35778641 0.23906207 0.22137836 2.48542547], error 2706.4033346816786\n",
      "Iter: 2000, weights: [1.35778641 0.23906207 0.22137836 2.48542547], error 2706.4033346816786\n",
      "Iter: 2500, weights: [1.35778641 0.23906207 0.22137836 2.48542547], error 2706.4033346816786\n",
      "Iter: 3000, weights: [1.35778641 0.23906207 0.22137836 2.48542547], error 2706.4033346816786\n",
      "Iter: 3500, weights: [1.35778641 0.23906207 0.22137836 2.48542547], error 2706.4033346816786\n",
      "Iter: 4000, weights: [1.35778641 0.23906207 0.22137836 2.48542547], error 2706.4033346816786\n",
      "Iter: 4500, weights: [1.35778641 0.23906207 0.22137836 2.48542547], error 2706.4033346816786\n",
      "Final MSE: 2706.4033346816786\n",
      "reg (lambda)=0.8\n",
      "Iter: 0, weights: [1.11049902 0.35587307 0.27149855 2.08647679], error 3324.8116291684833\n",
      "Iter: 500, weights: [1.28077849 0.22661799 0.21048567 2.34593055], error 2740.7672736036743\n",
      "Iter: 1000, weights: [1.28077849 0.22661799 0.21048567 2.34593055], error 2740.7672736036743\n",
      "Iter: 1500, weights: [1.28077849 0.22661799 0.21048567 2.34593055], error 2740.7672736036743\n",
      "Iter: 2000, weights: [1.28077849 0.22661799 0.21048567 2.34593055], error 2740.7672736036743\n",
      "Iter: 2500, weights: [1.28077849 0.22661799 0.21048567 2.34593055], error 2740.7672736036743\n",
      "Iter: 3000, weights: [1.28077849 0.22661799 0.21048567 2.34593055], error 2740.7672736036743\n",
      "Iter: 3500, weights: [1.28077849 0.22661799 0.21048567 2.34593055], error 2740.7672736036743\n",
      "Iter: 4000, weights: [1.28077849 0.22661799 0.21048567 2.34593055], error 2740.7672736036743\n",
      "Iter: 4500, weights: [1.28077849 0.22661799 0.21048567 2.34593055], error 2740.7672736036743\n",
      "Final MSE: 2740.7672736036743\n",
      "reg (lambda)=0.8500000000000001\n",
      "Iter: 0, weights: [0.99154512 0.07007492 0.3770929  2.03497775], error 3789.0799179784362\n",
      "Iter: 500, weights: [1.21204262 0.21539357 0.2005858  2.22126239], error 2771.669286765749\n",
      "Iter: 1000, weights: [1.21204262 0.21539357 0.2005858  2.22126239], error 2771.669286765749\n",
      "Iter: 1500, weights: [1.21204262 0.21539357 0.2005858  2.22126239], error 2771.669286765749\n",
      "Iter: 2000, weights: [1.21204262 0.21539357 0.2005858  2.22126239], error 2771.669286765749\n",
      "Iter: 2500, weights: [1.21204262 0.21539357 0.2005858  2.22126239], error 2771.669286765749\n",
      "Iter: 3000, weights: [1.21204262 0.21539357 0.2005858  2.22126239], error 2771.669286765749\n",
      "Iter: 3500, weights: [1.21204262 0.21539357 0.2005858  2.22126239], error 2771.669286765749\n",
      "Iter: 4000, weights: [1.21204262 0.21539357 0.2005858  2.22126239], error 2771.669286765749\n",
      "Iter: 4500, weights: [1.21204262 0.21539357 0.2005858  2.22126239], error 2771.669286765749\n",
      "Final MSE: 2771.669286765749\n",
      "reg (lambda)=0.9\n",
      "Iter: 0, weights: [1.09371761 0.18422087 0.20956772 2.11530543], error 3306.094658066766\n",
      "Iter: 500, weights: [1.15031305 0.20521968 0.19155373 2.10917633], error 2799.606156084879\n",
      "Iter: 1000, weights: [1.15031305 0.20521968 0.19155373 2.10917633], error 2799.606156084879\n",
      "Iter: 1500, weights: [1.15031305 0.20521968 0.19155373 2.10917633], error 2799.606156084879\n",
      "Iter: 2000, weights: [1.15031305 0.20521968 0.19155373 2.10917633], error 2799.606156084879\n",
      "Iter: 2500, weights: [1.15031305 0.20521968 0.19155373 2.10917633], error 2799.606156084879\n",
      "Iter: 3000, weights: [1.15031305 0.20521968 0.19155373 2.10917633], error 2799.606156084879\n",
      "Iter: 3500, weights: [1.15031305 0.20521968 0.19155373 2.10917633], error 2799.606156084879\n",
      "Iter: 4000, weights: [1.15031305 0.20521968 0.19155373 2.10917633], error 2799.606156084879\n",
      "Iter: 4500, weights: [1.15031305 0.20521968 0.19155373 2.10917633], error 2799.606156084879\n",
      "Final MSE: 2799.606156084879\n",
      "reg (lambda)=0.9500000000000001\n",
      "Iter: 0, weights: [1.1306385  0.1974152  0.21609838 2.11124422], error 3428.3605227513226\n",
      "Iter: 500, weights: [1.09456989 0.19595673 0.18328353 2.00785905], error 2824.984186175308\n",
      "Iter: 1000, weights: [1.09456989 0.19595673 0.18328353 2.00785905], error 2824.984186175308\n",
      "Iter: 1500, weights: [1.09456989 0.19595673 0.18328353 2.00785905], error 2824.984186175308\n",
      "Iter: 2000, weights: [1.09456989 0.19595673 0.18328353 2.00785905], error 2824.984186175308\n",
      "Iter: 2500, weights: [1.09456989 0.19595673 0.18328353 2.00785905], error 2824.984186175308\n",
      "Iter: 3000, weights: [1.09456989 0.19595673 0.18328353 2.00785905], error 2824.984186175308\n",
      "Iter: 3500, weights: [1.09456989 0.19595673 0.18328353 2.00785905], error 2824.984186175308\n",
      "Iter: 4000, weights: [1.09456989 0.19595673 0.18328353 2.00785905], error 2824.984186175308\n",
      "Iter: 4500, weights: [1.09456989 0.19595673 0.18328353 2.00785905], error 2824.984186175308\n",
      "Final MSE: 2824.984186175308\n"
     ]
    }
   ],
   "source": [
    "W_list = []\n",
    "reg_list = []\n",
    "\n",
    "for reg in np.arange(0, 1, 0.05):\n",
    "    print(f'reg (lambda)={reg}')\n",
    "    W = gradient_descent_reg_l2(X_st, y, iterations=5000, eta=1e-2, reg=reg)\n",
    "    W_list.append(W)\n",
    "    reg_list.append(reg)"
   ]
  },
  {
   "cell_type": "code",
   "execution_count": 22,
   "metadata": {},
   "outputs": [
    {
     "data": {
      "image/png": "[encoded data removed]",
      "text/plain": [
       "<Figure size 432x288 with 1 Axes>"
      ]
     },
     "metadata": {
      "needs_background": "light"
     },
     "output_type": "display_data"
    }
   ],
   "source": [
    "plt.plot(reg_list, W_list)\n",
    "plt.title('График зависимости весов всех признаков \\n от lambda в самописной L2-регуляризации')\n",
    "#plt.xticks(np.arange(0, 101, 10))\n",
    "plt.xlabel('reg (lambda)')\n",
    "plt.ylabel('Веса признаков');"
   ]
  },
  {
   "cell_type": "markdown",
   "metadata": {},
   "source": [
    "Можно ли к одному и тому же признаку применить сразу и нормализацию, и стандартизацию?"
   ]
  },
  {
   "cell_type": "code",
   "execution_count": 23,
   "metadata": {},
   "outputs": [
    {
     "name": "stdout",
     "output_type": "stream",
     "text": [
      "[[ 1.         -0.70710678 -0.97958969  1.        ]\n",
      " [ 1.         -0.70710678 -0.56713087  1.        ]\n",
      " [ 1.         -0.35355339 -0.46401617  2.        ]\n",
      " [ 1.          0.70710678 -0.77336028  1.        ]\n",
      " [ 1.          0.          0.97958969  2.        ]\n",
      " [ 1.         -1.06066017 -0.36090146  1.        ]\n",
      " [ 1.          0.70710678  1.08270439  3.        ]\n",
      " [ 1.          2.47487373  2.11385144  3.        ]\n",
      " [ 1.         -0.70710678 -1.08270439  1.        ]\n",
      " [ 1.         -0.35355339  0.05155735  2.        ]]\n"
     ]
    },
    {
     "data": {
      "text/plain": [
       "array([[1.        , 0.1       , 0.03225806, 1.        ],\n",
       "       [1.        , 0.1       , 0.16129032, 1.        ],\n",
       "       [1.        , 0.2       , 0.19354839, 2.        ],\n",
       "       [1.        , 0.5       , 0.09677419, 1.        ],\n",
       "       [1.        , 0.3       , 0.64516129, 2.        ],\n",
       "       [1.        , 0.        , 0.22580645, 1.        ],\n",
       "       [1.        , 0.5       , 0.67741935, 3.        ],\n",
       "       [1.        , 1.        , 1.        , 3.        ],\n",
       "       [1.        , 0.1       , 0.        , 1.        ],\n",
       "       [1.        , 0.2       , 0.35483871, 2.        ]])"
      ]
     },
     "execution_count": 23,
     "metadata": {},
     "output_type": "execute_result"
    }
   ],
   "source": [
    "X_st = X.copy().astype(np.float64)\n",
    "X_norm = X.copy().astype(np.float64)\n",
    "X_st[:, 1] = standart_scale(X_st[:, 1])\n",
    "X_st[:, 2] = standart_scale(X_st[:, 2])\n",
    "print(X_st)\n",
    "\n",
    "X_norm[:, 1] = normal_scale(X_st[:, 1])\n",
    "X_norm[:, 2] = normal_scale(X_st[:, 2])\n",
    "X_norm"
   ]
  },
  {
   "cell_type": "code",
   "execution_count": 24,
   "metadata": {},
   "outputs": [
    {
     "data": {
      "image/png": "[encoded data removed]",
      "text/plain": [
       "<Figure size 432x288 with 1 Axes>"
      ]
     },
     "metadata": {
      "needs_background": "light"
     },
     "output_type": "display_data"
    }
   ],
   "source": [
    "plt.hist(X_st, bins=5);"
   ]
  },
  {
   "cell_type": "code",
   "execution_count": 25,
   "metadata": {},
   "outputs": [
    {
     "data": {
      "image/png": "[encoded data removed]",
      "text/plain": [
       "<Figure size 432x288 with 1 Axes>"
      ]
     },
     "metadata": {
      "needs_background": "light"
     },
     "output_type": "display_data"
    }
   ],
   "source": [
    "plt.hist(X_norm, bins=5);"
   ]
  },
  {
   "cell_type": "code",
   "execution_count": null,
   "metadata": {},
   "outputs": [],
   "source": []
  }
 ],
 "metadata": {
  "kernelspec": {
   "display_name": "Python 3",
   "language": "python",
   "name": "python3"
  },
  "language_info": {
   "codemirror_mode": {
    "name": "ipython",
    "version": 3
   },
   "file_extension": ".py",
   "mimetype": "text/x-python",
   "name": "python",
   "nbconvert_exporter": "python",
   "pygments_lexer": "ipython3",
   "version": "3.8.5"
  }
 },
 "nbformat": 4,
 "nbformat_minor": 4
}
