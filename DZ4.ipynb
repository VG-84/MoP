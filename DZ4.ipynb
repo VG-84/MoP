{
 "cells": [
  {
   "cell_type": "code",
   "execution_count": 1,
   "metadata": {},
   "outputs": [],
   "source": [
    "import pandas as pd\n",
    "import numpy as np\n",
    "from scipy.optimize import fsolve\n",
    "import scipy.stats as ss"
   ]
  },
  {
   "cell_type": "markdown",
   "metadata": {},
   "source": [
    "Случайная непрерывная величина A имеет равномерное распределение на промежутке (200, 800].\n",
    "Найдите ее среднее значение и дисперсию"
   ]
  },
  {
   "cell_type": "markdown",
   "metadata": {},
   "source": [
    "M(X) = 200 + 800/2 = 500"
   ]
  },
  {
   "cell_type": "markdown",
   "metadata": {},
   "source": [
    "D(X) = (800-200)*2/12 = 30000"
   ]
  },
  {
   "cell_type": "markdown",
   "metadata": {},
   "source": [
    "О случайной непрерывной равномерно распределенной величине B известно, что ее дисперсия равна 0.2.\n",
    "Можно ли найти правую границу величины B и ее среднее значение зная, что левая граница равна 0.5?\n",
    "Если да, найдите ее."
   ]
  },
  {
   "cell_type": "code",
   "execution_count": 2,
   "metadata": {},
   "outputs": [
    {
     "name": "stdout",
     "output_type": "stream",
     "text": [
      "Правая граница B = 2.049, а математическое ожидание M = 1.275\n"
     ]
    }
   ],
   "source": [
    "D = 0.2\n",
    "A = 0.5\n",
    "def equations(x):\n",
    "    return ((x-A)**2/12-D)\n",
    "\n",
    "B = float(fsolve(equations, (2))) # с помощью встроенной функции численного высчисления найходим корень уравнения\n",
    "M = (A + B)/2\n",
    "\n",
    "print(f'Правая граница B = {B:.4}, а математическое ожидание M = {M:.4}')"
   ]
  },
  {
   "cell_type": "markdown",
   "metadata": {},
   "source": [
    "Непрерывная случайная величина X распределена нормально и задана плотностью распределения\n",
    "f(x) = (1 / (4 * sqrt(2*pi))) * (exp(-((x+2)**2) / 32))\n",
    "Найдите:\n",
    "а). M(X) = -2\n",
    "б). D(X) = 16\n",
    "в). std(X) (среднее квадратичное отклонение) = 4"
   ]
  },
  {
   "cell_type": "markdown",
   "metadata": {},
   "source": [
    "Рост взрослого населения города X имеет нормальное распределение.\n",
    "Причем, средний рост равен 174 см, а среднее квадратичное отклонение равно 8 см.\n",
    "Какова вероятность того, что случайным образом выбранный взрослый человек имеет рост:\n",
    "а). больше 182 см\n",
    "б). больше 190 см\n",
    "в). от 166 см до 190 см\n",
    "г). от 166 см до 182 см\n",
    "д). от 158 см до 190 см\n",
    "е). не выше 150 см или не ниже 190 см\n",
    "ё). не выше 150 см или не ниже 198 см\n",
    "ж). ниже 166 см."
   ]
  },
  {
   "cell_type": "code",
   "execution_count": 3,
   "metadata": {},
   "outputs": [
    {
     "name": "stdout",
     "output_type": "stream",
     "text": [
      "Ответ:\n",
      "\tа) больше 182 см: 0.1587\n",
      "\tб) больше 190 см: 0.0228\n",
      "\tв) от 166 см до 190 см: 0.8186\n",
      "\tг) от 166 см до 182 см: 0.6827\n",
      "\tд) от 158 см до 190 см: 0.9545\n",
      "\tе) не выше 150 см или не ниже 190 см: 0.0241\n",
      "\tё) не выше 150 см или не ниже 198 см: 0.0027\n",
      "\tж) ниже 166 см.: 0.1587\n"
     ]
    }
   ],
   "source": [
    "M = 174\n",
    "S = 8\n",
    "\n",
    "p1 = 1 - ss.norm.cdf((182 - M) / S) - ss.norm.cdf((0 - M) / S)\n",
    "p2 = 1 - ss.norm.cdf((190 - M) / S) - ss.norm.cdf((0 - M) / S)\n",
    "p3 = ss.norm.cdf((190 - M) / S) - ss.norm.cdf((166 - M) / S)\n",
    "p4 = ss.norm.cdf((182 - M) / S) - ss.norm.cdf((166 - M) / S)\n",
    "p5 = ss.norm.cdf((190 - M) / S) - ss.norm.cdf((158 - M) / S)\n",
    "p6 = (1 - ss.norm.cdf((190 - M) / S) - ss.norm.cdf((0 - M) / S)) + (ss.norm.cdf((150 - M) / S) - ss.norm.cdf((0 - M) / S))\n",
    "p7 = (1 - ss.norm.cdf((198 - M) / S) - ss.norm.cdf((0 - M) / S)) + (ss.norm.cdf((150 - M) / S) - ss.norm.cdf((0 - M) / S))\n",
    "p8 = ss.norm.cdf((166 - M) / S) - ss.norm.cdf((0 - M) / S)\n",
    "\n",
    "print('Ответ:')\n",
    "print(f'\\tа) больше 182 см: {np.round(p1, 4)}')\n",
    "print(f'\\tб) больше 190 см: {np.round(p2, 4)}')\n",
    "print(f'\\tв) от 166 см до 190 см: {np.round(p3, 4)}')\n",
    "print(f'\\tг) от 166 см до 182 см: {np.round(p4, 4)}')\n",
    "print(f'\\tд) от 158 см до 190 см: {np.round(p5, 4)}')\n",
    "print(f'\\tе) не выше 150 см или не ниже 190 см: {np.round(p6, 4)}')\n",
    "print(f'\\tё) не выше 150 см или не ниже 198 см: {np.round(p7, 4)}')\n",
    "print(f'\\tж) ниже 166 см.: {np.round(p8, 4)}')"
   ]
  },
  {
   "cell_type": "markdown",
   "metadata": {},
   "source": [
    "На сколько сигм (средних квадратичных отклонений) отклоняется рост человека, равный 190 см, от\n",
    "математического ожидания роста в популяции, в которой M(X) = 178 см и D(X) = 25 кв.см?"
   ]
  },
  {
   "cell_type": "code",
   "execution_count": 4,
   "metadata": {},
   "outputs": [
    {
     "name": "stdout",
     "output_type": "stream",
     "text": [
      "На 2.4 среднеквадратических отклонений отклоняется рост в 190 см\n"
     ]
    }
   ],
   "source": [
    "M = 178\n",
    "D = 25\n",
    "R = 190\n",
    "\n",
    "sigma = np.sqrt(D)\n",
    "\n",
    "print(f'На {(R - M)/sigma} среднеквадратических отклонений отклоняется рост в 190 см')"
   ]
  },
  {
   "cell_type": "code",
   "execution_count": null,
   "metadata": {},
   "outputs": [],
   "source": []
  }
 ],
 "metadata": {
  "kernelspec": {
   "display_name": "Python 3",
   "language": "python",
   "name": "python3"
  },
  "language_info": {
   "codemirror_mode": {
    "name": "ipython",
    "version": 3
   },
   "file_extension": ".py",
   "mimetype": "text/x-python",
   "name": "python",
   "nbconvert_exporter": "python",
   "pygments_lexer": "ipython3",
   "version": "3.8.5"
  }
 },
 "nbformat": 4,
 "nbformat_minor": 4
}
