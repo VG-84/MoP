{
 "cells": [
  {
   "cell_type": "markdown",
   "metadata": {},
   "source": [
    "# Курсовой проект \"Рекомендательные системы\""
   ]
  },
  {
   "cell_type": "code",
   "execution_count": 103,
   "metadata": {
    "ExecuteTime": {
     "end_time": "2021-02-23T14:41:45.949110Z",
     "start_time": "2021-02-23T14:41:45.910241Z"
    }
   },
   "outputs": [],
   "source": [
    "import pandas as pd\n",
    "import numpy as np\n",
    "import matplotlib.pyplot as plt\n",
    "%matplotlib inline\n",
    "import seaborn as sns\n",
    "\n",
    "# Для работы с матрицами\n",
    "from scipy.sparse import csr_matrix\n",
    "\n",
    "# Матричная факторизация\n",
    "from implicit import als\n",
    "\n",
    "# Модель второго уровня\n",
    "from lightgbm import LGBMClassifier\n",
    "import lightgbm as lgb\n",
    "from catboost import CatBoostClassifier, Pool\n",
    "from sklearn.model_selection import train_test_split\n",
    "from sklearn.metrics import roc_auc_score\n",
    "\n",
    "import os, sys\n",
    "module_path = os.path.abspath(os.path.join(os.pardir))\n",
    "if module_path not in sys.path:\n",
    "    sys.path.append(module_path)\n",
    "\n",
    "# Написанные нами функции\n",
    "from src.metrics import precision_at_k, recall_at_k\n",
    "from src.utils import prefilter_items\n",
    "from src.recommenders import MainRecommender"
   ]
  },
  {
   "cell_type": "markdown",
   "metadata": {},
   "source": [
    "**Загрузка данных**"
   ]
  },
  {
   "cell_type": "code",
   "execution_count": 72,
   "metadata": {
    "ExecuteTime": {
     "end_time": "2021-02-23T11:44:08.172597Z",
     "start_time": "2021-02-23T11:44:06.503271Z"
    }
   },
   "outputs": [],
   "source": [
    "data = pd.read_csv('../../data/rec_sys/retail_train.csv')\n",
    "item_features = pd.read_csv('../../data/rec_sys/product.csv')\n",
    "user_features = pd.read_csv('../../data/rec_sys/hh_demographic.csv')"
   ]
  },
  {
   "cell_type": "markdown",
   "metadata": {},
   "source": [
    "**Обработка столбцов**"
   ]
  },
  {
   "cell_type": "code",
   "execution_count": 3,
   "metadata": {
    "ExecuteTime": {
     "end_time": "2021-02-23T09:49:04.439157Z",
     "start_time": "2021-02-23T09:49:04.423894Z"
    }
   },
   "outputs": [],
   "source": [
    "item_features.columns = [col.lower() for col in item_features.columns]\n",
    "user_features.columns = [col.lower() for col in user_features.columns]\n",
    "\n",
    "item_features.rename(columns={'product_id': 'item_id'}, inplace=True)\n",
    "user_features.rename(columns={'household_key': 'user_id'}, inplace=True)"
   ]
  },
  {
   "cell_type": "markdown",
   "metadata": {},
   "source": [
    "Важна схема обучения и валидации!\n",
    "\n",
    "-- давние покупки -- | -- 6 недель -- | -- 3 недели -- \n",
    "\n",
    "подобрать размер 2-ого датасета (6 недель) --> learning curve (зависимость метрики recall@k от размера датасета)"
   ]
  },
  {
   "cell_type": "code",
   "execution_count": 4,
   "metadata": {
    "ExecuteTime": {
     "end_time": "2021-02-23T09:49:04.628553Z",
     "start_time": "2021-02-23T09:49:04.441150Z"
    }
   },
   "outputs": [
    {
     "data": {
      "text/html": [
       "<div>\n",
       "<style scoped>\n",
       "    .dataframe tbody tr th:only-of-type {\n",
       "        vertical-align: middle;\n",
       "    }\n",
       "\n",
       "    .dataframe tbody tr th {\n",
       "        vertical-align: top;\n",
       "    }\n",
       "\n",
       "    .dataframe thead th {\n",
       "        text-align: right;\n",
       "    }\n",
       "</style>\n",
       "<table border=\"1\" class=\"dataframe\">\n",
       "  <thead>\n",
       "    <tr style=\"text-align: right;\">\n",
       "      <th></th>\n",
       "      <th>user_id</th>\n",
       "      <th>basket_id</th>\n",
       "      <th>day</th>\n",
       "      <th>item_id</th>\n",
       "      <th>quantity</th>\n",
       "      <th>sales_value</th>\n",
       "      <th>store_id</th>\n",
       "      <th>retail_disc</th>\n",
       "      <th>trans_time</th>\n",
       "      <th>week_no</th>\n",
       "      <th>coupon_disc</th>\n",
       "      <th>coupon_match_disc</th>\n",
       "    </tr>\n",
       "  </thead>\n",
       "  <tbody>\n",
       "    <tr>\n",
       "      <th>0</th>\n",
       "      <td>2375</td>\n",
       "      <td>26984851472</td>\n",
       "      <td>1</td>\n",
       "      <td>1004906</td>\n",
       "      <td>1</td>\n",
       "      <td>1.39</td>\n",
       "      <td>364</td>\n",
       "      <td>-0.6</td>\n",
       "      <td>1631</td>\n",
       "      <td>1</td>\n",
       "      <td>0.0</td>\n",
       "      <td>0.0</td>\n",
       "    </tr>\n",
       "    <tr>\n",
       "      <th>1</th>\n",
       "      <td>2375</td>\n",
       "      <td>26984851472</td>\n",
       "      <td>1</td>\n",
       "      <td>1033142</td>\n",
       "      <td>1</td>\n",
       "      <td>0.82</td>\n",
       "      <td>364</td>\n",
       "      <td>0.0</td>\n",
       "      <td>1631</td>\n",
       "      <td>1</td>\n",
       "      <td>0.0</td>\n",
       "      <td>0.0</td>\n",
       "    </tr>\n",
       "  </tbody>\n",
       "</table>\n",
       "</div>"
      ],
      "text/plain": [
       "   user_id    basket_id  day  item_id  quantity  sales_value  store_id  \\\n",
       "0     2375  26984851472    1  1004906         1         1.39       364   \n",
       "1     2375  26984851472    1  1033142         1         0.82       364   \n",
       "\n",
       "   retail_disc  trans_time  week_no  coupon_disc  coupon_match_disc  \n",
       "0         -0.6        1631        1          0.0                0.0  \n",
       "1          0.0        1631        1          0.0                0.0  "
      ]
     },
     "execution_count": 4,
     "metadata": {},
     "output_type": "execute_result"
    }
   ],
   "source": [
    "val_lvl_1_size_weeks = 6\n",
    "val_lvl_2_size_weeks = 3\n",
    "\n",
    "data_train_lvl_1 = data[data['week_no'] < data['week_no'].max() - (val_lvl_1_size_weeks + val_lvl_2_size_weeks)]\n",
    "data_val_lvl_1 = data[(data['week_no'] >= data['week_no'].max() - (val_lvl_1_size_weeks + val_lvl_2_size_weeks)) &\n",
    "                      (data['week_no'] < data['week_no'].max() - (val_lvl_2_size_weeks))]\n",
    "\n",
    "data_train_lvl_2 = data_val_lvl_1.copy()  \n",
    "data_val_lvl_2 = data[data['week_no'] >= data['week_no'].max() - val_lvl_2_size_weeks]\n",
    "\n",
    "data_train_lvl_1.head(2)"
   ]
  },
  {
   "cell_type": "markdown",
   "metadata": {},
   "source": [
    "**Появление новых пользователей на валидационной и тестовой выборках**"
   ]
  },
  {
   "cell_type": "code",
   "execution_count": 5,
   "metadata": {
    "ExecuteTime": {
     "end_time": "2021-02-23T09:49:04.675926Z",
     "start_time": "2021-02-23T09:49:04.630496Z"
    }
   },
   "outputs": [
    {
     "name": "stdout",
     "output_type": "stream",
     "text": [
      "Количество пользователей в интервале до 6 нед: [1984]\n",
      "Количество новых пользователей в интервале 6 нед: []\n",
      "Количество новых пользователей в интервале 3 нед: 126\n"
     ]
    }
   ],
   "source": [
    "users_lvl_1 = data_train_lvl_1.user_id.unique()\n",
    "users_lvl_2 = data_val_lvl_1.user_id.unique()\n",
    "users_lvl_3 = data_val_lvl_2.user_id.unique()\n",
    "\n",
    "new_users_lvl_2 = list(set(users_lvl_2) - set(users_lvl_1))\n",
    "new_users_lvl_3 = list(set(users_lvl_3) - (set(users_lvl_1) | set(users_lvl_2)))\n",
    "\n",
    "add_to_lvl_2 = list(set(users_lvl_3) - (set(users_lvl_2)))\n",
    "\n",
    "print('Количество пользователей в интервале до 6 нед:', new_users_lvl_2)\n",
    "print('Количество новых пользователей в интервале 6 нед:', new_users_lvl_3)\n",
    "print('Количество новых пользователей в интервале 3 нед:', len(add_to_lvl_2))"
   ]
  },
  {
   "cell_type": "markdown",
   "metadata": {},
   "source": [
    "## Обзор датасета"
   ]
  },
  {
   "cell_type": "code",
   "execution_count": 6,
   "metadata": {
    "ExecuteTime": {
     "end_time": "2021-02-23T09:49:04.707693Z",
     "start_time": "2021-02-23T09:49:04.676923Z"
    }
   },
   "outputs": [
    {
     "data": {
      "text/html": [
       "<div>\n",
       "<style scoped>\n",
       "    .dataframe tbody tr th:only-of-type {\n",
       "        vertical-align: middle;\n",
       "    }\n",
       "\n",
       "    .dataframe tbody tr th {\n",
       "        vertical-align: top;\n",
       "    }\n",
       "\n",
       "    .dataframe thead th {\n",
       "        text-align: right;\n",
       "    }\n",
       "</style>\n",
       "<table border=\"1\" class=\"dataframe\">\n",
       "  <thead>\n",
       "    <tr style=\"text-align: right;\">\n",
       "      <th></th>\n",
       "      <th>user_id</th>\n",
       "      <th>basket_id</th>\n",
       "      <th>day</th>\n",
       "      <th>item_id</th>\n",
       "      <th>quantity</th>\n",
       "      <th>sales_value</th>\n",
       "      <th>store_id</th>\n",
       "      <th>retail_disc</th>\n",
       "      <th>trans_time</th>\n",
       "      <th>week_no</th>\n",
       "      <th>coupon_disc</th>\n",
       "      <th>coupon_match_disc</th>\n",
       "    </tr>\n",
       "  </thead>\n",
       "  <tbody>\n",
       "    <tr>\n",
       "      <th>0</th>\n",
       "      <td>2375</td>\n",
       "      <td>26984851472</td>\n",
       "      <td>1</td>\n",
       "      <td>1004906</td>\n",
       "      <td>1</td>\n",
       "      <td>1.39</td>\n",
       "      <td>364</td>\n",
       "      <td>-0.60</td>\n",
       "      <td>1631</td>\n",
       "      <td>1</td>\n",
       "      <td>0.0</td>\n",
       "      <td>0.0</td>\n",
       "    </tr>\n",
       "    <tr>\n",
       "      <th>1</th>\n",
       "      <td>2375</td>\n",
       "      <td>26984851472</td>\n",
       "      <td>1</td>\n",
       "      <td>1033142</td>\n",
       "      <td>1</td>\n",
       "      <td>0.82</td>\n",
       "      <td>364</td>\n",
       "      <td>0.00</td>\n",
       "      <td>1631</td>\n",
       "      <td>1</td>\n",
       "      <td>0.0</td>\n",
       "      <td>0.0</td>\n",
       "    </tr>\n",
       "    <tr>\n",
       "      <th>2</th>\n",
       "      <td>2375</td>\n",
       "      <td>26984851472</td>\n",
       "      <td>1</td>\n",
       "      <td>1036325</td>\n",
       "      <td>1</td>\n",
       "      <td>0.99</td>\n",
       "      <td>364</td>\n",
       "      <td>-0.30</td>\n",
       "      <td>1631</td>\n",
       "      <td>1</td>\n",
       "      <td>0.0</td>\n",
       "      <td>0.0</td>\n",
       "    </tr>\n",
       "    <tr>\n",
       "      <th>3</th>\n",
       "      <td>2375</td>\n",
       "      <td>26984851472</td>\n",
       "      <td>1</td>\n",
       "      <td>1082185</td>\n",
       "      <td>1</td>\n",
       "      <td>1.21</td>\n",
       "      <td>364</td>\n",
       "      <td>0.00</td>\n",
       "      <td>1631</td>\n",
       "      <td>1</td>\n",
       "      <td>0.0</td>\n",
       "      <td>0.0</td>\n",
       "    </tr>\n",
       "    <tr>\n",
       "      <th>4</th>\n",
       "      <td>2375</td>\n",
       "      <td>26984851472</td>\n",
       "      <td>1</td>\n",
       "      <td>8160430</td>\n",
       "      <td>1</td>\n",
       "      <td>1.50</td>\n",
       "      <td>364</td>\n",
       "      <td>-0.39</td>\n",
       "      <td>1631</td>\n",
       "      <td>1</td>\n",
       "      <td>0.0</td>\n",
       "      <td>0.0</td>\n",
       "    </tr>\n",
       "  </tbody>\n",
       "</table>\n",
       "</div>"
      ],
      "text/plain": [
       "   user_id    basket_id  day  item_id  quantity  sales_value  store_id  \\\n",
       "0     2375  26984851472    1  1004906         1         1.39       364   \n",
       "1     2375  26984851472    1  1033142         1         0.82       364   \n",
       "2     2375  26984851472    1  1036325         1         0.99       364   \n",
       "3     2375  26984851472    1  1082185         1         1.21       364   \n",
       "4     2375  26984851472    1  8160430         1         1.50       364   \n",
       "\n",
       "   retail_disc  trans_time  week_no  coupon_disc  coupon_match_disc  \n",
       "0        -0.60        1631        1          0.0                0.0  \n",
       "1         0.00        1631        1          0.0                0.0  \n",
       "2        -0.30        1631        1          0.0                0.0  \n",
       "3         0.00        1631        1          0.0                0.0  \n",
       "4        -0.39        1631        1          0.0                0.0  "
      ]
     },
     "execution_count": 6,
     "metadata": {},
     "output_type": "execute_result"
    }
   ],
   "source": [
    "data.head()"
   ]
  },
  {
   "cell_type": "code",
   "execution_count": 7,
   "metadata": {
    "ExecuteTime": {
     "end_time": "2021-02-23T09:49:04.722938Z",
     "start_time": "2021-02-23T09:49:04.711679Z"
    }
   },
   "outputs": [
    {
     "data": {
      "text/plain": [
       "(2396804, 12)"
      ]
     },
     "execution_count": 7,
     "metadata": {},
     "output_type": "execute_result"
    }
   ],
   "source": [
    "data.shape"
   ]
  },
  {
   "cell_type": "code",
   "execution_count": 8,
   "metadata": {
    "ExecuteTime": {
     "end_time": "2021-02-23T09:49:04.754516Z",
     "start_time": "2021-02-23T09:49:04.727630Z"
    }
   },
   "outputs": [
    {
     "name": "stdout",
     "output_type": "stream",
     "text": [
      "<class 'pandas.core.frame.DataFrame'>\n",
      "RangeIndex: 2396804 entries, 0 to 2396803\n",
      "Data columns (total 12 columns):\n",
      " #   Column             Dtype  \n",
      "---  ------             -----  \n",
      " 0   user_id            int64  \n",
      " 1   basket_id          int64  \n",
      " 2   day                int64  \n",
      " 3   item_id            int64  \n",
      " 4   quantity           int64  \n",
      " 5   sales_value        float64\n",
      " 6   store_id           int64  \n",
      " 7   retail_disc        float64\n",
      " 8   trans_time         int64  \n",
      " 9   week_no            int64  \n",
      " 10  coupon_disc        float64\n",
      " 11  coupon_match_disc  float64\n",
      "dtypes: float64(4), int64(8)\n",
      "memory usage: 219.4 MB\n"
     ]
    }
   ],
   "source": [
    "data.info()"
   ]
  },
  {
   "cell_type": "code",
   "execution_count": 9,
   "metadata": {
    "ExecuteTime": {
     "end_time": "2021-02-23T09:49:05.516469Z",
     "start_time": "2021-02-23T09:49:04.757819Z"
    }
   },
   "outputs": [
    {
     "data": {
      "text/html": [
       "<style  type=\"text/css\" >\n",
       "</style><table id=\"T_5decf9f4_75bc_11eb_9da2_94085392768c\" ><thead>    <tr>        <th class=\"blank level0\" ></th>        <th class=\"col_heading level0 col0\" >user_id</th>        <th class=\"col_heading level0 col1\" >basket_id</th>        <th class=\"col_heading level0 col2\" >day</th>        <th class=\"col_heading level0 col3\" >item_id</th>        <th class=\"col_heading level0 col4\" >quantity</th>        <th class=\"col_heading level0 col5\" >sales_value</th>        <th class=\"col_heading level0 col6\" >store_id</th>        <th class=\"col_heading level0 col7\" >retail_disc</th>        <th class=\"col_heading level0 col8\" >trans_time</th>        <th class=\"col_heading level0 col9\" >week_no</th>        <th class=\"col_heading level0 col10\" >coupon_disc</th>        <th class=\"col_heading level0 col11\" >coupon_match_disc</th>    </tr></thead><tbody>\n",
       "                <tr>\n",
       "                        <th id=\"T_5decf9f4_75bc_11eb_9da2_94085392768clevel0_row0\" class=\"row_heading level0 row0\" >count</th>\n",
       "                        <td id=\"T_5decf9f4_75bc_11eb_9da2_94085392768crow0_col0\" class=\"data row0 col0\" >2396804</td>\n",
       "                        <td id=\"T_5decf9f4_75bc_11eb_9da2_94085392768crow0_col1\" class=\"data row0 col1\" >2396804</td>\n",
       "                        <td id=\"T_5decf9f4_75bc_11eb_9da2_94085392768crow0_col2\" class=\"data row0 col2\" >2396804</td>\n",
       "                        <td id=\"T_5decf9f4_75bc_11eb_9da2_94085392768crow0_col3\" class=\"data row0 col3\" >2396804</td>\n",
       "                        <td id=\"T_5decf9f4_75bc_11eb_9da2_94085392768crow0_col4\" class=\"data row0 col4\" >2396804</td>\n",
       "                        <td id=\"T_5decf9f4_75bc_11eb_9da2_94085392768crow0_col5\" class=\"data row0 col5\" >2396804</td>\n",
       "                        <td id=\"T_5decf9f4_75bc_11eb_9da2_94085392768crow0_col6\" class=\"data row0 col6\" >2396804</td>\n",
       "                        <td id=\"T_5decf9f4_75bc_11eb_9da2_94085392768crow0_col7\" class=\"data row0 col7\" >2396804</td>\n",
       "                        <td id=\"T_5decf9f4_75bc_11eb_9da2_94085392768crow0_col8\" class=\"data row0 col8\" >2396804</td>\n",
       "                        <td id=\"T_5decf9f4_75bc_11eb_9da2_94085392768crow0_col9\" class=\"data row0 col9\" >2396804</td>\n",
       "                        <td id=\"T_5decf9f4_75bc_11eb_9da2_94085392768crow0_col10\" class=\"data row0 col10\" >2396804</td>\n",
       "                        <td id=\"T_5decf9f4_75bc_11eb_9da2_94085392768crow0_col11\" class=\"data row0 col11\" >2396804</td>\n",
       "            </tr>\n",
       "            <tr>\n",
       "                        <th id=\"T_5decf9f4_75bc_11eb_9da2_94085392768clevel0_row1\" class=\"row_heading level0 row1\" >mean</th>\n",
       "                        <td id=\"T_5decf9f4_75bc_11eb_9da2_94085392768crow1_col0\" class=\"data row1 col0\" >1272</td>\n",
       "                        <td id=\"T_5decf9f4_75bc_11eb_9da2_94085392768crow1_col1\" class=\"data row1 col1\" >33366432676</td>\n",
       "                        <td id=\"T_5decf9f4_75bc_11eb_9da2_94085392768crow1_col2\" class=\"data row1 col2\" >364</td>\n",
       "                        <td id=\"T_5decf9f4_75bc_11eb_9da2_94085392768crow1_col3\" class=\"data row1 col3\" >2827247</td>\n",
       "                        <td id=\"T_5decf9f4_75bc_11eb_9da2_94085392768crow1_col4\" class=\"data row1 col4\" >100</td>\n",
       "                        <td id=\"T_5decf9f4_75bc_11eb_9da2_94085392768crow1_col5\" class=\"data row1 col5\" >3</td>\n",
       "                        <td id=\"T_5decf9f4_75bc_11eb_9da2_94085392768crow1_col6\" class=\"data row1 col6\" >3048</td>\n",
       "                        <td id=\"T_5decf9f4_75bc_11eb_9da2_94085392768crow1_col7\" class=\"data row1 col7\" >-1</td>\n",
       "                        <td id=\"T_5decf9f4_75bc_11eb_9da2_94085392768crow1_col8\" class=\"data row1 col8\" >1562</td>\n",
       "                        <td id=\"T_5decf9f4_75bc_11eb_9da2_94085392768crow1_col9\" class=\"data row1 col9\" >53</td>\n",
       "                        <td id=\"T_5decf9f4_75bc_11eb_9da2_94085392768crow1_col10\" class=\"data row1 col10\" >-0</td>\n",
       "                        <td id=\"T_5decf9f4_75bc_11eb_9da2_94085392768crow1_col11\" class=\"data row1 col11\" >-0</td>\n",
       "            </tr>\n",
       "            <tr>\n",
       "                        <th id=\"T_5decf9f4_75bc_11eb_9da2_94085392768clevel0_row2\" class=\"row_heading level0 row2\" >std</th>\n",
       "                        <td id=\"T_5decf9f4_75bc_11eb_9da2_94085392768crow2_col0\" class=\"data row2 col0\" >727</td>\n",
       "                        <td id=\"T_5decf9f4_75bc_11eb_9da2_94085392768crow2_col1\" class=\"data row2 col1\" >4284798176</td>\n",
       "                        <td id=\"T_5decf9f4_75bc_11eb_9da2_94085392768crow2_col2\" class=\"data row2 col2\" >176</td>\n",
       "                        <td id=\"T_5decf9f4_75bc_11eb_9da2_94085392768crow2_col3\" class=\"data row2 col3\" >3732798</td>\n",
       "                        <td id=\"T_5decf9f4_75bc_11eb_9da2_94085392768crow2_col4\" class=\"data row2 col4\" >1152</td>\n",
       "                        <td id=\"T_5decf9f4_75bc_11eb_9da2_94085392768crow2_col5\" class=\"data row2 col5\" >4</td>\n",
       "                        <td id=\"T_5decf9f4_75bc_11eb_9da2_94085392768crow2_col6\" class=\"data row2 col6\" >8786</td>\n",
       "                        <td id=\"T_5decf9f4_75bc_11eb_9da2_94085392768crow2_col7\" class=\"data row2 col7\" >1</td>\n",
       "                        <td id=\"T_5decf9f4_75bc_11eb_9da2_94085392768crow2_col8\" class=\"data row2 col8\" >402</td>\n",
       "                        <td id=\"T_5decf9f4_75bc_11eb_9da2_94085392768crow2_col9\" class=\"data row2 col9\" >25</td>\n",
       "                        <td id=\"T_5decf9f4_75bc_11eb_9da2_94085392768crow2_col10\" class=\"data row2 col10\" >0</td>\n",
       "                        <td id=\"T_5decf9f4_75bc_11eb_9da2_94085392768crow2_col11\" class=\"data row2 col11\" >0</td>\n",
       "            </tr>\n",
       "            <tr>\n",
       "                        <th id=\"T_5decf9f4_75bc_11eb_9da2_94085392768clevel0_row3\" class=\"row_heading level0 row3\" >min</th>\n",
       "                        <td id=\"T_5decf9f4_75bc_11eb_9da2_94085392768crow3_col0\" class=\"data row3 col0\" >1</td>\n",
       "                        <td id=\"T_5decf9f4_75bc_11eb_9da2_94085392768crow3_col1\" class=\"data row3 col1\" >26984851472</td>\n",
       "                        <td id=\"T_5decf9f4_75bc_11eb_9da2_94085392768crow3_col2\" class=\"data row3 col2\" >1</td>\n",
       "                        <td id=\"T_5decf9f4_75bc_11eb_9da2_94085392768crow3_col3\" class=\"data row3 col3\" >25671</td>\n",
       "                        <td id=\"T_5decf9f4_75bc_11eb_9da2_94085392768crow3_col4\" class=\"data row3 col4\" >0</td>\n",
       "                        <td id=\"T_5decf9f4_75bc_11eb_9da2_94085392768crow3_col5\" class=\"data row3 col5\" >0</td>\n",
       "                        <td id=\"T_5decf9f4_75bc_11eb_9da2_94085392768crow3_col6\" class=\"data row3 col6\" >1</td>\n",
       "                        <td id=\"T_5decf9f4_75bc_11eb_9da2_94085392768crow3_col7\" class=\"data row3 col7\" >-130</td>\n",
       "                        <td id=\"T_5decf9f4_75bc_11eb_9da2_94085392768crow3_col8\" class=\"data row3 col8\" >0</td>\n",
       "                        <td id=\"T_5decf9f4_75bc_11eb_9da2_94085392768crow3_col9\" class=\"data row3 col9\" >1</td>\n",
       "                        <td id=\"T_5decf9f4_75bc_11eb_9da2_94085392768crow3_col10\" class=\"data row3 col10\" >-56</td>\n",
       "                        <td id=\"T_5decf9f4_75bc_11eb_9da2_94085392768crow3_col11\" class=\"data row3 col11\" >-8</td>\n",
       "            </tr>\n",
       "            <tr>\n",
       "                        <th id=\"T_5decf9f4_75bc_11eb_9da2_94085392768clevel0_row4\" class=\"row_heading level0 row4\" >25%</th>\n",
       "                        <td id=\"T_5decf9f4_75bc_11eb_9da2_94085392768crow4_col0\" class=\"data row4 col0\" >655</td>\n",
       "                        <td id=\"T_5decf9f4_75bc_11eb_9da2_94085392768crow4_col1\" class=\"data row4 col1\" >30087143433</td>\n",
       "                        <td id=\"T_5decf9f4_75bc_11eb_9da2_94085392768crow4_col2\" class=\"data row4 col2\" >216</td>\n",
       "                        <td id=\"T_5decf9f4_75bc_11eb_9da2_94085392768crow4_col3\" class=\"data row4 col3\" >916993</td>\n",
       "                        <td id=\"T_5decf9f4_75bc_11eb_9da2_94085392768crow4_col4\" class=\"data row4 col4\" >1</td>\n",
       "                        <td id=\"T_5decf9f4_75bc_11eb_9da2_94085392768crow4_col5\" class=\"data row4 col5\" >1</td>\n",
       "                        <td id=\"T_5decf9f4_75bc_11eb_9da2_94085392768crow4_col6\" class=\"data row4 col6\" >330</td>\n",
       "                        <td id=\"T_5decf9f4_75bc_11eb_9da2_94085392768crow4_col7\" class=\"data row4 col7\" >-1</td>\n",
       "                        <td id=\"T_5decf9f4_75bc_11eb_9da2_94085392768crow4_col8\" class=\"data row4 col8\" >1307</td>\n",
       "                        <td id=\"T_5decf9f4_75bc_11eb_9da2_94085392768crow4_col9\" class=\"data row4 col9\" >32</td>\n",
       "                        <td id=\"T_5decf9f4_75bc_11eb_9da2_94085392768crow4_col10\" class=\"data row4 col10\" >0</td>\n",
       "                        <td id=\"T_5decf9f4_75bc_11eb_9da2_94085392768crow4_col11\" class=\"data row4 col11\" >0</td>\n",
       "            </tr>\n",
       "            <tr>\n",
       "                        <th id=\"T_5decf9f4_75bc_11eb_9da2_94085392768clevel0_row5\" class=\"row_heading level0 row5\" >50%</th>\n",
       "                        <td id=\"T_5decf9f4_75bc_11eb_9da2_94085392768crow5_col0\" class=\"data row5 col0\" >1271</td>\n",
       "                        <td id=\"T_5decf9f4_75bc_11eb_9da2_94085392768crow5_col1\" class=\"data row5 col1\" >32419978306</td>\n",
       "                        <td id=\"T_5decf9f4_75bc_11eb_9da2_94085392768crow5_col2\" class=\"data row5 col2\" >366</td>\n",
       "                        <td id=\"T_5decf9f4_75bc_11eb_9da2_94085392768crow5_col3\" class=\"data row5 col3\" >1027569</td>\n",
       "                        <td id=\"T_5decf9f4_75bc_11eb_9da2_94085392768crow5_col4\" class=\"data row5 col4\" >1</td>\n",
       "                        <td id=\"T_5decf9f4_75bc_11eb_9da2_94085392768crow5_col5\" class=\"data row5 col5\" >2</td>\n",
       "                        <td id=\"T_5decf9f4_75bc_11eb_9da2_94085392768crow5_col6\" class=\"data row5 col6\" >370</td>\n",
       "                        <td id=\"T_5decf9f4_75bc_11eb_9da2_94085392768crow5_col7\" class=\"data row5 col7\" >-0</td>\n",
       "                        <td id=\"T_5decf9f4_75bc_11eb_9da2_94085392768crow5_col8\" class=\"data row5 col8\" >1614</td>\n",
       "                        <td id=\"T_5decf9f4_75bc_11eb_9da2_94085392768crow5_col9\" class=\"data row5 col9\" >53</td>\n",
       "                        <td id=\"T_5decf9f4_75bc_11eb_9da2_94085392768crow5_col10\" class=\"data row5 col10\" >0</td>\n",
       "                        <td id=\"T_5decf9f4_75bc_11eb_9da2_94085392768crow5_col11\" class=\"data row5 col11\" >0</td>\n",
       "            </tr>\n",
       "            <tr>\n",
       "                        <th id=\"T_5decf9f4_75bc_11eb_9da2_94085392768clevel0_row6\" class=\"row_heading level0 row6\" >75%</th>\n",
       "                        <td id=\"T_5decf9f4_75bc_11eb_9da2_94085392768crow6_col0\" class=\"data row6 col0\" >1914</td>\n",
       "                        <td id=\"T_5decf9f4_75bc_11eb_9da2_94085392768crow6_col1\" class=\"data row6 col1\" >35145801967</td>\n",
       "                        <td id=\"T_5decf9f4_75bc_11eb_9da2_94085392768crow6_col2\" class=\"data row6 col2\" >515</td>\n",
       "                        <td id=\"T_5decf9f4_75bc_11eb_9da2_94085392768crow6_col3\" class=\"data row6 col3\" >1132178</td>\n",
       "                        <td id=\"T_5decf9f4_75bc_11eb_9da2_94085392768crow6_col4\" class=\"data row6 col4\" >1</td>\n",
       "                        <td id=\"T_5decf9f4_75bc_11eb_9da2_94085392768crow6_col5\" class=\"data row6 col5\" >3</td>\n",
       "                        <td id=\"T_5decf9f4_75bc_11eb_9da2_94085392768crow6_col6\" class=\"data row6 col6\" >422</td>\n",
       "                        <td id=\"T_5decf9f4_75bc_11eb_9da2_94085392768crow6_col7\" class=\"data row6 col7\" >0</td>\n",
       "                        <td id=\"T_5decf9f4_75bc_11eb_9da2_94085392768crow6_col8\" class=\"data row6 col8\" >1844</td>\n",
       "                        <td id=\"T_5decf9f4_75bc_11eb_9da2_94085392768crow6_col9\" class=\"data row6 col9\" >74</td>\n",
       "                        <td id=\"T_5decf9f4_75bc_11eb_9da2_94085392768crow6_col10\" class=\"data row6 col10\" >0</td>\n",
       "                        <td id=\"T_5decf9f4_75bc_11eb_9da2_94085392768crow6_col11\" class=\"data row6 col11\" >0</td>\n",
       "            </tr>\n",
       "            <tr>\n",
       "                        <th id=\"T_5decf9f4_75bc_11eb_9da2_94085392768clevel0_row7\" class=\"row_heading level0 row7\" >max</th>\n",
       "                        <td id=\"T_5decf9f4_75bc_11eb_9da2_94085392768crow7_col0\" class=\"data row7 col0\" >2500</td>\n",
       "                        <td id=\"T_5decf9f4_75bc_11eb_9da2_94085392768crow7_col1\" class=\"data row7 col1\" >41656790510</td>\n",
       "                        <td id=\"T_5decf9f4_75bc_11eb_9da2_94085392768crow7_col2\" class=\"data row7 col2\" >663</td>\n",
       "                        <td id=\"T_5decf9f4_75bc_11eb_9da2_94085392768crow7_col3\" class=\"data row7 col3\" >18024556</td>\n",
       "                        <td id=\"T_5decf9f4_75bc_11eb_9da2_94085392768crow7_col4\" class=\"data row7 col4\" >89638</td>\n",
       "                        <td id=\"T_5decf9f4_75bc_11eb_9da2_94085392768crow7_col5\" class=\"data row7 col5\" >840</td>\n",
       "                        <td id=\"T_5decf9f4_75bc_11eb_9da2_94085392768crow7_col6\" class=\"data row7 col6\" >34280</td>\n",
       "                        <td id=\"T_5decf9f4_75bc_11eb_9da2_94085392768crow7_col7\" class=\"data row7 col7\" >4</td>\n",
       "                        <td id=\"T_5decf9f4_75bc_11eb_9da2_94085392768crow7_col8\" class=\"data row7 col8\" >2359</td>\n",
       "                        <td id=\"T_5decf9f4_75bc_11eb_9da2_94085392768crow7_col9\" class=\"data row7 col9\" >95</td>\n",
       "                        <td id=\"T_5decf9f4_75bc_11eb_9da2_94085392768crow7_col10\" class=\"data row7 col10\" >0</td>\n",
       "                        <td id=\"T_5decf9f4_75bc_11eb_9da2_94085392768crow7_col11\" class=\"data row7 col11\" >0</td>\n",
       "            </tr>\n",
       "    </tbody></table>"
      ],
      "text/plain": [
       "<pandas.io.formats.style.Styler at 0x298f370dbb0>"
      ]
     },
     "execution_count": 9,
     "metadata": {},
     "output_type": "execute_result"
    }
   ],
   "source": [
    "data.describe().style.set_precision(0)"
   ]
  },
  {
   "cell_type": "code",
   "execution_count": 10,
   "metadata": {
    "ExecuteTime": {
     "end_time": "2021-02-23T09:49:05.531767Z",
     "start_time": "2021-02-23T09:49:05.517993Z"
    }
   },
   "outputs": [
    {
     "data": {
      "text/html": [
       "<div>\n",
       "<style scoped>\n",
       "    .dataframe tbody tr th:only-of-type {\n",
       "        vertical-align: middle;\n",
       "    }\n",
       "\n",
       "    .dataframe tbody tr th {\n",
       "        vertical-align: top;\n",
       "    }\n",
       "\n",
       "    .dataframe thead th {\n",
       "        text-align: right;\n",
       "    }\n",
       "</style>\n",
       "<table border=\"1\" class=\"dataframe\">\n",
       "  <thead>\n",
       "    <tr style=\"text-align: right;\">\n",
       "      <th></th>\n",
       "      <th>item_id</th>\n",
       "      <th>manufacturer</th>\n",
       "      <th>department</th>\n",
       "      <th>brand</th>\n",
       "      <th>commodity_desc</th>\n",
       "      <th>sub_commodity_desc</th>\n",
       "      <th>curr_size_of_product</th>\n",
       "    </tr>\n",
       "  </thead>\n",
       "  <tbody>\n",
       "    <tr>\n",
       "      <th>0</th>\n",
       "      <td>25671</td>\n",
       "      <td>2</td>\n",
       "      <td>GROCERY</td>\n",
       "      <td>National</td>\n",
       "      <td>FRZN ICE</td>\n",
       "      <td>ICE - CRUSHED/CUBED</td>\n",
       "      <td>22 LB</td>\n",
       "    </tr>\n",
       "    <tr>\n",
       "      <th>1</th>\n",
       "      <td>26081</td>\n",
       "      <td>2</td>\n",
       "      <td>MISC. TRANS.</td>\n",
       "      <td>National</td>\n",
       "      <td>NO COMMODITY DESCRIPTION</td>\n",
       "      <td>NO SUBCOMMODITY DESCRIPTION</td>\n",
       "      <td></td>\n",
       "    </tr>\n",
       "    <tr>\n",
       "      <th>2</th>\n",
       "      <td>26093</td>\n",
       "      <td>69</td>\n",
       "      <td>PASTRY</td>\n",
       "      <td>Private</td>\n",
       "      <td>BREAD</td>\n",
       "      <td>BREAD:ITALIAN/FRENCH</td>\n",
       "      <td></td>\n",
       "    </tr>\n",
       "    <tr>\n",
       "      <th>3</th>\n",
       "      <td>26190</td>\n",
       "      <td>69</td>\n",
       "      <td>GROCERY</td>\n",
       "      <td>Private</td>\n",
       "      <td>FRUIT - SHELF STABLE</td>\n",
       "      <td>APPLE SAUCE</td>\n",
       "      <td>50 OZ</td>\n",
       "    </tr>\n",
       "    <tr>\n",
       "      <th>4</th>\n",
       "      <td>26355</td>\n",
       "      <td>69</td>\n",
       "      <td>GROCERY</td>\n",
       "      <td>Private</td>\n",
       "      <td>COOKIES/CONES</td>\n",
       "      <td>SPECIALTY COOKIES</td>\n",
       "      <td>14 OZ</td>\n",
       "    </tr>\n",
       "  </tbody>\n",
       "</table>\n",
       "</div>"
      ],
      "text/plain": [
       "   item_id  manufacturer    department     brand            commodity_desc  \\\n",
       "0    25671             2       GROCERY  National                  FRZN ICE   \n",
       "1    26081             2  MISC. TRANS.  National  NO COMMODITY DESCRIPTION   \n",
       "2    26093            69        PASTRY   Private                     BREAD   \n",
       "3    26190            69       GROCERY   Private      FRUIT - SHELF STABLE   \n",
       "4    26355            69       GROCERY   Private             COOKIES/CONES   \n",
       "\n",
       "            sub_commodity_desc curr_size_of_product  \n",
       "0          ICE - CRUSHED/CUBED                22 LB  \n",
       "1  NO SUBCOMMODITY DESCRIPTION                       \n",
       "2         BREAD:ITALIAN/FRENCH                       \n",
       "3                  APPLE SAUCE                50 OZ  \n",
       "4            SPECIALTY COOKIES                14 OZ  "
      ]
     },
     "execution_count": 10,
     "metadata": {},
     "output_type": "execute_result"
    }
   ],
   "source": [
    "item_features.head()"
   ]
  },
  {
   "cell_type": "code",
   "execution_count": 11,
   "metadata": {
    "ExecuteTime": {
     "end_time": "2021-02-23T09:49:05.562582Z",
     "start_time": "2021-02-23T09:49:05.533751Z"
    }
   },
   "outputs": [
    {
     "data": {
      "text/html": [
       "<div>\n",
       "<style scoped>\n",
       "    .dataframe tbody tr th:only-of-type {\n",
       "        vertical-align: middle;\n",
       "    }\n",
       "\n",
       "    .dataframe tbody tr th {\n",
       "        vertical-align: top;\n",
       "    }\n",
       "\n",
       "    .dataframe thead th {\n",
       "        text-align: right;\n",
       "    }\n",
       "</style>\n",
       "<table border=\"1\" class=\"dataframe\">\n",
       "  <thead>\n",
       "    <tr style=\"text-align: right;\">\n",
       "      <th></th>\n",
       "      <th>age_desc</th>\n",
       "      <th>marital_status_code</th>\n",
       "      <th>income_desc</th>\n",
       "      <th>homeowner_desc</th>\n",
       "      <th>hh_comp_desc</th>\n",
       "      <th>household_size_desc</th>\n",
       "      <th>kid_category_desc</th>\n",
       "      <th>user_id</th>\n",
       "    </tr>\n",
       "  </thead>\n",
       "  <tbody>\n",
       "    <tr>\n",
       "      <th>0</th>\n",
       "      <td>65+</td>\n",
       "      <td>A</td>\n",
       "      <td>35-49K</td>\n",
       "      <td>Homeowner</td>\n",
       "      <td>2 Adults No Kids</td>\n",
       "      <td>2</td>\n",
       "      <td>None/Unknown</td>\n",
       "      <td>1</td>\n",
       "    </tr>\n",
       "    <tr>\n",
       "      <th>1</th>\n",
       "      <td>45-54</td>\n",
       "      <td>A</td>\n",
       "      <td>50-74K</td>\n",
       "      <td>Homeowner</td>\n",
       "      <td>2 Adults No Kids</td>\n",
       "      <td>2</td>\n",
       "      <td>None/Unknown</td>\n",
       "      <td>7</td>\n",
       "    </tr>\n",
       "    <tr>\n",
       "      <th>2</th>\n",
       "      <td>25-34</td>\n",
       "      <td>U</td>\n",
       "      <td>25-34K</td>\n",
       "      <td>Unknown</td>\n",
       "      <td>2 Adults Kids</td>\n",
       "      <td>3</td>\n",
       "      <td>1</td>\n",
       "      <td>8</td>\n",
       "    </tr>\n",
       "    <tr>\n",
       "      <th>3</th>\n",
       "      <td>25-34</td>\n",
       "      <td>U</td>\n",
       "      <td>75-99K</td>\n",
       "      <td>Homeowner</td>\n",
       "      <td>2 Adults Kids</td>\n",
       "      <td>4</td>\n",
       "      <td>2</td>\n",
       "      <td>13</td>\n",
       "    </tr>\n",
       "    <tr>\n",
       "      <th>4</th>\n",
       "      <td>45-54</td>\n",
       "      <td>B</td>\n",
       "      <td>50-74K</td>\n",
       "      <td>Homeowner</td>\n",
       "      <td>Single Female</td>\n",
       "      <td>1</td>\n",
       "      <td>None/Unknown</td>\n",
       "      <td>16</td>\n",
       "    </tr>\n",
       "  </tbody>\n",
       "</table>\n",
       "</div>"
      ],
      "text/plain": [
       "  age_desc marital_status_code income_desc homeowner_desc      hh_comp_desc  \\\n",
       "0      65+                   A      35-49K      Homeowner  2 Adults No Kids   \n",
       "1    45-54                   A      50-74K      Homeowner  2 Adults No Kids   \n",
       "2    25-34                   U      25-34K        Unknown     2 Adults Kids   \n",
       "3    25-34                   U      75-99K      Homeowner     2 Adults Kids   \n",
       "4    45-54                   B      50-74K      Homeowner     Single Female   \n",
       "\n",
       "  household_size_desc kid_category_desc  user_id  \n",
       "0                   2      None/Unknown        1  \n",
       "1                   2      None/Unknown        7  \n",
       "2                   3                 1        8  \n",
       "3                   4                 2       13  \n",
       "4                   1      None/Unknown       16  "
      ]
     },
     "execution_count": 11,
     "metadata": {},
     "output_type": "execute_result"
    }
   ],
   "source": [
    "user_features.head()"
   ]
  },
  {
   "cell_type": "markdown",
   "metadata": {},
   "source": [
    "**Количество уникальных значений**"
   ]
  },
  {
   "cell_type": "code",
   "execution_count": 12,
   "metadata": {
    "ExecuteTime": {
     "end_time": "2021-02-23T09:49:05.940703Z",
     "start_time": "2021-02-23T09:49:05.564579Z"
    }
   },
   "outputs": [
    {
     "data": {
      "text/plain": [
       "user_id                2499\n",
       "basket_id            257001\n",
       "day                     663\n",
       "item_id               89051\n",
       "quantity              11246\n",
       "sales_value            5435\n",
       "store_id                573\n",
       "retail_disc            2364\n",
       "trans_time             1440\n",
       "week_no                  95\n",
       "coupon_disc             393\n",
       "coupon_match_disc        79\n",
       "dtype: int64"
      ]
     },
     "execution_count": 12,
     "metadata": {},
     "output_type": "execute_result"
    }
   ],
   "source": [
    "data.nunique()"
   ]
  },
  {
   "cell_type": "code",
   "execution_count": 13,
   "metadata": {
    "ExecuteTime": {
     "end_time": "2021-02-23T09:49:05.988593Z",
     "start_time": "2021-02-23T09:49:05.941700Z"
    }
   },
   "outputs": [
    {
     "data": {
      "text/plain": [
       "item_id                 92353\n",
       "manufacturer             6476\n",
       "department                 44\n",
       "brand                       2\n",
       "commodity_desc            308\n",
       "sub_commodity_desc       2383\n",
       "curr_size_of_product     4345\n",
       "dtype: int64"
      ]
     },
     "execution_count": 13,
     "metadata": {},
     "output_type": "execute_result"
    }
   ],
   "source": [
    "item_features.nunique()"
   ]
  },
  {
   "cell_type": "code",
   "execution_count": 14,
   "metadata": {
    "ExecuteTime": {
     "end_time": "2021-02-23T09:49:06.003929Z",
     "start_time": "2021-02-23T09:49:05.989569Z"
    }
   },
   "outputs": [
    {
     "data": {
      "text/plain": [
       "age_desc                 6\n",
       "marital_status_code      3\n",
       "income_desc             12\n",
       "homeowner_desc           5\n",
       "hh_comp_desc             6\n",
       "household_size_desc      5\n",
       "kid_category_desc        4\n",
       "user_id                801\n",
       "dtype: int64"
      ]
     },
     "execution_count": 14,
     "metadata": {},
     "output_type": "execute_result"
    }
   ],
   "source": [
    "user_features.nunique()"
   ]
  },
  {
   "cell_type": "markdown",
   "metadata": {},
   "source": [
    "## Обзор категориальных переменных"
   ]
  },
  {
   "cell_type": "code",
   "execution_count": 15,
   "metadata": {
    "ExecuteTime": {
     "end_time": "2021-02-23T09:49:06.018880Z",
     "start_time": "2021-02-23T09:49:06.004926Z"
    }
   },
   "outputs": [
    {
     "data": {
      "text/plain": [
       "array(['GROCERY', 'MISC. TRANS.', 'PASTRY', 'DRUG GM', 'MEAT-PCKGD',\n",
       "       'SEAFOOD-PCKGD', 'PRODUCE', 'NUTRITION', 'DELI', 'COSMETICS',\n",
       "       'MEAT', 'FLORAL', 'TRAVEL & LEISUR', 'SEAFOOD', 'MISC SALES TRAN',\n",
       "       'SALAD BAR', 'KIOSK-GAS', 'ELECT &PLUMBING', 'GRO BAKERY',\n",
       "       'GM MERCH EXP', 'FROZEN GROCERY', 'COUP/STR & MFG', 'SPIRITS',\n",
       "       'GARDEN CENTER', 'TOYS', 'CHARITABLE CONT', 'RESTAURANT', 'RX',\n",
       "       'PROD-WHS SALES', 'MEAT-WHSE', 'DAIRY DELI', 'CHEF SHOPPE', 'HBC',\n",
       "       'DELI/SNACK BAR', 'PORK', 'AUTOMOTIVE', 'VIDEO RENTAL', ' ',\n",
       "       'CNTRL/STORE SUP', 'HOUSEWARES', 'POSTAL CENTER', 'PHOTO', 'VIDEO',\n",
       "       'PHARMACY SUPPLY'], dtype=object)"
      ]
     },
     "execution_count": 15,
     "metadata": {},
     "output_type": "execute_result"
    }
   ],
   "source": [
    "item_features['department'].unique()"
   ]
  },
  {
   "cell_type": "markdown",
   "metadata": {},
   "source": [
    "**Категориальные переменные фичей пользователей**"
   ]
  },
  {
   "cell_type": "code",
   "execution_count": 16,
   "metadata": {
    "ExecuteTime": {
     "end_time": "2021-02-23T09:49:06.034929Z",
     "start_time": "2021-02-23T09:49:06.021966Z"
    }
   },
   "outputs": [
    {
     "name": "stdout",
     "output_type": "stream",
     "text": [
      "age_desc : ['65+' '45-54' '25-34' '35-44' '19-24' '55-64'] \n",
      "\n",
      "marital_status_code : ['A' 'U' 'B'] \n",
      "\n",
      "income_desc : ['35-49K' '50-74K' '25-34K' '75-99K' 'Under 15K' '100-124K' '15-24K'\n",
      " '125-149K' '150-174K' '250K+' '175-199K' '200-249K'] \n",
      "\n",
      "homeowner_desc : ['Homeowner' 'Unknown' 'Renter' 'Probable Renter' 'Probable Owner'] \n",
      "\n",
      "hh_comp_desc : ['2 Adults No Kids' '2 Adults Kids' 'Single Female' 'Unknown'\n",
      " 'Single Male' '1 Adult Kids'] \n",
      "\n",
      "household_size_desc : ['2' '3' '4' '1' '5+'] \n",
      "\n",
      "kid_category_desc : ['None/Unknown' '1' '2' '3+'] \n",
      "\n"
     ]
    }
   ],
   "source": [
    "for column in user_features.columns[:-1]:\n",
    "    print(column, ':', user_features[column].unique(), '\\n')"
   ]
  },
  {
   "cell_type": "code",
   "execution_count": 17,
   "metadata": {
    "ExecuteTime": {
     "end_time": "2021-02-23T09:49:09.701937Z",
     "start_time": "2021-02-23T09:49:06.036924Z"
    }
   },
   "outputs": [
    {
     "data": {
      "image/png": "[encoded data removed]",
      "text/plain": [
       "<Figure size 1152x1152 with 12 Axes>"
      ]
     },
     "metadata": {
      "needs_background": "light"
     },
     "output_type": "display_data"
    }
   ],
   "source": [
    "data.hist(figsize=(16,16), bins=100, grid=False);"
   ]
  },
  {
   "cell_type": "code",
   "execution_count": 18,
   "metadata": {
    "ExecuteTime": {
     "end_time": "2021-02-23T09:49:19.671505Z",
     "start_time": "2021-02-23T09:49:09.702933Z"
    }
   },
   "outputs": [
    {
     "data": {
      "image/png": "[encoded data removed]",
      "text/plain": [
       "<Figure size 432x288 with 1 Axes>"
      ]
     },
     "metadata": {
      "needs_background": "light"
     },
     "output_type": "display_data"
    }
   ],
   "source": [
    "sns.kdeplot(data=data['day']);"
   ]
  },
  {
   "cell_type": "code",
   "execution_count": 19,
   "metadata": {
    "ExecuteTime": {
     "end_time": "2021-02-23T09:49:29.609176Z",
     "start_time": "2021-02-23T09:49:19.673508Z"
    }
   },
   "outputs": [
    {
     "data": {
      "image/png": "[encoded data removed]",
      "text/plain": [
       "<Figure size 432x288 with 1 Axes>"
      ]
     },
     "metadata": {
      "needs_background": "light"
     },
     "output_type": "display_data"
    }
   ],
   "source": [
    "sns.kdeplot(data=data['week_no']);"
   ]
  },
  {
   "cell_type": "code",
   "execution_count": 20,
   "metadata": {
    "ExecuteTime": {
     "end_time": "2021-02-23T09:49:29.687329Z",
     "start_time": "2021-02-23T09:49:29.611132Z"
    }
   },
   "outputs": [
    {
     "data": {
      "text/plain": [
       "0.9999312126292215"
      ]
     },
     "execution_count": 20,
     "metadata": {},
     "output_type": "execute_result"
    }
   ],
   "source": [
    "from scipy.stats.stats import pearsonr\n",
    "\n",
    "pearsonr(data['week_no'], data['day'])[0]"
   ]
  },
  {
   "cell_type": "code",
   "execution_count": 21,
   "metadata": {
    "ExecuteTime": {
     "end_time": "2021-02-23T09:49:31.406363Z",
     "start_time": "2021-02-23T09:49:29.691098Z"
    }
   },
   "outputs": [
    {
     "data": {
      "image/png": "[encoded data removed]",
      "text/plain": [
       "<Figure size 504x432 with 1 Axes>"
      ]
     },
     "metadata": {
      "needs_background": "light"
     },
     "output_type": "display_data"
    }
   ],
   "source": [
    "f, ax = plt.subplots(figsize=(7, 6))\n",
    "ax.set_yscale(\"log\")\n",
    "sns.histplot(data=data['coupon_disc']);"
   ]
  },
  {
   "cell_type": "code",
   "execution_count": 22,
   "metadata": {
    "ExecuteTime": {
     "end_time": "2021-02-23T09:49:33.029155Z",
     "start_time": "2021-02-23T09:49:31.408327Z"
    }
   },
   "outputs": [
    {
     "data": {
      "image/png": "[encoded data removed]",
      "text/plain": [
       "<Figure size 504x432 with 1 Axes>"
      ]
     },
     "metadata": {
      "needs_background": "light"
     },
     "output_type": "display_data"
    }
   ],
   "source": [
    "f, ax = plt.subplots(figsize=(7, 6))\n",
    "ax.set_yscale(\"log\")\n",
    "sns.histplot(data=data['quantity']);"
   ]
  },
  {
   "cell_type": "code",
   "execution_count": 23,
   "metadata": {
    "ExecuteTime": {
     "end_time": "2021-02-23T09:50:06.864961Z",
     "start_time": "2021-02-23T09:49:33.033143Z"
    }
   },
   "outputs": [
    {
     "data": {
      "image/png": "[encoded data removed]",
      "text/plain": [
       "<Figure size 504x432 with 1 Axes>"
      ]
     },
     "metadata": {
      "needs_background": "light"
     },
     "output_type": "display_data"
    }
   ],
   "source": [
    "f, ax = plt.subplots(figsize=(7, 6))\n",
    "ax.set_yscale(\"log\")\n",
    "sns.histplot(data=data['sales_value']);"
   ]
  },
  {
   "cell_type": "code",
   "execution_count": 24,
   "metadata": {
    "ExecuteTime": {
     "end_time": "2021-02-23T09:50:08.289480Z",
     "start_time": "2021-02-23T09:50:06.867952Z"
    }
   },
   "outputs": [
    {
     "data": {
      "image/png": "[encoded data removed]",
      "text/plain": [
       "<Figure size 504x432 with 1 Axes>"
      ]
     },
     "metadata": {
      "needs_background": "light"
     },
     "output_type": "display_data"
    }
   ],
   "source": [
    "f, ax = plt.subplots(figsize=(7, 6))\n",
    "ax.set_yscale(\"log\")\n",
    "sns.histplot(data=data['coupon_disc']);"
   ]
  },
  {
   "cell_type": "code",
   "execution_count": 25,
   "metadata": {
    "ExecuteTime": {
     "end_time": "2021-02-23T09:50:11.079623Z",
     "start_time": "2021-02-23T09:50:08.291475Z"
    }
   },
   "outputs": [
    {
     "data": {
      "image/png": "[encoded data removed]",
      "text/plain": [
       "<Figure size 504x432 with 1 Axes>"
      ]
     },
     "metadata": {
      "needs_background": "light"
     },
     "output_type": "display_data"
    }
   ],
   "source": [
    "f, ax = plt.subplots(figsize=(7, 6))\n",
    "ax.set_yscale(\"log\")\n",
    "sns.histplot(data=data['coupon_match_disc']);"
   ]
  },
  {
   "cell_type": "markdown",
   "metadata": {},
   "source": [
    "## Обучение модели ALS"
   ]
  },
  {
   "cell_type": "markdown",
   "metadata": {},
   "source": [
    "**Количество уникальных items и user до и после префильтрации data_train_lvl_1**"
   ]
  },
  {
   "cell_type": "code",
   "execution_count": 26,
   "metadata": {
    "ExecuteTime": {
     "end_time": "2021-02-23T09:50:13.615975Z",
     "start_time": "2021-02-23T09:50:11.081617Z"
    }
   },
   "outputs": [
    {
     "name": "stdout",
     "output_type": "stream",
     "text": [
      "Decreased # items from 83685 to 5001\n"
     ]
    }
   ],
   "source": [
    "n_items_before = data_train_lvl_1['item_id'].nunique()\n",
    "data_train_lvl_1 = prefilter_items(data_train_lvl_1, item_features=item_features, take_n_popular=5000)\n",
    "n_items_after = data_train_lvl_1['item_id'].nunique()\n",
    "print('Decreased # items from {} to {}'.format(n_items_before, n_items_after))"
   ]
  },
  {
   "cell_type": "code",
   "execution_count": 27,
   "metadata": {
    "ExecuteTime": {
     "end_time": "2021-02-23T09:50:13.631294Z",
     "start_time": "2021-02-23T09:50:13.617970Z"
    }
   },
   "outputs": [
    {
     "data": {
      "text/plain": [
       "age_desc                 6\n",
       "marital_status_code      3\n",
       "income_desc             12\n",
       "homeowner_desc           5\n",
       "hh_comp_desc             6\n",
       "household_size_desc      5\n",
       "kid_category_desc        4\n",
       "user_id                801\n",
       "dtype: int64"
      ]
     },
     "execution_count": 27,
     "metadata": {},
     "output_type": "execute_result"
    }
   ],
   "source": [
    "user_features.nunique()"
   ]
  },
  {
   "cell_type": "markdown",
   "metadata": {},
   "source": [
    "**Перекодируем признаки**"
   ]
  },
  {
   "cell_type": "code",
   "execution_count": 28,
   "metadata": {
    "ExecuteTime": {
     "end_time": "2021-02-23T09:50:13.662637Z",
     "start_time": "2021-02-23T09:50:13.633286Z"
    }
   },
   "outputs": [
    {
     "data": {
      "text/html": [
       "<div>\n",
       "<style scoped>\n",
       "    .dataframe tbody tr th:only-of-type {\n",
       "        vertical-align: middle;\n",
       "    }\n",
       "\n",
       "    .dataframe tbody tr th {\n",
       "        vertical-align: top;\n",
       "    }\n",
       "\n",
       "    .dataframe thead th {\n",
       "        text-align: right;\n",
       "    }\n",
       "</style>\n",
       "<table border=\"1\" class=\"dataframe\">\n",
       "  <thead>\n",
       "    <tr style=\"text-align: right;\">\n",
       "      <th></th>\n",
       "      <th>age_desc</th>\n",
       "      <th>marital_status_code</th>\n",
       "      <th>income_desc</th>\n",
       "      <th>homeowner_desc</th>\n",
       "      <th>hh_comp_desc</th>\n",
       "      <th>household_size_desc</th>\n",
       "      <th>kid_category_desc</th>\n",
       "      <th>user_id</th>\n",
       "    </tr>\n",
       "  </thead>\n",
       "  <tbody>\n",
       "    <tr>\n",
       "      <th>0</th>\n",
       "      <td>70</td>\n",
       "      <td>1</td>\n",
       "      <td>40</td>\n",
       "      <td>4</td>\n",
       "      <td>4</td>\n",
       "      <td>2</td>\n",
       "      <td>0</td>\n",
       "      <td>1</td>\n",
       "    </tr>\n",
       "    <tr>\n",
       "      <th>1</th>\n",
       "      <td>50</td>\n",
       "      <td>1</td>\n",
       "      <td>62</td>\n",
       "      <td>4</td>\n",
       "      <td>4</td>\n",
       "      <td>2</td>\n",
       "      <td>0</td>\n",
       "      <td>7</td>\n",
       "    </tr>\n",
       "  </tbody>\n",
       "</table>\n",
       "</div>"
      ],
      "text/plain": [
       "   age_desc  marital_status_code  income_desc  homeowner_desc  hh_comp_desc  \\\n",
       "0        70                    1           40               4             4   \n",
       "1        50                    1           62               4             4   \n",
       "\n",
       "  household_size_desc kid_category_desc  user_id  \n",
       "0                   2                 0        1  \n",
       "1                   2                 0        7  "
      ]
     },
     "execution_count": 28,
     "metadata": {},
     "output_type": "execute_result"
    }
   ],
   "source": [
    "user_features['age_desc'].replace(\n",
    "    {'19-24': 22, '25-34': 30, '35-44': 40, '45-54': 50, '55-64': 60, '65+': 70},\n",
    "    inplace=True)\n",
    "\n",
    "user_features['marital_status_code'].replace(\n",
    "    {'U': 0, 'A': 1, 'B': 2}, inplace=True)\n",
    "\n",
    "user_features['income_desc'].replace(\n",
    "    {'Under 15K': 10, '15-24K': 20, '25-34K':30, '35-49K': 40,\n",
    "     '50-74K': 62, '75-99K': 87, '100-124K': 112, '125-149K': 137, \n",
    "     '150-174K': 162, '175-199K': 187, '200-249K': 225, '250K+':275}, inplace=True)\n",
    "\n",
    "user_features['homeowner_desc'].replace(\n",
    "    {'Unknown': 0, 'Probable Renter': 1, 'Renter': 2,\n",
    "     'Probable Owner': 3, 'Homeowner': 4}, inplace=True)\n",
    "\n",
    "user_features['hh_comp_desc'].replace(\n",
    "    {'Unknown': 0, 'Single Male': 1, 'Single Female': 2,\n",
    "     '1 Adult Kids': 3, '2 Adults No Kids': 4, '2 Adults Kids':5},inplace=True)\n",
    "\n",
    "user_features['household_size_desc'].replace({'5+': 5}, inplace=True) \n",
    "\n",
    "user_features['kid_category_desc'].replace(\n",
    "    {'None/Unknown': 0, '3+': 3}, inplace=True)\n",
    "\n",
    "user_features.head(2)"
   ]
  },
  {
   "cell_type": "code",
   "execution_count": 29,
   "metadata": {
    "ExecuteTime": {
     "end_time": "2021-02-23T09:50:56.582970Z",
     "start_time": "2021-02-23T09:50:13.664624Z"
    }
   },
   "outputs": [
    {
     "data": {
      "text/html": [
       "<div>\n",
       "<style scoped>\n",
       "    .dataframe tbody tr th:only-of-type {\n",
       "        vertical-align: middle;\n",
       "    }\n",
       "\n",
       "    .dataframe tbody tr th {\n",
       "        vertical-align: top;\n",
       "    }\n",
       "\n",
       "    .dataframe thead th {\n",
       "        text-align: right;\n",
       "    }\n",
       "</style>\n",
       "<table border=\"1\" class=\"dataframe\">\n",
       "  <thead>\n",
       "    <tr style=\"text-align: right;\">\n",
       "      <th></th>\n",
       "      <th>item_id</th>\n",
       "      <th>manufacturer</th>\n",
       "      <th>department</th>\n",
       "      <th>brand</th>\n",
       "      <th>commodity_desc</th>\n",
       "      <th>sub_commodity_desc</th>\n",
       "      <th>curr_size_of_product</th>\n",
       "      <th>manufacturer_freq</th>\n",
       "      <th>department_freq</th>\n",
       "      <th>commodity_desc_freq</th>\n",
       "      <th>sub_commodity_desc_freq</th>\n",
       "      <th>curr_size_of_product_freq</th>\n",
       "      <th>commodity_category</th>\n",
       "    </tr>\n",
       "  </thead>\n",
       "  <tbody>\n",
       "    <tr>\n",
       "      <th>0</th>\n",
       "      <td>25671</td>\n",
       "      <td>2</td>\n",
       "      <td>GROCERY</td>\n",
       "      <td>1</td>\n",
       "      <td>FRZN ICE</td>\n",
       "      <td>ICE - CRUSHED/CUBED</td>\n",
       "      <td>22 LB</td>\n",
       "      <td>1411.0</td>\n",
       "      <td>39021.0</td>\n",
       "      <td>29.0</td>\n",
       "      <td>29.0</td>\n",
       "      <td>12.0</td>\n",
       "      <td>269.0</td>\n",
       "    </tr>\n",
       "    <tr>\n",
       "      <th>1</th>\n",
       "      <td>26081</td>\n",
       "      <td>2</td>\n",
       "      <td>MISC. TRANS.</td>\n",
       "      <td>1</td>\n",
       "      <td>NO COMMODITY DESCRIPTION</td>\n",
       "      <td>NO SUBCOMMODITY DESCRIPTION</td>\n",
       "      <td></td>\n",
       "      <td>1411.0</td>\n",
       "      <td>490.0</td>\n",
       "      <td>490.0</td>\n",
       "      <td>429.0</td>\n",
       "      <td>30607.0</td>\n",
       "      <td>56.0</td>\n",
       "    </tr>\n",
       "  </tbody>\n",
       "</table>\n",
       "</div>"
      ],
      "text/plain": [
       "   item_id  manufacturer    department  brand            commodity_desc  \\\n",
       "0    25671             2       GROCERY      1                  FRZN ICE   \n",
       "1    26081             2  MISC. TRANS.      1  NO COMMODITY DESCRIPTION   \n",
       "\n",
       "            sub_commodity_desc curr_size_of_product  manufacturer_freq  \\\n",
       "0          ICE - CRUSHED/CUBED                22 LB             1411.0   \n",
       "1  NO SUBCOMMODITY DESCRIPTION                                  1411.0   \n",
       "\n",
       "   department_freq  commodity_desc_freq  sub_commodity_desc_freq  \\\n",
       "0          39021.0                 29.0                     29.0   \n",
       "1            490.0                490.0                    429.0   \n",
       "\n",
       "   curr_size_of_product_freq  commodity_category  \n",
       "0                       12.0               269.0  \n",
       "1                    30607.0                56.0  "
      ]
     },
     "execution_count": 29,
     "metadata": {},
     "output_type": "execute_result"
    }
   ],
   "source": [
    "names = ['manufacturer', 'department', 'commodity_desc', 'sub_commodity_desc', 'curr_size_of_product']\n",
    "for name in names:\n",
    "    new_name = name + '_freq'\n",
    "    a = item_features[name].value_counts()\n",
    "    ind = a.index.tolist()\n",
    "    for i in ind:\n",
    "        item_features.loc[item_features[name] == i, new_name] = a[i]\n",
    "\n",
    "item_features['brand'] = np.where(item_features['brand']=='Private', 0, 1)\n",
    "\n",
    "commodities = item_features.commodity_desc.value_counts()\n",
    "commodities_list = commodities.keys().tolist()\n",
    "for i, name in enumerate(commodities_list):\n",
    "    item_features.loc[item_features['commodity_desc'] == name, 'commodity_category'] = i\n",
    "\n",
    "item_features.head(2)"
   ]
  },
  {
   "cell_type": "markdown",
   "metadata": {},
   "source": [
    "**Новые признаки пользователей и товаров на основе матрицы транзакций**"
   ]
  },
  {
   "cell_type": "code",
   "execution_count": 128,
   "metadata": {
    "ExecuteTime": {
     "end_time": "2021-02-23T15:20:57.890330Z",
     "start_time": "2021-02-23T15:20:57.869299Z"
    }
   },
   "outputs": [],
   "source": [
    "def get_user_item_features(data_train_lvl_1):\n",
    "    \n",
    "    X = data_train_lvl_1.copy()\n",
    "    X['hour'] = X['trans_time'] // 100\n",
    "    user_item_features = X.groupby(['user_id', 'item_id'])['hour'].median().reset_index()\n",
    "    user_item_features.columns = ['user_id', 'item_id', 'median_sales_hour']\n",
    "    \n",
    "    X['weekday'] = X['day'] % 7\n",
    "    df = X.groupby(['user_id', 'item_id'])['weekday'].median().reset_index()\n",
    "    df.columns = ['user_id', 'item_id', 'median_weekday']\n",
    "    user_item_features = user_item_features.merge(df, on=['user_id', 'item_id'])\n",
    "    \n",
    "    df = X.groupby('user_id')['day'].nunique().reset_index()\n",
    "    df['mean_visits_interval'] = (X.groupby('user_id')['day'].max() - X.groupby('user_id')['day'].min()) / df['day']\n",
    "    user_item_features = user_item_features.merge(df[['user_id', 'mean_visits_interval']], on=['user_id'])\n",
    "    \n",
    "    df = X.groupby(['user_id', 'basket_id'])['sales_value'].sum().reset_index()\n",
    "    df = df.groupby('user_id')['sales_value'].mean().reset_index()\n",
    "    df.columns = ['user_id', 'mean_check']\n",
    "    user_item_features = user_item_features.merge(df, on=['user_id'])\n",
    "    \n",
    "    df = X.groupby(['item_id'])['store_id'].nunique().reset_index()\n",
    "    df.columns = ['item_id', 'n_stores']\n",
    "    user_item_features = user_item_features.merge(df, on=['item_id'])\n",
    "    \n",
    "    df = X.groupby(['user_id'])['item_id'].nunique().reset_index()\n",
    "    df.columns = ['user_id', 'n_items']\n",
    "    user_item_features = user_item_features.merge(df, on=['user_id'])\n",
    "    \n",
    "    df = X.groupby(['user_id'])['item_id'].count().reset_index()\n",
    "    df.columns = ['user_id', 'n_transactions']\n",
    "    user_item_features = user_item_features.merge(df, on=['user_id'])\n",
    "    \n",
    "    df = X.groupby(['user_id', 'basket_id'])['item_id'].nunique().reset_index()\n",
    "    df1 = df.groupby('user_id')['item_id'].mean().reset_index()\n",
    "    df1.columns = ['user_id', 'mean_n_items_basket']\n",
    "    user_item_features = user_item_features.merge(df1, on=['user_id'])\n",
    "\n",
    "    df2 = df.groupby('user_id')['item_id'].max().reset_index()\n",
    "    df2.columns = ['user_id', 'max_n_items_basket']\n",
    "    user_item_features = user_item_features.merge(df2, on=['user_id'])\n",
    "\n",
    "    df3 = df.groupby('user_id')['item_id'].std().reset_index()\n",
    "    df3.columns = ['user_id', 'std_n_items_basket']\n",
    "    user_item_features = user_item_features.merge(df3, on=['user_id'])\n",
    "    \n",
    "\n",
    "    recommender = MainRecommender(X)\n",
    "    df = recommender.model.item_factors\n",
    "    n_factors = recommender.model.factors\n",
    "    ind = list(recommender.id_to_itemid.values())\n",
    "    df = pd.DataFrame(df, index=ind).reset_index()\n",
    "    df.columns = ['item_id'] + ['factor_' + str(i + 1) for i in range(n_factors)]\n",
    "    user_item_features = user_item_features.merge(df, on=['item_id'])\n",
    "    \n",
    "    # эмбеддинги пользователей\n",
    "    df = recommender.model.user_factors\n",
    "    ind = list(recommender.id_to_userid.values())\n",
    "    df = pd.DataFrame(df, index=ind).reset_index()\n",
    "    df.columns = ['user_id'] + ['user_factor_' + str(i + 1) for i in range(n_factors)]\n",
    "    user_item_features = user_item_features.merge(df, on=['user_id'])\n",
    "    \n",
    "    return user_item_features"
   ]
  },
  {
   "cell_type": "code",
   "execution_count": 31,
   "metadata": {
    "ExecuteTime": {
     "end_time": "2021-02-23T09:51:03.113815Z",
     "start_time": "2021-02-23T09:50:56.611028Z"
    }
   },
   "outputs": [
    {
     "name": "stderr",
     "output_type": "stream",
     "text": [
      "WARNING:root:Intel MKL BLAS detected. Its highly recommend to set the environment variable 'export MKL_NUM_THREADS=1' to disable its internal multithreading\n"
     ]
    },
    {
     "data": {
      "application/vnd.jupyter.widget-view+json": {
       "model_id": "73c1fc56378b4bd5b653b2af3f2b40ea",
       "version_major": 2,
       "version_minor": 0
      },
      "text/plain": [
       "HBox(children=(HTML(value=''), FloatProgress(value=0.0, max=15.0), HTML(value='')))"
      ]
     },
     "metadata": {},
     "output_type": "display_data"
    },
    {
     "name": "stdout",
     "output_type": "stream",
     "text": [
      "\n"
     ]
    },
    {
     "data": {
      "application/vnd.jupyter.widget-view+json": {
       "model_id": "59627482c67445bf9db6f43b85b0ca8e",
       "version_major": 2,
       "version_minor": 0
      },
      "text/plain": [
       "HBox(children=(HTML(value=''), FloatProgress(value=0.0, max=5000.0), HTML(value='')))"
      ]
     },
     "metadata": {},
     "output_type": "display_data"
    },
    {
     "name": "stdout",
     "output_type": "stream",
     "text": [
      "\n"
     ]
    },
    {
     "data": {
      "text/html": [
       "<div>\n",
       "<style scoped>\n",
       "    .dataframe tbody tr th:only-of-type {\n",
       "        vertical-align: middle;\n",
       "    }\n",
       "\n",
       "    .dataframe tbody tr th {\n",
       "        vertical-align: top;\n",
       "    }\n",
       "\n",
       "    .dataframe thead th {\n",
       "        text-align: right;\n",
       "    }\n",
       "</style>\n",
       "<table border=\"1\" class=\"dataframe\">\n",
       "  <thead>\n",
       "    <tr style=\"text-align: right;\">\n",
       "      <th></th>\n",
       "      <th>user_id</th>\n",
       "      <th>item_id</th>\n",
       "      <th>median_sales_hour</th>\n",
       "      <th>median_weekday</th>\n",
       "      <th>mean_visits_interval</th>\n",
       "      <th>mean_check</th>\n",
       "      <th>n_stores</th>\n",
       "      <th>n_items</th>\n",
       "      <th>n_transactions</th>\n",
       "      <th>mean_n_items_basket</th>\n",
       "      <th>...</th>\n",
       "      <th>user_factor_11</th>\n",
       "      <th>user_factor_12</th>\n",
       "      <th>user_factor_13</th>\n",
       "      <th>user_factor_14</th>\n",
       "      <th>user_factor_15</th>\n",
       "      <th>user_factor_16</th>\n",
       "      <th>user_factor_17</th>\n",
       "      <th>user_factor_18</th>\n",
       "      <th>user_factor_19</th>\n",
       "      <th>user_factor_20</th>\n",
       "    </tr>\n",
       "  </thead>\n",
       "  <tbody>\n",
       "    <tr>\n",
       "      <th>0</th>\n",
       "      <td>1</td>\n",
       "      <td>823721</td>\n",
       "      <td>13.0</td>\n",
       "      <td>4.0</td>\n",
       "      <td>NaN</td>\n",
       "      <td>37.4205</td>\n",
       "      <td>94</td>\n",
       "      <td>172</td>\n",
       "      <td>661</td>\n",
       "      <td>8.533333</td>\n",
       "      <td>...</td>\n",
       "      <td>-0.066858</td>\n",
       "      <td>-13.836313</td>\n",
       "      <td>11.086643</td>\n",
       "      <td>-2.475839</td>\n",
       "      <td>9.660925</td>\n",
       "      <td>10.067607</td>\n",
       "      <td>7.387646</td>\n",
       "      <td>0.326527</td>\n",
       "      <td>3.84519</td>\n",
       "      <td>1.751012</td>\n",
       "    </tr>\n",
       "    <tr>\n",
       "      <th>1</th>\n",
       "      <td>1</td>\n",
       "      <td>823990</td>\n",
       "      <td>15.0</td>\n",
       "      <td>6.0</td>\n",
       "      <td>NaN</td>\n",
       "      <td>37.4205</td>\n",
       "      <td>95</td>\n",
       "      <td>172</td>\n",
       "      <td>661</td>\n",
       "      <td>8.533333</td>\n",
       "      <td>...</td>\n",
       "      <td>-0.066858</td>\n",
       "      <td>-13.836313</td>\n",
       "      <td>11.086643</td>\n",
       "      <td>-2.475839</td>\n",
       "      <td>9.660925</td>\n",
       "      <td>10.067607</td>\n",
       "      <td>7.387646</td>\n",
       "      <td>0.326527</td>\n",
       "      <td>3.84519</td>\n",
       "      <td>1.751012</td>\n",
       "    </tr>\n",
       "  </tbody>\n",
       "</table>\n",
       "<p>2 rows × 55 columns</p>\n",
       "</div>"
      ],
      "text/plain": [
       "   user_id  item_id  median_sales_hour  median_weekday  mean_visits_interval  \\\n",
       "0        1   823721               13.0             4.0                   NaN   \n",
       "1        1   823990               15.0             6.0                   NaN   \n",
       "\n",
       "   mean_check  n_stores  n_items  n_transactions  mean_n_items_basket  ...  \\\n",
       "0     37.4205        94      172             661             8.533333  ...   \n",
       "1     37.4205        95      172             661             8.533333  ...   \n",
       "\n",
       "   user_factor_11  user_factor_12  user_factor_13  user_factor_14  \\\n",
       "0       -0.066858      -13.836313       11.086643       -2.475839   \n",
       "1       -0.066858      -13.836313       11.086643       -2.475839   \n",
       "\n",
       "   user_factor_15  user_factor_16  user_factor_17  user_factor_18  \\\n",
       "0        9.660925       10.067607        7.387646        0.326527   \n",
       "1        9.660925       10.067607        7.387646        0.326527   \n",
       "\n",
       "   user_factor_19  user_factor_20  \n",
       "0         3.84519        1.751012  \n",
       "1         3.84519        1.751012  \n",
       "\n",
       "[2 rows x 55 columns]"
      ]
     },
     "execution_count": 31,
     "metadata": {},
     "output_type": "execute_result"
    }
   ],
   "source": [
    "user_item_features = get_user_item_features(data_train_lvl_1)\n",
    "user_item_features.head(2)"
   ]
  },
  {
   "cell_type": "markdown",
   "metadata": {},
   "source": [
    "## Формирование признаков для обучения модели второго уровня"
   ]
  },
  {
   "cell_type": "code",
   "execution_count": 158,
   "metadata": {
    "ExecuteTime": {
     "end_time": "2021-02-23T16:32:13.383972Z",
     "start_time": "2021-02-23T16:32:13.375998Z"
    }
   },
   "outputs": [],
   "source": [
    "def get_candidates(data_train_lvl_1, data_train_lvl_2, N, add_to_lvl_2):\n",
    "    recommender = MainRecommender(data_train_lvl_1)\n",
    "\n",
    "    users_lvl_1 = data_train_lvl_1['user_id'].unique()\n",
    "    users_lvl_2 = data_train_lvl_2['user_id'].unique().tolist()\n",
    "    if add_to_lvl_2:\n",
    "        users_lvl_2 += add_to_lvl_2\n",
    "\n",
    "    current_users = list(set(users_lvl_2) & set(users_lvl_1))    \n",
    "    new_users = list(set(users_lvl_2) - set(users_lvl_1))\n",
    "\n",
    "    df = pd.DataFrame(users_lvl_2, columns=['user_id'])\n",
    "    cond_1 = df['user_id'].isin(current_users)\n",
    "    df.loc[cond_1, 'candidates'] = df.loc[cond_1, 'user_id'].apply(\n",
    "        lambda x: recommender.get_own_recommendations(x, N))\n",
    "\n",
    "    if new_users:\n",
    "        cond_2 = df['user_id'].isin(new_users)\n",
    "        df.loc[cond_2, 'candidates'] = df.loc[cond_2, 'user_id'].apply(\n",
    "            lambda x: recommender.overall_top_purchases[:N])\n",
    "        \n",
    "    return df\n",
    "\n",
    "\n",
    "\n",
    "def get_targets_lvl_2(data_train_lvl_1, data_train_lvl_2, user_item_features, N, add_to_lvl_2=None):\n",
    "    \n",
    "    users_lvl_2 = get_candidates(data_train_lvl_1, data_train_lvl_2, N, add_to_lvl_2)\n",
    "    \n",
    "    df = pd.DataFrame({'user_id': users_lvl_2['user_id'].values.repeat(N),\n",
    "                       'item_id': np.concatenate(users_lvl_2['candidates'].values)})\n",
    "\n",
    "    targets_lvl_2 = data_train_lvl_2[['user_id', 'item_id']].copy()\n",
    "    targets_lvl_2['target'] = 1  # тут только покупки \n",
    "\n",
    "    targets_lvl_2 = df.merge(targets_lvl_2, on=['user_id', 'item_id'], how='left')\n",
    "    targets_lvl_2['target'].fillna(0, inplace= True)\n",
    "    \n",
    "    targets_lvl_2 = targets_lvl_2.merge(\n",
    "        user_item_features, on=['user_id', 'item_id'], how='left')\n",
    "    \n",
    "    return targets_lvl_2"
   ]
  },
  {
   "cell_type": "code",
   "execution_count": 33,
   "metadata": {
    "ExecuteTime": {
     "end_time": "2021-02-23T09:51:15.804166Z",
     "start_time": "2021-02-23T09:51:03.130790Z"
    },
    "scrolled": true
   },
   "outputs": [
    {
     "data": {
      "application/vnd.jupyter.widget-view+json": {
       "model_id": "f76b1194aa264f6ea2d665869d727c62",
       "version_major": 2,
       "version_minor": 0
      },
      "text/plain": [
       "HBox(children=(HTML(value=''), FloatProgress(value=0.0, max=15.0), HTML(value='')))"
      ]
     },
     "metadata": {},
     "output_type": "display_data"
    },
    {
     "name": "stdout",
     "output_type": "stream",
     "text": [
      "\n"
     ]
    },
    {
     "data": {
      "application/vnd.jupyter.widget-view+json": {
       "model_id": "e81bd5be65f04a7aa37f9cfff271ec02",
       "version_major": 2,
       "version_minor": 0
      },
      "text/plain": [
       "HBox(children=(HTML(value=''), FloatProgress(value=0.0, max=5001.0), HTML(value='')))"
      ]
     },
     "metadata": {},
     "output_type": "display_data"
    },
    {
     "name": "stdout",
     "output_type": "stream",
     "text": [
      "\n",
      "число пользователей: 2280\n",
      "среднее число покупок: 0.0388\n"
     ]
    },
    {
     "data": {
      "text/html": [
       "<div>\n",
       "<style scoped>\n",
       "    .dataframe tbody tr th:only-of-type {\n",
       "        vertical-align: middle;\n",
       "    }\n",
       "\n",
       "    .dataframe tbody tr th {\n",
       "        vertical-align: top;\n",
       "    }\n",
       "\n",
       "    .dataframe thead th {\n",
       "        text-align: right;\n",
       "    }\n",
       "</style>\n",
       "<table border=\"1\" class=\"dataframe\">\n",
       "  <thead>\n",
       "    <tr style=\"text-align: right;\">\n",
       "      <th></th>\n",
       "      <th>user_id</th>\n",
       "      <th>item_id</th>\n",
       "      <th>target</th>\n",
       "      <th>manufacturer</th>\n",
       "      <th>department</th>\n",
       "      <th>brand</th>\n",
       "      <th>commodity_desc</th>\n",
       "      <th>sub_commodity_desc</th>\n",
       "      <th>curr_size_of_product</th>\n",
       "      <th>manufacturer_freq</th>\n",
       "      <th>...</th>\n",
       "      <th>user_factor_11</th>\n",
       "      <th>user_factor_12</th>\n",
       "      <th>user_factor_13</th>\n",
       "      <th>user_factor_14</th>\n",
       "      <th>user_factor_15</th>\n",
       "      <th>user_factor_16</th>\n",
       "      <th>user_factor_17</th>\n",
       "      <th>user_factor_18</th>\n",
       "      <th>user_factor_19</th>\n",
       "      <th>user_factor_20</th>\n",
       "    </tr>\n",
       "  </thead>\n",
       "  <tbody>\n",
       "    <tr>\n",
       "      <th>0</th>\n",
       "      <td>2070</td>\n",
       "      <td>1105426</td>\n",
       "      <td>0.0</td>\n",
       "      <td>69</td>\n",
       "      <td>DELI</td>\n",
       "      <td>0</td>\n",
       "      <td>SANDWICHES</td>\n",
       "      <td>SANDWICHES - (COLD)</td>\n",
       "      <td></td>\n",
       "      <td>12676.0</td>\n",
       "      <td>...</td>\n",
       "      <td>0.863086</td>\n",
       "      <td>-5.101696</td>\n",
       "      <td>-5.651862</td>\n",
       "      <td>1.543685</td>\n",
       "      <td>0.486819</td>\n",
       "      <td>-2.996246</td>\n",
       "      <td>-0.250356</td>\n",
       "      <td>14.947995</td>\n",
       "      <td>0.457047</td>\n",
       "      <td>6.458431</td>\n",
       "    </tr>\n",
       "    <tr>\n",
       "      <th>1</th>\n",
       "      <td>2070</td>\n",
       "      <td>1097350</td>\n",
       "      <td>0.0</td>\n",
       "      <td>2468</td>\n",
       "      <td>GROCERY</td>\n",
       "      <td>1</td>\n",
       "      <td>DOMESTIC WINE</td>\n",
       "      <td>VALUE GLASS WINE</td>\n",
       "      <td>4 LTR</td>\n",
       "      <td>299.0</td>\n",
       "      <td>...</td>\n",
       "      <td>NaN</td>\n",
       "      <td>NaN</td>\n",
       "      <td>NaN</td>\n",
       "      <td>NaN</td>\n",
       "      <td>NaN</td>\n",
       "      <td>NaN</td>\n",
       "      <td>NaN</td>\n",
       "      <td>NaN</td>\n",
       "      <td>NaN</td>\n",
       "      <td>NaN</td>\n",
       "    </tr>\n",
       "  </tbody>\n",
       "</table>\n",
       "<p>2 rows × 75 columns</p>\n",
       "</div>"
      ],
      "text/plain": [
       "   user_id  item_id  target  manufacturer department  brand commodity_desc  \\\n",
       "0     2070  1105426     0.0            69       DELI      0     SANDWICHES   \n",
       "1     2070  1097350     0.0          2468    GROCERY      1  DOMESTIC WINE   \n",
       "\n",
       "    sub_commodity_desc curr_size_of_product  manufacturer_freq  ...  \\\n",
       "0  SANDWICHES - (COLD)                                 12676.0  ...   \n",
       "1     VALUE GLASS WINE                4 LTR              299.0  ...   \n",
       "\n",
       "   user_factor_11  user_factor_12  user_factor_13  user_factor_14  \\\n",
       "0        0.863086       -5.101696       -5.651862        1.543685   \n",
       "1             NaN             NaN             NaN             NaN   \n",
       "\n",
       "   user_factor_15  user_factor_16  user_factor_17  user_factor_18  \\\n",
       "0        0.486819       -2.996246       -0.250356       14.947995   \n",
       "1             NaN             NaN             NaN             NaN   \n",
       "\n",
       "   user_factor_19  user_factor_20  \n",
       "0        0.457047        6.458431  \n",
       "1             NaN             NaN  \n",
       "\n",
       "[2 rows x 75 columns]"
      ]
     },
     "execution_count": 33,
     "metadata": {},
     "output_type": "execute_result"
    }
   ],
   "source": [
    "N = 500\n",
    "targets_lvl_2 = get_targets_lvl_2(data_train_lvl_1, data_train_lvl_2, user_item_features, N, add_to_lvl_2)\n",
    "\n",
    "print(f'число пользователей: {targets_lvl_2.user_id.nunique()}')\n",
    "print(f'среднее число покупок: {round(targets_lvl_2[\"target\"].mean(), 4)}')\n",
    "\n",
    "targets_lvl_2.head(2)"
   ]
  },
  {
   "cell_type": "markdown",
   "metadata": {},
   "source": [
    "## Отбор признаков"
   ]
  },
  {
   "cell_type": "code",
   "execution_count": 177,
   "metadata": {
    "ExecuteTime": {
     "end_time": "2021-02-23T17:39:14.652738Z",
     "start_time": "2021-02-23T17:39:14.644622Z"
    }
   },
   "outputs": [],
   "source": [
    "SELECTED_FEATURES_NAMES = ['brand', 'manufacturer_freq', 'department_freq', 'commodity_desc_freq',\n",
    "                           'sub_commodity_desc_freq', 'curr_size_of_product_freq',\n",
    "                           'commodity_category', 'age_desc', 'marital_status_code', 'income_desc',\n",
    "                           'homeowner_desc', 'hh_comp_desc'\n",
    "                           \n",
    "                             \n",
    "                           'manufacturer',\n",
    "                           \n",
    "                           'median_sales_hour', 'median_weekday', \n",
    "                           'mean_check', \n",
    "                           'n_stores', 'n_items', 'n_transactions', \n",
    "                           'mean_n_items_basket', 'max_n_items_basket', 'std_n_items_basket',\n",
    "                           'mean_n_item_categories_basket', 'max_n_item_categories_basket', \n",
    "                           'std_n_item_categories_basket',\n",
    "                           'factor_1', 'factor_2', 'factor_3', 'factor_4', 'factor_5',\n",
    "                           'factor_6', 'factor_7', 'factor_8', 'factor_9', 'factor_10',\n",
    "                           'factor_11', 'factor_12', 'factor_13', 'factor_14', 'factor_15',\n",
    "                           'factor_16', 'factor_17', 'factor_18', 'factor_19', 'factor_20',\n",
    "                           \n",
    "                           'user_factor_1', 'user_factor_2', 'user_factor_3', 'user_factor_4',\n",
    "                           'user_factor_5', 'user_factor_6', 'user_factor_7', 'user_factor_8',\n",
    "                           'user_factor_9', 'user_factor_10', 'user_factor_11', 'user_factor_12',\n",
    "                           'user_factor_13', 'user_factor_14', 'user_factor_15', 'user_factor_16',\n",
    "                           'user_factor_17', 'user_factor_18', 'user_factor_19', 'user_factor_20',\n",
    "                          ]\n",
    "categorical = ['marital_status_code','homeowner_desc', 'hh_comp_desc', 'manufacturer','commodity_category']"
   ]
  },
  {
   "cell_type": "markdown",
   "metadata": {},
   "source": [
    "## Модели второго уровня"
   ]
  },
  {
   "cell_type": "code",
   "execution_count": 178,
   "metadata": {
    "ExecuteTime": {
     "end_time": "2021-02-23T17:39:15.922534Z",
     "start_time": "2021-02-23T17:39:15.911564Z"
    }
   },
   "outputs": [],
   "source": [
    "SELECTED_FEATURES_NAMES_cb = [i for i in SELECTED_FEATURES_NAMES if not i in categorical]"
   ]
  },
  {
   "cell_type": "code",
   "execution_count": 179,
   "metadata": {
    "ExecuteTime": {
     "end_time": "2021-02-23T17:39:18.525626Z",
     "start_time": "2021-02-23T17:39:18.516644Z"
    }
   },
   "outputs": [],
   "source": [
    "def run_model_cb(targets_lvl_2):    \n",
    "    X_train, X_valid, y_train, y_valid = train_test_split(targets_lvl_2[SELECTED_FEATURES_NAMES_cb].fillna(0),\n",
    "                                                          targets_lvl_2[['target']],\n",
    "                                                          test_size=0.2, random_state=16,\n",
    "                                                          stratify=targets_lvl_2[['target']])\n",
    "\n",
    "    dtrain = Pool(data=X_train, label=y_train) \n",
    "    dvalid = Pool(data=X_valid, label=y_valid) \n",
    "\n",
    "    params_cb = {\"n_estimators\":5000,\n",
    "                 #\"learning_rate\": 0.1,\n",
    "                 \"loss_function\": \"Logloss\",\n",
    "                 \"eval_metric\": \"AUC\",\n",
    "                 \"task_type\": \"CPU\",\n",
    "                 \"max_bin\": 30,\n",
    "                 \"early_stopping_rounds\": 30,\n",
    "                 \"verbose\": 1000,\n",
    "                 #\"max_depth\": 10,\n",
    "                 \"l2_leaf_reg\": 80,\n",
    "                 \"thread_count\": 6,\n",
    "                 \"random_seed\": 51} \n",
    "\n",
    "    model_cb = CatBoostClassifier(**params_cb)\n",
    "    model_cb.fit(dtrain, eval_set=[dvalid])\n",
    "\n",
    "    \n",
    "    return model_cb"
   ]
  },
  {
   "cell_type": "code",
   "execution_count": 60,
   "metadata": {
    "ExecuteTime": {
     "end_time": "2021-02-23T11:20:24.424913Z",
     "start_time": "2021-02-23T11:01:48.024845Z"
    },
    "scrolled": true
   },
   "outputs": [
    {
     "name": "stdout",
     "output_type": "stream",
     "text": [
      "0:\ttest: 0.8068273\tbest: 0.8068273 (0)\ttotal: 192ms\tremaining: 15m 59s\n",
      "1000:\ttest: 0.8819365\tbest: 0.8819365 (1000)\ttotal: 3m 38s\tremaining: 14m 31s\n",
      "2000:\ttest: 0.8894023\tbest: 0.8894023 (2000)\ttotal: 7m 21s\tremaining: 11m 1s\n",
      "3000:\ttest: 0.8941186\tbest: 0.8941186 (3000)\ttotal: 11m 2s\tremaining: 7m 21s\n",
      "4000:\ttest: 0.8975334\tbest: 0.8975338 (3999)\ttotal: 14m 42s\tremaining: 3m 40s\n",
      "4999:\ttest: 0.9001035\tbest: 0.9001035 (4999)\ttotal: 18m 26s\tremaining: 0us\n",
      "\n",
      "bestTest = 0.9001035431\n",
      "bestIteration = 4999\n",
      "\n"
     ]
    }
   ],
   "source": [
    "model_cb = run_model_cb(targets_lvl_2)"
   ]
  },
  {
   "cell_type": "code",
   "execution_count": 42,
   "metadata": {
    "ExecuteTime": {
     "end_time": "2021-02-23T10:28:56.488399Z",
     "start_time": "2021-02-23T10:28:56.476461Z"
    }
   },
   "outputs": [
    {
     "name": "stdout",
     "output_type": "stream",
     "text": [
      "{'nan_mode': 'Min', 'eval_metric': 'AUC', 'iterations': 5000, 'sampling_frequency': 'PerTree', 'leaf_estimation_method': 'Newton', 'od_pval': 0, 'grow_policy': 'SymmetricTree', 'penalties_coefficient': 1, 'boosting_type': 'Plain', 'model_shrink_mode': 'Constant', 'feature_border_type': 'GreedyLogSum', 'bayesian_matrix_reg': 0.10000000149011612, 'l2_leaf_reg': 80, 'random_strength': 1, 'od_type': 'Iter', 'rsm': 1, 'boost_from_average': False, 'model_size_reg': 0.5, 'subsample': 0.800000011920929, 'use_best_model': True, 'od_wait': 30, 'class_names': [0, 1], 'random_seed': 51, 'depth': 6, 'posterior_sampling': False, 'border_count': 30, 'classes_count': 0, 'auto_class_weights': 'None', 'sparse_features_conflict_fraction': 0, 'leaf_estimation_backtracking': 'AnyImprovement', 'best_model_min_trees': 1, 'model_shrink_rate': 0, 'min_data_in_leaf': 1, 'loss_function': 'Logloss', 'learning_rate': 0.029999999329447743, 'score_function': 'Cosine', 'task_type': 'CPU', 'leaf_estimation_iterations': 10, 'bootstrap_type': 'MVS', 'max_leaves': 64}\n"
     ]
    }
   ],
   "source": [
    "print(model_cb.get_all_params())"
   ]
  },
  {
   "cell_type": "code",
   "execution_count": 57,
   "metadata": {
    "ExecuteTime": {
     "end_time": "2021-02-23T10:51:25.479983Z",
     "start_time": "2021-02-23T10:51:25.464040Z"
    }
   },
   "outputs": [],
   "source": [
    "def run_model_lgb(targets_lvl_2):\n",
    "    X_train, X_valid, y_train, y_valid = train_test_split(targets_lvl_2[SELECTED_FEATURES_NAMES].fillna(0),\n",
    "                                                          targets_lvl_2[['target']],\n",
    "                                                          test_size=0.2, random_state=16,\n",
    "                                                          stratify=targets_lvl_2[['target']])\n",
    "\n",
    "    dtrain = lgb.Dataset(X_train, y_train, categorical_feature=categorical)\n",
    "    dvalid = lgb.Dataset(X_valid, y_valid, categorical_feature=categorical)\n",
    "\n",
    "    params_lgb = {\n",
    "                  \"objective\": \"binary\", \n",
    "                  \"metric\": \"auc\",\n",
    "                  \"num_boost_round\": 10000, \n",
    "                  \"n_jobs\": 8,\n",
    "                  \"force_row_wise\": True, \n",
    "                  \"seed\": 24} \n",
    "\n",
    "    model_lgb = lgb.train(params=params_lgb,\n",
    "                          train_set=dtrain,  \n",
    "                          valid_sets=[dtrain, dvalid],\n",
    "                          categorical_feature=categorical,\n",
    "                          verbose_eval=1000,\n",
    "                          early_stopping_rounds=30)\n",
    "    \n",
    "    return model_lgb"
   ]
  },
  {
   "cell_type": "code",
   "execution_count": 59,
   "metadata": {
    "ExecuteTime": {
     "end_time": "2021-02-23T11:00:42.673718Z",
     "start_time": "2021-02-23T10:57:33.811489Z"
    }
   },
   "outputs": [
    {
     "name": "stderr",
     "output_type": "stream",
     "text": [
      "C:\\Users\\Alex\\anaconda3\\lib\\site-packages\\lightgbm\\engine.py:151: UserWarning: Found `num_boost_round` in params. Will use it instead of argument\n",
      "  warnings.warn(\"Found `{}` in params. Will use it instead of argument\".format(alias))\n"
     ]
    },
    {
     "name": "stdout",
     "output_type": "stream",
     "text": [
      "[LightGBM] [Info] Number of positive: 35723, number of negative: 885897\n",
      "[LightGBM] [Info] Total Bins 13722\n",
      "[LightGBM] [Info] Number of data points in the train set: 921620, number of used features: 65\n"
     ]
    },
    {
     "name": "stderr",
     "output_type": "stream",
     "text": [
      "C:\\Users\\Alex\\anaconda3\\lib\\site-packages\\lightgbm\\basic.py:1286: UserWarning: Overriding the parameters from Reference Dataset.\n",
      "  warnings.warn('Overriding the parameters from Reference Dataset.')\n",
      "C:\\Users\\Alex\\anaconda3\\lib\\site-packages\\lightgbm\\basic.py:1098: UserWarning: categorical_column in param dict is overridden.\n",
      "  warnings.warn('{} in param dict is overridden.'.format(cat_alias))\n"
     ]
    },
    {
     "name": "stdout",
     "output_type": "stream",
     "text": [
      "[LightGBM] [Info] [binary:BoostFromScore]: pavg=0.038761 -> initscore=-3.210806\n",
      "[LightGBM] [Info] Start training from score -3.210806\n",
      "Training until validation scores don't improve for 30 rounds\n",
      "[1000]\ttraining's auc: 0.94983\tvalid_1's auc: 0.911459\n",
      "Early stopping, best iteration is:\n",
      "[1322]\ttraining's auc: 0.954272\tvalid_1's auc: 0.912695\n"
     ]
    }
   ],
   "source": [
    "model_lgb = run_model_lgb(targets_lvl_2)\n",
    "[1322]\ttraining's auc: 0.954272\tvalid_1's auc: 0.912695"
   ]
  },
  {
   "cell_type": "markdown",
   "metadata": {},
   "source": [
    "## Генерация прогнозов"
   ]
  },
  {
   "cell_type": "code",
   "execution_count": 61,
   "metadata": {
    "ExecuteTime": {
     "end_time": "2021-02-23T11:25:35.824049Z",
     "start_time": "2021-02-23T11:25:10.784655Z"
    }
   },
   "outputs": [],
   "source": [
    "predictions_lgb_train = model_lgb.predict(targets_lvl_2[SELECTED_FEATURES_NAMES].fillna(0))\n",
    "predictions_cb_train = model_cb.predict_proba(targets_lvl_2[SELECTED_FEATURES_NAMES_cb].fillna(0))[:, 1]"
   ]
  },
  {
   "cell_type": "markdown",
   "metadata": {},
   "source": [
    "**Объединение прогнозов**"
   ]
  },
  {
   "cell_type": "code",
   "execution_count": 62,
   "metadata": {
    "ExecuteTime": {
     "end_time": "2021-02-23T11:35:06.991227Z",
     "start_time": "2021-02-23T11:35:06.020777Z"
    }
   },
   "outputs": [
    {
     "data": {
      "text/plain": [
       "0.9384561600781899"
      ]
     },
     "execution_count": 62,
     "metadata": {},
     "output_type": "execute_result"
    }
   ],
   "source": [
    "preds_train = pd.DataFrame(zip(predictions_lgb_train, \n",
    "                               predictions_cb_train),\n",
    "                           columns=['lgb', 'cb']).mean(axis=1).values\n",
    "roc_auc_score(targets_lvl_2['target'], preds_train)\n",
    "# 0.9384561600781899"
   ]
  },
  {
   "cell_type": "markdown",
   "metadata": {},
   "source": [
    "## Обработка прогнозов"
   ]
  },
  {
   "cell_type": "code",
   "execution_count": 207,
   "metadata": {
    "ExecuteTime": {
     "end_time": "2021-02-23T19:03:41.481262Z",
     "start_time": "2021-02-23T19:03:41.469207Z"
    }
   },
   "outputs": [],
   "source": [
    "def get_predictions(targets_lvl_2, raw_predictions, prefix='lgb'): \n",
    "    df = targets_lvl_2[['user_id', 'item_id']]\n",
    "    df['predictions'] = raw_predictions\n",
    "\n",
    "    df = df.groupby(['user_id', 'item_id'])['predictions'].median().reset_index()\n",
    "    df = df.sort_values(['predictions'], ascending=False).groupby(['user_id']).head(5)\n",
    "\n",
    "    df = df.groupby('user_id')['item_id'].unique().reset_index()\n",
    "    df.columns = ['user_id', prefix + '_recommendations']\n",
    "    \n",
    "    return df\n",
    "\n",
    "\n",
    "def get_results(data_val_lvl_2, targets_lvl_2, preds_lgb, preds_cb, combined_preds):\n",
    "    result = data_val_lvl_2.groupby('user_id')['item_id'].unique().reset_index()\n",
    "    result.columns=['user_id', 'actual']\n",
    "    \n",
    "    prefixes = ['lgb', 'cb', 'cb_lgb']\n",
    "    predictions = [preds_lgb, preds_cb, combined_preds]\n",
    "    \n",
    "    for i, preds in enumerate(predictions):\n",
    "        df = get_predictions(targets_lvl_2, preds, prefixes[i])\n",
    "        result = result.merge(df, on='user_id', how='left')\n",
    "\n",
    "    return result"
   ]
  },
  {
   "cell_type": "code",
   "execution_count": 64,
   "metadata": {
    "ExecuteTime": {
     "end_time": "2021-02-23T11:36:14.270025Z",
     "start_time": "2021-02-23T11:36:12.011491Z"
    }
   },
   "outputs": [
    {
     "name": "stderr",
     "output_type": "stream",
     "text": [
      "<ipython-input-63-eb3e5b27e213>:3: SettingWithCopyWarning: \n",
      "A value is trying to be set on a copy of a slice from a DataFrame.\n",
      "Try using .loc[row_indexer,col_indexer] = value instead\n",
      "\n",
      "See the caveats in the documentation: https://pandas.pydata.org/pandas-docs/stable/user_guide/indexing.html#returning-a-view-versus-a-copy\n",
      "  df['predictions'] = raw_predictions\n"
     ]
    },
    {
     "data": {
      "text/html": [
       "<div>\n",
       "<style scoped>\n",
       "    .dataframe tbody tr th:only-of-type {\n",
       "        vertical-align: middle;\n",
       "    }\n",
       "\n",
       "    .dataframe tbody tr th {\n",
       "        vertical-align: top;\n",
       "    }\n",
       "\n",
       "    .dataframe thead th {\n",
       "        text-align: right;\n",
       "    }\n",
       "</style>\n",
       "<table border=\"1\" class=\"dataframe\">\n",
       "  <thead>\n",
       "    <tr style=\"text-align: right;\">\n",
       "      <th></th>\n",
       "      <th>user_id</th>\n",
       "      <th>actual</th>\n",
       "      <th>lgb_recommendations</th>\n",
       "      <th>cb_recommendations</th>\n",
       "      <th>cb_lgb_recommendations</th>\n",
       "    </tr>\n",
       "  </thead>\n",
       "  <tbody>\n",
       "    <tr>\n",
       "      <th>0</th>\n",
       "      <td>1</td>\n",
       "      <td>[821867, 834484, 856942, 865456, 889248, 90795...</td>\n",
       "      <td>[8293439, 940947, 10149640, 1082212, 871570]</td>\n",
       "      <td>[872137, 940947, 1082185, 856942, 9655212]</td>\n",
       "      <td>[940947, 872137, 1082185, 10149640, 856942]</td>\n",
       "    </tr>\n",
       "    <tr>\n",
       "      <th>1</th>\n",
       "      <td>3</td>\n",
       "      <td>[835476, 851057, 872021, 878302, 879948, 90963...</td>\n",
       "      <td>[1106523, 1082185, 983584, 870547, 5569230]</td>\n",
       "      <td>[1106523, 1082185, 1044078, 983584, 899624]</td>\n",
       "      <td>[1106523, 1082185, 983584, 899624, 870547]</td>\n",
       "    </tr>\n",
       "  </tbody>\n",
       "</table>\n",
       "</div>"
      ],
      "text/plain": [
       "   user_id                                             actual  \\\n",
       "0        1  [821867, 834484, 856942, 865456, 889248, 90795...   \n",
       "1        3  [835476, 851057, 872021, 878302, 879948, 90963...   \n",
       "\n",
       "                            lgb_recommendations  \\\n",
       "0  [8293439, 940947, 10149640, 1082212, 871570]   \n",
       "1   [1106523, 1082185, 983584, 870547, 5569230]   \n",
       "\n",
       "                            cb_recommendations  \\\n",
       "0   [872137, 940947, 1082185, 856942, 9655212]   \n",
       "1  [1106523, 1082185, 1044078, 983584, 899624]   \n",
       "\n",
       "                        cb_lgb_recommendations  \n",
       "0  [940947, 872137, 1082185, 10149640, 856942]  \n",
       "1   [1106523, 1082185, 983584, 899624, 870547]  "
      ]
     },
     "execution_count": 64,
     "metadata": {},
     "output_type": "execute_result"
    }
   ],
   "source": [
    "result_lvl_2 = get_results(data_val_lvl_2, targets_lvl_2, \n",
    "                           predictions_lgb_train,\n",
    "                           predictions_cb_train, \n",
    "                           preds_train)\n",
    "result_lvl_2.head(2)"
   ]
  },
  {
   "cell_type": "markdown",
   "metadata": {},
   "source": [
    "## Метрики качества"
   ]
  },
  {
   "cell_type": "markdown",
   "metadata": {},
   "source": [
    "**LightGBM**"
   ]
  },
  {
   "cell_type": "code",
   "execution_count": 65,
   "metadata": {
    "ExecuteTime": {
     "end_time": "2021-02-23T11:37:09.017569Z",
     "start_time": "2021-02-23T11:37:08.925369Z"
    }
   },
   "outputs": [
    {
     "data": {
      "text/plain": [
       "0.29441723800195807"
      ]
     },
     "execution_count": 65,
     "metadata": {},
     "output_type": "execute_result"
    }
   ],
   "source": [
    "result_lvl_2.apply(lambda row: precision_at_k(row['lgb_recommendations'], row['actual'], 5), axis=1).mean()\n",
    "# 0.29441723800195807"
   ]
  },
  {
   "cell_type": "markdown",
   "metadata": {},
   "source": [
    "**CatBoost**"
   ]
  },
  {
   "cell_type": "code",
   "execution_count": 66,
   "metadata": {
    "ExecuteTime": {
     "end_time": "2021-02-23T11:37:36.519551Z",
     "start_time": "2021-02-23T11:37:36.411449Z"
    }
   },
   "outputs": [
    {
     "data": {
      "text/plain": [
       "0.2863858961802145"
      ]
     },
     "execution_count": 66,
     "metadata": {},
     "output_type": "execute_result"
    }
   ],
   "source": [
    "result_lvl_2.apply(lambda row: precision_at_k(row['cb_recommendations'], row['actual'], 5), axis=1).mean()\n",
    "# 0.2863858961802145"
   ]
  },
  {
   "cell_type": "markdown",
   "metadata": {},
   "source": [
    "**Ensemble**"
   ]
  },
  {
   "cell_type": "code",
   "execution_count": 67,
   "metadata": {
    "ExecuteTime": {
     "end_time": "2021-02-23T11:38:08.716340Z",
     "start_time": "2021-02-23T11:38:08.624484Z"
    }
   },
   "outputs": [
    {
     "data": {
      "text/plain": [
       "0.30499510284035214"
      ]
     },
     "execution_count": 67,
     "metadata": {},
     "output_type": "execute_result"
    }
   ],
   "source": [
    "result_lvl_2.apply(lambda row: precision_at_k(row['cb_lgb_recommendations'], row['actual'], 5), axis=1).mean()\n",
    "# 0.30499510284035214"
   ]
  },
  {
   "cell_type": "markdown",
   "metadata": {},
   "source": [
    "## Построение финальных прогнозов\n",
    "\n",
    "на всей обучающей выборке"
   ]
  },
  {
   "cell_type": "code",
   "execution_count": 68,
   "metadata": {
    "ExecuteTime": {
     "end_time": "2021-02-23T11:39:41.197017Z",
     "start_time": "2021-02-23T11:39:40.894913Z"
    }
   },
   "outputs": [],
   "source": [
    "validation_weeks = 6\n",
    "data_train = data[data['week_no'] < data['week_no'].max() - validation_weeks]\n",
    "data_valid = data[data['week_no'] >= data['week_no'].max() - validation_weeks]"
   ]
  },
  {
   "cell_type": "code",
   "execution_count": 73,
   "metadata": {
    "ExecuteTime": {
     "end_time": "2021-02-23T11:44:24.433442Z",
     "start_time": "2021-02-23T11:44:24.406442Z"
    }
   },
   "outputs": [],
   "source": [
    "test = pd.read_csv('../../data/rec_sys/predictions_basic.csv')"
   ]
  },
  {
   "cell_type": "code",
   "execution_count": 74,
   "metadata": {
    "ExecuteTime": {
     "end_time": "2021-02-23T11:44:28.126173Z",
     "start_time": "2021-02-23T11:44:28.094709Z"
    }
   },
   "outputs": [
    {
     "data": {
      "text/plain": [
       "([], [], 0)"
      ]
     },
     "execution_count": 74,
     "metadata": {},
     "output_type": "execute_result"
    }
   ],
   "source": [
    "users_lvl_1 = data_train.user_id.unique()\n",
    "users_lvl_2 = data_valid.user_id.unique()\n",
    "users_lvl_3 = test.user_id.unique()\n",
    "\n",
    "new_users_lvl_2 = list(set(users_lvl_2) - set(users_lvl_1))\n",
    "new_users_lvl_3 = list(set(users_lvl_3) - (set(users_lvl_1) | set(users_lvl_2)))\n",
    "\n",
    "add_to_lvl_2 = list(set(users_lvl_3) - (set(users_lvl_2)))\n",
    "\n",
    "new_users_lvl_2, new_users_lvl_3, len(add_to_lvl_2)"
   ]
  },
  {
   "cell_type": "code",
   "execution_count": 101,
   "metadata": {
    "ExecuteTime": {
     "end_time": "2021-02-23T14:40:43.932803Z",
     "start_time": "2021-02-23T14:40:43.925845Z"
    }
   },
   "outputs": [],
   "source": [
    "from src.metrics import precision_at_k, recall_at_k\n",
    "from src.utils import prefilter_items\n",
    "from src.recommenders import MainRecommender"
   ]
  },
  {
   "cell_type": "code",
   "execution_count": 123,
   "metadata": {
    "ExecuteTime": {
     "end_time": "2021-02-23T15:18:32.850947Z",
     "start_time": "2021-02-23T15:18:32.838984Z"
    }
   },
   "outputs": [],
   "source": [
    "import os\n",
    "os.chdir('C:/Users/Alex/YandexDisk/it/gb/rec_sys/src')\n",
    "%run utils.py"
   ]
  },
  {
   "cell_type": "code",
   "execution_count": 110,
   "metadata": {
    "ExecuteTime": {
     "end_time": "2021-02-23T14:45:37.755069Z",
     "start_time": "2021-02-23T14:45:35.489923Z"
    }
   },
   "outputs": [
    {
     "name": "stdout",
     "output_type": "stream",
     "text": [
      "Decreased # items from 89051 to 5001\n"
     ]
    }
   ],
   "source": [
    "n_items_before = data['item_id'].nunique()\n",
    "data_train = prefilter_items(data_train, item_features=item_features, take_n_popular=5000)\n",
    "n_items_after = data_train['item_id'].nunique()\n",
    "print('Decreased # items from {} to {}'.format(n_items_before, n_items_after))"
   ]
  },
  {
   "cell_type": "code",
   "execution_count": 129,
   "metadata": {
    "ExecuteTime": {
     "end_time": "2021-02-23T15:21:06.981490Z",
     "start_time": "2021-02-23T15:21:00.851125Z"
    }
   },
   "outputs": [
    {
     "data": {
      "application/vnd.jupyter.widget-view+json": {
       "model_id": "17d0c690e6ee46f083388a219c1ef771",
       "version_major": 2,
       "version_minor": 0
      },
      "text/plain": [
       "HBox(children=(HTML(value=''), FloatProgress(value=0.0, max=15.0), HTML(value='')))"
      ]
     },
     "metadata": {},
     "output_type": "display_data"
    },
    {
     "name": "stdout",
     "output_type": "stream",
     "text": [
      "\n"
     ]
    },
    {
     "data": {
      "application/vnd.jupyter.widget-view+json": {
       "model_id": "0bdcaff77edf4a0ea9874ffb71e98d8f",
       "version_major": 2,
       "version_minor": 0
      },
      "text/plain": [
       "HBox(children=(HTML(value=''), FloatProgress(value=0.0, max=5001.0), HTML(value='')))"
      ]
     },
     "metadata": {},
     "output_type": "display_data"
    },
    {
     "name": "stdout",
     "output_type": "stream",
     "text": [
      "\n"
     ]
    },
    {
     "data": {
      "text/html": [
       "<div>\n",
       "<style scoped>\n",
       "    .dataframe tbody tr th:only-of-type {\n",
       "        vertical-align: middle;\n",
       "    }\n",
       "\n",
       "    .dataframe tbody tr th {\n",
       "        vertical-align: top;\n",
       "    }\n",
       "\n",
       "    .dataframe thead th {\n",
       "        text-align: right;\n",
       "    }\n",
       "</style>\n",
       "<table border=\"1\" class=\"dataframe\">\n",
       "  <thead>\n",
       "    <tr style=\"text-align: right;\">\n",
       "      <th></th>\n",
       "      <th>user_id</th>\n",
       "      <th>item_id</th>\n",
       "      <th>median_sales_hour</th>\n",
       "      <th>median_weekday</th>\n",
       "      <th>mean_visits_interval</th>\n",
       "      <th>mean_check</th>\n",
       "      <th>n_stores</th>\n",
       "      <th>n_items</th>\n",
       "      <th>n_transactions</th>\n",
       "      <th>mean_n_items_basket</th>\n",
       "      <th>...</th>\n",
       "      <th>user_factor_11</th>\n",
       "      <th>user_factor_12</th>\n",
       "      <th>user_factor_13</th>\n",
       "      <th>user_factor_14</th>\n",
       "      <th>user_factor_15</th>\n",
       "      <th>user_factor_16</th>\n",
       "      <th>user_factor_17</th>\n",
       "      <th>user_factor_18</th>\n",
       "      <th>user_factor_19</th>\n",
       "      <th>user_factor_20</th>\n",
       "    </tr>\n",
       "  </thead>\n",
       "  <tbody>\n",
       "    <tr>\n",
       "      <th>0</th>\n",
       "      <td>1</td>\n",
       "      <td>823721</td>\n",
       "      <td>13.0</td>\n",
       "      <td>4.0</td>\n",
       "      <td>NaN</td>\n",
       "      <td>36.641061</td>\n",
       "      <td>95</td>\n",
       "      <td>180</td>\n",
       "      <td>704</td>\n",
       "      <td>8.181818</td>\n",
       "      <td>...</td>\n",
       "      <td>1.323798</td>\n",
       "      <td>14.704611</td>\n",
       "      <td>-16.621271</td>\n",
       "      <td>12.394088</td>\n",
       "      <td>14.780907</td>\n",
       "      <td>1.19799</td>\n",
       "      <td>-0.022327</td>\n",
       "      <td>14.169823</td>\n",
       "      <td>11.200868</td>\n",
       "      <td>13.728751</td>\n",
       "    </tr>\n",
       "    <tr>\n",
       "      <th>1</th>\n",
       "      <td>1</td>\n",
       "      <td>823990</td>\n",
       "      <td>15.0</td>\n",
       "      <td>6.0</td>\n",
       "      <td>NaN</td>\n",
       "      <td>36.641061</td>\n",
       "      <td>95</td>\n",
       "      <td>180</td>\n",
       "      <td>704</td>\n",
       "      <td>8.181818</td>\n",
       "      <td>...</td>\n",
       "      <td>1.323798</td>\n",
       "      <td>14.704611</td>\n",
       "      <td>-16.621271</td>\n",
       "      <td>12.394088</td>\n",
       "      <td>14.780907</td>\n",
       "      <td>1.19799</td>\n",
       "      <td>-0.022327</td>\n",
       "      <td>14.169823</td>\n",
       "      <td>11.200868</td>\n",
       "      <td>13.728751</td>\n",
       "    </tr>\n",
       "  </tbody>\n",
       "</table>\n",
       "<p>2 rows × 52 columns</p>\n",
       "</div>"
      ],
      "text/plain": [
       "   user_id  item_id  median_sales_hour  median_weekday  mean_visits_interval  \\\n",
       "0        1   823721               13.0             4.0                   NaN   \n",
       "1        1   823990               15.0             6.0                   NaN   \n",
       "\n",
       "   mean_check  n_stores  n_items  n_transactions  mean_n_items_basket  ...  \\\n",
       "0   36.641061        95      180             704             8.181818  ...   \n",
       "1   36.641061        95      180             704             8.181818  ...   \n",
       "\n",
       "   user_factor_11  user_factor_12  user_factor_13  user_factor_14  \\\n",
       "0        1.323798       14.704611      -16.621271       12.394088   \n",
       "1        1.323798       14.704611      -16.621271       12.394088   \n",
       "\n",
       "   user_factor_15  user_factor_16  user_factor_17  user_factor_18  \\\n",
       "0       14.780907         1.19799       -0.022327       14.169823   \n",
       "1       14.780907         1.19799       -0.022327       14.169823   \n",
       "\n",
       "   user_factor_19  user_factor_20  \n",
       "0       11.200868       13.728751  \n",
       "1       11.200868       13.728751  \n",
       "\n",
       "[2 rows x 52 columns]"
      ]
     },
     "execution_count": 129,
     "metadata": {},
     "output_type": "execute_result"
    }
   ],
   "source": [
    "user_item_features = get_user_item_features(data_train)\n",
    "user_item_features.head(2)"
   ]
  },
  {
   "cell_type": "code",
   "execution_count": 154,
   "metadata": {
    "ExecuteTime": {
     "end_time": "2021-02-23T16:30:43.175987Z",
     "start_time": "2021-02-23T16:30:43.167575Z"
    }
   },
   "outputs": [],
   "source": [
    "import os\n",
    "os.chdir('C:/Users/Alex/YandexDisk/it/gb/rec_sys/src')\n",
    "%run recommenders.py"
   ]
  },
  {
   "cell_type": "code",
   "execution_count": 159,
   "metadata": {
    "ExecuteTime": {
     "end_time": "2021-02-23T16:32:29.589171Z",
     "start_time": "2021-02-23T16:32:17.600445Z"
    }
   },
   "outputs": [
    {
     "data": {
      "application/vnd.jupyter.widget-view+json": {
       "model_id": "9a92c2fd5cf44274af7a37ceac68de26",
       "version_major": 2,
       "version_minor": 0
      },
      "text/plain": [
       "HBox(children=(HTML(value=''), FloatProgress(value=0.0, max=15.0), HTML(value='')))"
      ]
     },
     "metadata": {},
     "output_type": "display_data"
    },
    {
     "name": "stdout",
     "output_type": "stream",
     "text": [
      "\n"
     ]
    },
    {
     "data": {
      "application/vnd.jupyter.widget-view+json": {
       "model_id": "19099f6030ad49ebb41a2dd2fe4821db",
       "version_major": 2,
       "version_minor": 0
      },
      "text/plain": [
       "HBox(children=(HTML(value=''), FloatProgress(value=0.0, max=5001.0), HTML(value='')))"
      ]
     },
     "metadata": {},
     "output_type": "display_data"
    },
    {
     "name": "stdout",
     "output_type": "stream",
     "text": [
      "\n",
      "число пользователей: 2197\n",
      "среднее число покупок: 0.0504\n"
     ]
    },
    {
     "data": {
      "text/html": [
       "<div>\n",
       "<style scoped>\n",
       "    .dataframe tbody tr th:only-of-type {\n",
       "        vertical-align: middle;\n",
       "    }\n",
       "\n",
       "    .dataframe tbody tr th {\n",
       "        vertical-align: top;\n",
       "    }\n",
       "\n",
       "    .dataframe thead th {\n",
       "        text-align: right;\n",
       "    }\n",
       "</style>\n",
       "<table border=\"1\" class=\"dataframe\">\n",
       "  <thead>\n",
       "    <tr style=\"text-align: right;\">\n",
       "      <th></th>\n",
       "      <th>user_id</th>\n",
       "      <th>item_id</th>\n",
       "      <th>target</th>\n",
       "      <th>median_sales_hour</th>\n",
       "      <th>median_weekday</th>\n",
       "      <th>mean_visits_interval</th>\n",
       "      <th>mean_check</th>\n",
       "      <th>n_stores</th>\n",
       "      <th>n_items</th>\n",
       "      <th>n_transactions</th>\n",
       "      <th>...</th>\n",
       "      <th>user_factor_11</th>\n",
       "      <th>user_factor_12</th>\n",
       "      <th>user_factor_13</th>\n",
       "      <th>user_factor_14</th>\n",
       "      <th>user_factor_15</th>\n",
       "      <th>user_factor_16</th>\n",
       "      <th>user_factor_17</th>\n",
       "      <th>user_factor_18</th>\n",
       "      <th>user_factor_19</th>\n",
       "      <th>user_factor_20</th>\n",
       "    </tr>\n",
       "  </thead>\n",
       "  <tbody>\n",
       "    <tr>\n",
       "      <th>0</th>\n",
       "      <td>84</td>\n",
       "      <td>903529</td>\n",
       "      <td>1.0</td>\n",
       "      <td>0.0</td>\n",
       "      <td>2.0</td>\n",
       "      <td>14.461538</td>\n",
       "      <td>16.506667</td>\n",
       "      <td>15.0</td>\n",
       "      <td>58.0</td>\n",
       "      <td>163.0</td>\n",
       "      <td>...</td>\n",
       "      <td>8.195063</td>\n",
       "      <td>-7.981518</td>\n",
       "      <td>7.190837</td>\n",
       "      <td>3.530121</td>\n",
       "      <td>6.063868</td>\n",
       "      <td>-13.522961</td>\n",
       "      <td>-5.028029</td>\n",
       "      <td>-0.892844</td>\n",
       "      <td>2.514001</td>\n",
       "      <td>1.777404</td>\n",
       "    </tr>\n",
       "    <tr>\n",
       "      <th>1</th>\n",
       "      <td>84</td>\n",
       "      <td>903529</td>\n",
       "      <td>1.0</td>\n",
       "      <td>0.0</td>\n",
       "      <td>2.0</td>\n",
       "      <td>14.461538</td>\n",
       "      <td>16.506667</td>\n",
       "      <td>15.0</td>\n",
       "      <td>58.0</td>\n",
       "      <td>163.0</td>\n",
       "      <td>...</td>\n",
       "      <td>8.195063</td>\n",
       "      <td>-7.981518</td>\n",
       "      <td>7.190837</td>\n",
       "      <td>3.530121</td>\n",
       "      <td>6.063868</td>\n",
       "      <td>-13.522961</td>\n",
       "      <td>-5.028029</td>\n",
       "      <td>-0.892844</td>\n",
       "      <td>2.514001</td>\n",
       "      <td>1.777404</td>\n",
       "    </tr>\n",
       "  </tbody>\n",
       "</table>\n",
       "<p>2 rows × 53 columns</p>\n",
       "</div>"
      ],
      "text/plain": [
       "   user_id  item_id  target  median_sales_hour  median_weekday  \\\n",
       "0       84   903529     1.0                0.0             2.0   \n",
       "1       84   903529     1.0                0.0             2.0   \n",
       "\n",
       "   mean_visits_interval  mean_check  n_stores  n_items  n_transactions  ...  \\\n",
       "0             14.461538   16.506667      15.0     58.0           163.0  ...   \n",
       "1             14.461538   16.506667      15.0     58.0           163.0  ...   \n",
       "\n",
       "   user_factor_11  user_factor_12  user_factor_13  user_factor_14  \\\n",
       "0        8.195063       -7.981518        7.190837        3.530121   \n",
       "1        8.195063       -7.981518        7.190837        3.530121   \n",
       "\n",
       "   user_factor_15  user_factor_16  user_factor_17  user_factor_18  \\\n",
       "0        6.063868      -13.522961       -5.028029       -0.892844   \n",
       "1        6.063868      -13.522961       -5.028029       -0.892844   \n",
       "\n",
       "   user_factor_19  user_factor_20  \n",
       "0        2.514001        1.777404  \n",
       "1        2.514001        1.777404  \n",
       "\n",
       "[2 rows x 53 columns]"
      ]
     },
     "execution_count": 159,
     "metadata": {},
     "output_type": "execute_result"
    }
   ],
   "source": [
    "targets_test = get_targets_lvl_2(data_train, data_valid, user_item_features, N, add_to_lvl_2)\n",
    "\n",
    "print(f'число пользователей: {targets_test.user_id.nunique()}')\n",
    "print(f'среднее число покупок: {round(targets_test[\"target\"].mean(), 4)}')\n",
    "\n",
    "targets_test.head(2)"
   ]
  },
  {
   "cell_type": "code",
   "execution_count": 189,
   "metadata": {
    "ExecuteTime": {
     "end_time": "2021-02-23T18:15:17.475895Z",
     "start_time": "2021-02-23T18:15:17.466920Z"
    }
   },
   "outputs": [],
   "source": [
    "SELECTED_FEATURES_NAMES = ['median_sales_hour', 'median_weekday', \n",
    "                           'mean_check', \n",
    "                           'n_stores', 'n_items', 'n_transactions', \n",
    "                           'mean_n_items_basket', 'max_n_items_basket', \n",
    "                           \n",
    "                          \n",
    "                           'factor_1', 'factor_2', 'factor_3', 'factor_4', 'factor_5',\n",
    "                           'factor_6', 'factor_7', 'factor_8', 'factor_9', 'factor_10',\n",
    "                           'factor_11', 'factor_12', 'factor_13', 'factor_14', 'factor_15',\n",
    "                           'factor_16', 'factor_17', 'factor_18', 'factor_19', 'factor_20',\n",
    "                           \n",
    "                           'user_factor_1', 'user_factor_2', 'user_factor_3', 'user_factor_4',\n",
    "                           'user_factor_5', 'user_factor_6', 'user_factor_7', 'user_factor_8',\n",
    "                           'user_factor_9', 'user_factor_10', 'user_factor_11', 'user_factor_12',\n",
    "                           'user_factor_13', 'user_factor_14', 'user_factor_15', 'user_factor_16',\n",
    "                           'user_factor_17', 'user_factor_18', 'user_factor_19', 'user_factor_20',\n",
    "                          ]\n",
    "categorical = []"
   ]
  },
  {
   "cell_type": "markdown",
   "metadata": {},
   "source": [
    "**Генерация прогнозов**"
   ]
  },
  {
   "cell_type": "code",
   "execution_count": 190,
   "metadata": {
    "ExecuteTime": {
     "end_time": "2021-02-23T18:17:28.405605Z",
     "start_time": "2021-02-23T18:15:19.360880Z"
    },
    "scrolled": false
   },
   "outputs": [
    {
     "name": "stderr",
     "output_type": "stream",
     "text": [
      "C:\\Users\\Alex\\anaconda3\\lib\\site-packages\\lightgbm\\engine.py:151: UserWarning: Found `num_boost_round` in params. Will use it instead of argument\n",
      "  warnings.warn(\"Found `{}` in params. Will use it instead of argument\".format(alias))\n"
     ]
    },
    {
     "name": "stdout",
     "output_type": "stream",
     "text": [
      "[LightGBM] [Info] Number of positive: 44997, number of negative: 847246\n",
      "[LightGBM] [Info] Total Bins 11437\n",
      "[LightGBM] [Info] Number of data points in the train set: 892243, number of used features: 48\n",
      "[LightGBM] [Info] [binary:BoostFromScore]: pavg=0.050431 -> initscore=-2.935395\n",
      "[LightGBM] [Info] Start training from score -2.935395\n",
      "Training until validation scores don't improve for 30 rounds\n",
      "[1000]\ttraining's auc: 0.892908\tvalid_1's auc: 0.869314\n",
      "Early stopping, best iteration is:\n",
      "[1558]\ttraining's auc: 0.900737\tvalid_1's auc: 0.87275\n"
     ]
    }
   ],
   "source": [
    "model_lgb = run_model_lgb(targets_test)\n",
    "# Early stopping, best iteration is:\n",
    "# [1558]\ttraining's auc: 0.900737\tvalid_1's auc: 0.87275"
   ]
  },
  {
   "cell_type": "code",
   "execution_count": 192,
   "metadata": {
    "ExecuteTime": {
     "end_time": "2021-02-23T18:23:59.155572Z",
     "start_time": "2021-02-23T18:23:59.142616Z"
    }
   },
   "outputs": [],
   "source": [
    "SELECTED_FEATURES_NAMES_cb = [i for i in SELECTED_FEATURES_NAMES if not i in categorical]"
   ]
  },
  {
   "cell_type": "code",
   "execution_count": 193,
   "metadata": {
    "ExecuteTime": {
     "end_time": "2021-02-23T18:38:00.426385Z",
     "start_time": "2021-02-23T18:24:01.082116Z"
    }
   },
   "outputs": [
    {
     "name": "stdout",
     "output_type": "stream",
     "text": [
      "0:\ttest: 0.8054671\tbest: 0.8054671 (0)\ttotal: 160ms\tremaining: 13m 19s\n",
      "1000:\ttest: 0.8510902\tbest: 0.8510902 (1000)\ttotal: 3m 34s\tremaining: 14m 16s\n",
      "2000:\ttest: 0.8568312\tbest: 0.8568312 (2000)\ttotal: 7m 15s\tremaining: 10m 51s\n",
      "3000:\ttest: 0.8598664\tbest: 0.8598692 (2980)\ttotal: 10m 37s\tremaining: 7m 4s\n",
      "Stopped by overfitting detector  (30 iterations wait)\n",
      "\n",
      "bestTest = 0.8620786343\n",
      "bestIteration = 3899\n",
      "\n",
      "Shrink model to first 3900 iterations.\n"
     ]
    }
   ],
   "source": [
    "model_cb = run_model_cb(targets_test)"
   ]
  },
  {
   "cell_type": "code",
   "execution_count": 194,
   "metadata": {
    "ExecuteTime": {
     "end_time": "2021-02-23T18:47:21.789015Z",
     "start_time": "2021-02-23T18:47:02.786037Z"
    }
   },
   "outputs": [],
   "source": [
    "predictions_lgb_test = model_lgb.predict(targets_test[SELECTED_FEATURES_NAMES].fillna(0))\n",
    "predictions_cb_test = model_cb.predict_proba(targets_test[SELECTED_FEATURES_NAMES_cb].fillna(0))[:, 1]"
   ]
  },
  {
   "cell_type": "markdown",
   "metadata": {},
   "source": [
    "**Объединение прогнозов**"
   ]
  },
  {
   "cell_type": "code",
   "execution_count": 195,
   "metadata": {
    "ExecuteTime": {
     "end_time": "2021-02-23T18:50:39.318191Z",
     "start_time": "2021-02-23T18:50:38.159467Z"
    }
   },
   "outputs": [
    {
     "data": {
      "text/plain": [
       "0.8887098749469134"
      ]
     },
     "execution_count": 195,
     "metadata": {},
     "output_type": "execute_result"
    }
   ],
   "source": [
    "preds_test = pd.DataFrame(zip(predictions_lgb_test, predictions_cb_test),columns=['lgb', 'cb']).mean(axis=1).values\n",
    "roc_auc_score(targets_test['target'], preds_test)"
   ]
  },
  {
   "cell_type": "code",
   "execution_count": 198,
   "metadata": {
    "ExecuteTime": {
     "end_time": "2021-02-23T18:52:35.702482Z",
     "start_time": "2021-02-23T18:52:35.681495Z"
    }
   },
   "outputs": [
    {
     "data": {
      "text/html": [
       "<div>\n",
       "<style scoped>\n",
       "    .dataframe tbody tr th:only-of-type {\n",
       "        vertical-align: middle;\n",
       "    }\n",
       "\n",
       "    .dataframe tbody tr th {\n",
       "        vertical-align: top;\n",
       "    }\n",
       "\n",
       "    .dataframe thead th {\n",
       "        text-align: right;\n",
       "    }\n",
       "</style>\n",
       "<table border=\"1\" class=\"dataframe\">\n",
       "  <thead>\n",
       "    <tr style=\"text-align: right;\">\n",
       "      <th></th>\n",
       "      <th>user_id</th>\n",
       "      <th>actual</th>\n",
       "      <th>random_recommendation</th>\n",
       "      <th>popular_recommendation</th>\n",
       "      <th>itemitem</th>\n",
       "      <th>cosine</th>\n",
       "      <th>tfidf</th>\n",
       "      <th>own_purchases</th>\n",
       "    </tr>\n",
       "  </thead>\n",
       "  <tbody>\n",
       "    <tr>\n",
       "      <th>0</th>\n",
       "      <td>1</td>\n",
       "      <td>[821867, 834484, 856942, 865456, 889248, 90795...</td>\n",
       "      <td>[5588612, 7410370, 1088191, 935577, 6960654]</td>\n",
       "      <td>[6534178, 6533889, 1029743, 6534166, 1082185]</td>\n",
       "      <td>[999999, 1082185, 981760, 1127831, 995242]</td>\n",
       "      <td>[1082185, 999999, 981760, 1127831, 1098066]</td>\n",
       "      <td>[1082185, 981760, 1127831, 999999, 1098066]</td>\n",
       "      <td>[999999, 1082185, 1029743, 995785, 1004906]</td>\n",
       "    </tr>\n",
       "    <tr>\n",
       "      <th>1</th>\n",
       "      <td>3</td>\n",
       "      <td>[835476, 851057, 872021, 878302, 879948, 90963...</td>\n",
       "      <td>[6552406, 974311, 154857, 6632301, 1417737]</td>\n",
       "      <td>[6534178, 6533889, 1029743, 6534166, 1082185]</td>\n",
       "      <td>[999999, 1082185, 981760, 1098066, 995242]</td>\n",
       "      <td>[1082185, 1098066, 981760, 999999, 826249]</td>\n",
       "      <td>[1082185, 981760, 1098066, 826249, 999999]</td>\n",
       "      <td>[999999, 1082185, 1098066, 6534178, 1127831]</td>\n",
       "    </tr>\n",
       "  </tbody>\n",
       "</table>\n",
       "</div>"
      ],
      "text/plain": [
       "   user_id                                             actual  \\\n",
       "0        1  [821867, 834484, 856942, 865456, 889248, 90795...   \n",
       "1        3  [835476, 851057, 872021, 878302, 879948, 90963...   \n",
       "\n",
       "                          random_recommendation  \\\n",
       "0  [5588612, 7410370, 1088191, 935577, 6960654]   \n",
       "1   [6552406, 974311, 154857, 6632301, 1417737]   \n",
       "\n",
       "                          popular_recommendation  \\\n",
       "0  [6534178, 6533889, 1029743, 6534166, 1082185]   \n",
       "1  [6534178, 6533889, 1029743, 6534166, 1082185]   \n",
       "\n",
       "                                     itemitem  \\\n",
       "0  [999999, 1082185, 981760, 1127831, 995242]   \n",
       "1  [999999, 1082185, 981760, 1098066, 995242]   \n",
       "\n",
       "                                        cosine  \\\n",
       "0  [1082185, 999999, 981760, 1127831, 1098066]   \n",
       "1   [1082185, 1098066, 981760, 999999, 826249]   \n",
       "\n",
       "                                         tfidf  \\\n",
       "0  [1082185, 981760, 1127831, 999999, 1098066]   \n",
       "1   [1082185, 981760, 1098066, 826249, 999999]   \n",
       "\n",
       "                                  own_purchases  \n",
       "0   [999999, 1082185, 1029743, 995785, 1004906]  \n",
       "1  [999999, 1082185, 1098066, 6534178, 1127831]  "
      ]
     },
     "execution_count": 198,
     "metadata": {},
     "output_type": "execute_result"
    }
   ],
   "source": [
    "test.head(2)"
   ]
  },
  {
   "cell_type": "code",
   "execution_count": 199,
   "metadata": {
    "ExecuteTime": {
     "end_time": "2021-02-23T18:52:55.205977Z",
     "start_time": "2021-02-23T18:52:55.181956Z"
    }
   },
   "outputs": [
    {
     "data": {
      "text/html": [
       "<div>\n",
       "<style scoped>\n",
       "    .dataframe tbody tr th:only-of-type {\n",
       "        vertical-align: middle;\n",
       "    }\n",
       "\n",
       "    .dataframe tbody tr th {\n",
       "        vertical-align: top;\n",
       "    }\n",
       "\n",
       "    .dataframe thead th {\n",
       "        text-align: right;\n",
       "    }\n",
       "</style>\n",
       "<table border=\"1\" class=\"dataframe\">\n",
       "  <thead>\n",
       "    <tr style=\"text-align: right;\">\n",
       "      <th></th>\n",
       "      <th>user_id</th>\n",
       "      <th>item_id</th>\n",
       "      <th>target</th>\n",
       "      <th>median_sales_hour</th>\n",
       "      <th>median_weekday</th>\n",
       "      <th>mean_visits_interval</th>\n",
       "      <th>mean_check</th>\n",
       "      <th>n_stores</th>\n",
       "      <th>n_items</th>\n",
       "      <th>n_transactions</th>\n",
       "      <th>...</th>\n",
       "      <th>user_factor_11</th>\n",
       "      <th>user_factor_12</th>\n",
       "      <th>user_factor_13</th>\n",
       "      <th>user_factor_14</th>\n",
       "      <th>user_factor_15</th>\n",
       "      <th>user_factor_16</th>\n",
       "      <th>user_factor_17</th>\n",
       "      <th>user_factor_18</th>\n",
       "      <th>user_factor_19</th>\n",
       "      <th>user_factor_20</th>\n",
       "    </tr>\n",
       "  </thead>\n",
       "  <tbody>\n",
       "    <tr>\n",
       "      <th>0</th>\n",
       "      <td>84</td>\n",
       "      <td>903529</td>\n",
       "      <td>1.0</td>\n",
       "      <td>0.0</td>\n",
       "      <td>2.0</td>\n",
       "      <td>14.461538</td>\n",
       "      <td>16.506667</td>\n",
       "      <td>15.0</td>\n",
       "      <td>58.0</td>\n",
       "      <td>163.0</td>\n",
       "      <td>...</td>\n",
       "      <td>8.195063</td>\n",
       "      <td>-7.981518</td>\n",
       "      <td>7.190837</td>\n",
       "      <td>3.530121</td>\n",
       "      <td>6.063868</td>\n",
       "      <td>-13.522961</td>\n",
       "      <td>-5.028029</td>\n",
       "      <td>-0.892844</td>\n",
       "      <td>2.514001</td>\n",
       "      <td>1.777404</td>\n",
       "    </tr>\n",
       "    <tr>\n",
       "      <th>1</th>\n",
       "      <td>84</td>\n",
       "      <td>903529</td>\n",
       "      <td>1.0</td>\n",
       "      <td>0.0</td>\n",
       "      <td>2.0</td>\n",
       "      <td>14.461538</td>\n",
       "      <td>16.506667</td>\n",
       "      <td>15.0</td>\n",
       "      <td>58.0</td>\n",
       "      <td>163.0</td>\n",
       "      <td>...</td>\n",
       "      <td>8.195063</td>\n",
       "      <td>-7.981518</td>\n",
       "      <td>7.190837</td>\n",
       "      <td>3.530121</td>\n",
       "      <td>6.063868</td>\n",
       "      <td>-13.522961</td>\n",
       "      <td>-5.028029</td>\n",
       "      <td>-0.892844</td>\n",
       "      <td>2.514001</td>\n",
       "      <td>1.777404</td>\n",
       "    </tr>\n",
       "  </tbody>\n",
       "</table>\n",
       "<p>2 rows × 53 columns</p>\n",
       "</div>"
      ],
      "text/plain": [
       "   user_id  item_id  target  median_sales_hour  median_weekday  \\\n",
       "0       84   903529     1.0                0.0             2.0   \n",
       "1       84   903529     1.0                0.0             2.0   \n",
       "\n",
       "   mean_visits_interval  mean_check  n_stores  n_items  n_transactions  ...  \\\n",
       "0             14.461538   16.506667      15.0     58.0           163.0  ...   \n",
       "1             14.461538   16.506667      15.0     58.0           163.0  ...   \n",
       "\n",
       "   user_factor_11  user_factor_12  user_factor_13  user_factor_14  \\\n",
       "0        8.195063       -7.981518        7.190837        3.530121   \n",
       "1        8.195063       -7.981518        7.190837        3.530121   \n",
       "\n",
       "   user_factor_15  user_factor_16  user_factor_17  user_factor_18  \\\n",
       "0        6.063868      -13.522961       -5.028029       -0.892844   \n",
       "1        6.063868      -13.522961       -5.028029       -0.892844   \n",
       "\n",
       "   user_factor_19  user_factor_20  \n",
       "0        2.514001        1.777404  \n",
       "1        2.514001        1.777404  \n",
       "\n",
       "[2 rows x 53 columns]"
      ]
     },
     "execution_count": 199,
     "metadata": {},
     "output_type": "execute_result"
    }
   ],
   "source": [
    "targets_test.head(2)"
   ]
  },
  {
   "cell_type": "code",
   "execution_count": 209,
   "metadata": {
    "ExecuteTime": {
     "end_time": "2021-02-23T19:06:37.106415Z",
     "start_time": "2021-02-23T19:06:37.094421Z"
    }
   },
   "outputs": [],
   "source": [
    "def get_results_1(data_val_lvl_2, targets_lvl_2, preds_lgb, preds_cb, combined_preds):\n",
    "    result = data_val_lvl_2.groupby('user_id')['actual'].unique().reset_index()\n",
    "    result.columns=['user_id', 'actual']\n",
    "    \n",
    "    prefixes = ['lgb', 'cb', 'cb_lgb']\n",
    "    predictions = [preds_lgb, preds_cb, combined_preds]\n",
    "    \n",
    "    for i, preds in enumerate(predictions):\n",
    "        df = get_predictions(targets_lvl_2, preds, prefixes[i])\n",
    "        result = result.merge(df, on='user_id', how='left')\n",
    "\n",
    "    return result"
   ]
  },
  {
   "cell_type": "code",
   "execution_count": 210,
   "metadata": {
    "ExecuteTime": {
     "end_time": "2021-02-23T19:06:40.295399Z",
     "start_time": "2021-02-23T19:06:38.221085Z"
    },
    "scrolled": true
   },
   "outputs": [
    {
     "name": "stderr",
     "output_type": "stream",
     "text": [
      "<ipython-input-207-eb3e5b27e213>:3: SettingWithCopyWarning: \n",
      "A value is trying to be set on a copy of a slice from a DataFrame.\n",
      "Try using .loc[row_indexer,col_indexer] = value instead\n",
      "\n",
      "See the caveats in the documentation: https://pandas.pydata.org/pandas-docs/stable/user_guide/indexing.html#returning-a-view-versus-a-copy\n",
      "  df['predictions'] = raw_predictions\n"
     ]
    },
    {
     "data": {
      "text/html": [
       "<div>\n",
       "<style scoped>\n",
       "    .dataframe tbody tr th:only-of-type {\n",
       "        vertical-align: middle;\n",
       "    }\n",
       "\n",
       "    .dataframe tbody tr th {\n",
       "        vertical-align: top;\n",
       "    }\n",
       "\n",
       "    .dataframe thead th {\n",
       "        text-align: right;\n",
       "    }\n",
       "</style>\n",
       "<table border=\"1\" class=\"dataframe\">\n",
       "  <thead>\n",
       "    <tr style=\"text-align: right;\">\n",
       "      <th></th>\n",
       "      <th>user_id</th>\n",
       "      <th>actual</th>\n",
       "      <th>lgb_recommendations</th>\n",
       "      <th>cb_recommendations</th>\n",
       "      <th>cb_lgb_recommendations</th>\n",
       "    </tr>\n",
       "  </thead>\n",
       "  <tbody>\n",
       "    <tr>\n",
       "      <th>0</th>\n",
       "      <td>1</td>\n",
       "      <td>[[821867, 834484, 856942, 865456, 889248, 9079...</td>\n",
       "      <td>[856942, 5577022, 1005186, 8293439, 1004906]</td>\n",
       "      <td>[1005186, 940947, 5577022, 1082212, 1004906]</td>\n",
       "      <td>[1005186, 5577022, 856942, 940947, 1004906]</td>\n",
       "    </tr>\n",
       "    <tr>\n",
       "      <th>1</th>\n",
       "      <td>3</td>\n",
       "      <td>[[835476, 851057, 872021, 878302, 879948, 9096...</td>\n",
       "      <td>[5569230, 1106523, 1101010, 8090521, 893018]</td>\n",
       "      <td>[1106523, 5569230, 8090521, 899624, 1044078]</td>\n",
       "      <td>[1106523, 5569230, 8090521, 899624, 1101010]</td>\n",
       "    </tr>\n",
       "  </tbody>\n",
       "</table>\n",
       "</div>"
      ],
      "text/plain": [
       "   user_id                                             actual  \\\n",
       "0        1  [[821867, 834484, 856942, 865456, 889248, 9079...   \n",
       "1        3  [[835476, 851057, 872021, 878302, 879948, 9096...   \n",
       "\n",
       "                            lgb_recommendations  \\\n",
       "0  [856942, 5577022, 1005186, 8293439, 1004906]   \n",
       "1  [5569230, 1106523, 1101010, 8090521, 893018]   \n",
       "\n",
       "                             cb_recommendations  \\\n",
       "0  [1005186, 940947, 5577022, 1082212, 1004906]   \n",
       "1  [1106523, 5569230, 8090521, 899624, 1044078]   \n",
       "\n",
       "                         cb_lgb_recommendations  \n",
       "0   [1005186, 5577022, 856942, 940947, 1004906]  \n",
       "1  [1106523, 5569230, 8090521, 899624, 1101010]  "
      ]
     },
     "execution_count": 210,
     "metadata": {},
     "output_type": "execute_result"
    }
   ],
   "source": [
    "result_test = get_results_1(test, targets_test, \n",
    "                           predictions_lgb_test,\n",
    "                           predictions_cb_test, \n",
    "                           preds_test)\n",
    "result_test.head(2)"
   ]
  },
  {
   "cell_type": "markdown",
   "metadata": {},
   "source": [
    "**LightGBM**"
   ]
  },
  {
   "cell_type": "code",
   "execution_count": 215,
   "metadata": {
    "ExecuteTime": {
     "end_time": "2021-02-23T19:07:48.887624Z",
     "start_time": "2021-02-23T19:07:48.756720Z"
    }
   },
   "outputs": [
    {
     "data": {
      "text/plain": [
       "0.0"
      ]
     },
     "execution_count": 215,
     "metadata": {},
     "output_type": "execute_result"
    }
   ],
   "source": [
    "result_test.apply(lambda row: precision_at_k(row['lgb_recommendations'], row['actual'], 5), axis=1).mean()"
   ]
  },
  {
   "cell_type": "markdown",
   "metadata": {},
   "source": [
    "**CatBooost**"
   ]
  },
  {
   "cell_type": "code",
   "execution_count": 216,
   "metadata": {
    "ExecuteTime": {
     "end_time": "2021-02-23T19:07:59.389146Z",
     "start_time": "2021-02-23T19:07:59.253375Z"
    }
   },
   "outputs": [
    {
     "data": {
      "text/plain": [
       "0.0"
      ]
     },
     "execution_count": 216,
     "metadata": {},
     "output_type": "execute_result"
    }
   ],
   "source": [
    "result_test.apply(lambda row: precision_at_k(row['cb_recommendations'], row['actual'], 5), axis=1).mean()"
   ]
  },
  {
   "cell_type": "markdown",
   "metadata": {},
   "source": [
    "**Ensemble**"
   ]
  },
  {
   "cell_type": "code",
   "execution_count": 217,
   "metadata": {
    "ExecuteTime": {
     "end_time": "2021-02-23T19:08:09.764149Z",
     "start_time": "2021-02-23T19:08:09.636587Z"
    }
   },
   "outputs": [
    {
     "data": {
      "text/plain": [
       "0.0"
      ]
     },
     "execution_count": 217,
     "metadata": {},
     "output_type": "execute_result"
    }
   ],
   "source": [
    "result_test.apply(lambda row: precision_at_k(row['cb_lgb_recommendations'], row['actual'], 5), axis=1).mean()"
   ]
  },
  {
   "cell_type": "markdown",
   "metadata": {},
   "source": [
    "**Сохранение результатов**"
   ]
  },
  {
   "cell_type": "code",
   "execution_count": 220,
   "metadata": {
    "ExecuteTime": {
     "end_time": "2021-02-23T19:11:06.621034Z",
     "start_time": "2021-02-23T19:11:06.500169Z"
    }
   },
   "outputs": [
    {
     "data": {
      "text/html": [
       "<div>\n",
       "<style scoped>\n",
       "    .dataframe tbody tr th:only-of-type {\n",
       "        vertical-align: middle;\n",
       "    }\n",
       "\n",
       "    .dataframe tbody tr th {\n",
       "        vertical-align: top;\n",
       "    }\n",
       "\n",
       "    .dataframe thead th {\n",
       "        text-align: right;\n",
       "    }\n",
       "</style>\n",
       "<table border=\"1\" class=\"dataframe\">\n",
       "  <thead>\n",
       "    <tr style=\"text-align: right;\">\n",
       "      <th></th>\n",
       "      <th>user_id</th>\n",
       "      <th>cb_lgb_recommendations</th>\n",
       "    </tr>\n",
       "  </thead>\n",
       "  <tbody>\n",
       "    <tr>\n",
       "      <th>0</th>\n",
       "      <td>1</td>\n",
       "      <td>[1005186, 5577022, 856942, 940947, 1004906]</td>\n",
       "    </tr>\n",
       "    <tr>\n",
       "      <th>1</th>\n",
       "      <td>3</td>\n",
       "      <td>[1106523, 5569230, 8090521, 899624, 1101010]</td>\n",
       "    </tr>\n",
       "  </tbody>\n",
       "</table>\n",
       "</div>"
      ],
      "text/plain": [
       "   user_id                        cb_lgb_recommendations\n",
       "0        1   [1005186, 5577022, 856942, 940947, 1004906]\n",
       "1        3  [1106523, 5569230, 8090521, 899624, 1101010]"
      ]
     },
     "execution_count": 220,
     "metadata": {},
     "output_type": "execute_result"
    }
   ],
   "source": [
    "df = result_test[['user_id', 'cb_lgb_recommendations']].copy()\n",
    "df.to_csv('../predictions.csv', index=False)\n",
    "df.head(2)"
   ]
  }
 ],
 "metadata": {
  "kernelspec": {
   "display_name": "Python 3",
   "language": "python",
   "name": "python3"
  },
  "language_info": {
   "codemirror_mode": {
    "name": "ipython",
    "version": 3
   },
   "file_extension": ".py",
   "mimetype": "text/x-python",
   "name": "python",
   "nbconvert_exporter": "python",
   "pygments_lexer": "ipython3",
   "version": "3.8.5"
  },
  "toc": {
   "base_numbering": 1,
   "nav_menu": {},
   "number_sections": false,
   "sideBar": true,
   "skip_h1_title": false,
   "title_cell": "Table of Contents",
   "title_sidebar": "Contents",
   "toc_cell": false,
   "toc_position": {},
   "toc_section_display": true,
   "toc_window_display": false
  },
  "varInspector": {
   "cols": {
    "lenName": 16,
    "lenType": 16,
    "lenVar": 40
   },
   "kernels_config": {
    "python": {
     "delete_cmd_postfix": "",
     "delete_cmd_prefix": "del ",
     "library": "var_list.py",
     "varRefreshCmd": "print(var_dic_list())"
    },
    "r": {
     "delete_cmd_postfix": ") ",
     "delete_cmd_prefix": "rm(",
     "library": "var_list.r",
     "varRefreshCmd": "cat(var_dic_list()) "
    }
   },
   "position": {
    "height": "857px",
    "left": "338px",
    "right": "20px",
    "top": "78px",
    "width": "703px"
   },
   "types_to_exclude": [
    "module",
    "function",
    "builtin_function_or_method",
    "instance",
    "_Feature"
   ],
   "window_display": false
  }
 },
 "nbformat": 4,
 "nbformat_minor": 4
}
