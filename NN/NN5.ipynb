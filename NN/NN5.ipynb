{
 "cells": [
  {
   "cell_type": "markdown",
   "metadata": {},
   "source": [
    "**Данные разбиваются 215 на трейн и 50 на тест**"
   ]
  },
  {
   "cell_type": "code",
   "execution_count": 1,
   "metadata": {
    "ExecuteTime": {
     "end_time": "2021-05-23T20:55:09.533245Z",
     "start_time": "2021-05-23T20:55:06.287704Z"
    }
   },
   "outputs": [],
   "source": [
    "import numpy as np\n",
    "import pandas as pd\n",
    "import matplotlib.pyplot as plt\n",
    "import seaborn as sns\n",
    "\n",
    "from sklearn.preprocessing import MinMaxScaler, StandardScaler\n",
    "from keras.callbacks import EarlyStopping\n",
    "from keras.layers import Conv1D\n",
    "from tensorflow.keras.models import Sequential, Model\n",
    "from keras.layers import LSTM\n",
    "from tensorflow.keras.layers import (Dense, Dropout, Activation, Flatten, Conv2D, MaxPooling2D, Input, Concatenate,\n",
    "                                     Average, Maximum, Add, Subtract, Multiply,\n",
    "                                    GlobalMaxPooling2D, AveragePooling2D, GlobalAveragePooling2D)"
   ]
  },
  {
   "cell_type": "code",
   "execution_count": 2,
   "metadata": {
    "ExecuteTime": {
     "end_time": "2021-05-23T20:55:09.548518Z",
     "start_time": "2021-05-23T20:55:09.533245Z"
    }
   },
   "outputs": [],
   "source": [
    "np.random.seed(7)"
   ]
  },
  {
   "cell_type": "code",
   "execution_count": 3,
   "metadata": {
    "ExecuteTime": {
     "end_time": "2021-05-23T20:55:10.368983Z",
     "start_time": "2021-05-23T20:55:09.552486Z"
    }
   },
   "outputs": [],
   "source": [
    "data_path = '../../data/prod_data/prod_data_wo_nan.xlsx'\n",
    "df = pd.read_excel(data_path, sheet_name='prod')"
   ]
  },
  {
   "cell_type": "code",
   "execution_count": 4,
   "metadata": {
    "ExecuteTime": {
     "end_time": "2021-05-23T20:55:10.400463Z",
     "start_time": "2021-05-23T20:55:10.368983Z"
    }
   },
   "outputs": [
    {
     "data": {
      "text/html": [
       "<div>\n",
       "<style scoped>\n",
       "    .dataframe tbody tr th:only-of-type {\n",
       "        vertical-align: middle;\n",
       "    }\n",
       "\n",
       "    .dataframe tbody tr th {\n",
       "        vertical-align: top;\n",
       "    }\n",
       "\n",
       "    .dataframe thead th {\n",
       "        text-align: right;\n",
       "    }\n",
       "</style>\n",
       "<table border=\"1\" class=\"dataframe\">\n",
       "  <thead>\n",
       "    <tr style=\"text-align: right;\">\n",
       "      <th></th>\n",
       "      <th>Date</th>\n",
       "      <th>Day</th>\n",
       "      <th>Well</th>\n",
       "      <th>Formation</th>\n",
       "      <th>Lift type</th>\n",
       "      <th>Oil production, m3</th>\n",
       "      <th>Oil production (actual), t</th>\n",
       "      <th>Water production, m3</th>\n",
       "      <th>Water production, t</th>\n",
       "      <th>Gas production, M m3</th>\n",
       "      <th>WCT</th>\n",
       "      <th>Oil density, t/m3</th>\n",
       "      <th>Water density, t/m3</th>\n",
       "      <th>Working hours</th>\n",
       "      <th>Downtime hours</th>\n",
       "    </tr>\n",
       "  </thead>\n",
       "  <tbody>\n",
       "    <tr>\n",
       "      <th>0</th>\n",
       "      <td>1996-05-01</td>\n",
       "      <td>35186</td>\n",
       "      <td>Plat-2</td>\n",
       "      <td>Evlanov-Livenskian</td>\n",
       "      <td>Natural flow</td>\n",
       "      <td>1549.516908</td>\n",
       "      <td>1283</td>\n",
       "      <td>0.0</td>\n",
       "      <td>0.0</td>\n",
       "      <td>173.20</td>\n",
       "      <td>0.0</td>\n",
       "      <td>0.828</td>\n",
       "      <td>1.164</td>\n",
       "      <td>336.0</td>\n",
       "      <td>408.0</td>\n",
       "    </tr>\n",
       "    <tr>\n",
       "      <th>1</th>\n",
       "      <td>1996-06-01</td>\n",
       "      <td>35217</td>\n",
       "      <td>Plat-2</td>\n",
       "      <td>Evlanov-Livenskian</td>\n",
       "      <td>Natural flow</td>\n",
       "      <td>4330.917874</td>\n",
       "      <td>3586</td>\n",
       "      <td>0.0</td>\n",
       "      <td>0.0</td>\n",
       "      <td>484.11</td>\n",
       "      <td>0.0</td>\n",
       "      <td>0.828</td>\n",
       "      <td>1.164</td>\n",
       "      <td>696.0</td>\n",
       "      <td>24.0</td>\n",
       "    </tr>\n",
       "    <tr>\n",
       "      <th>2</th>\n",
       "      <td>1996-07-01</td>\n",
       "      <td>35247</td>\n",
       "      <td>Plat-2</td>\n",
       "      <td>Evlanov-Livenskian</td>\n",
       "      <td>Natural flow</td>\n",
       "      <td>5179.951691</td>\n",
       "      <td>4289</td>\n",
       "      <td>0.0</td>\n",
       "      <td>0.0</td>\n",
       "      <td>630.50</td>\n",
       "      <td>0.0</td>\n",
       "      <td>0.828</td>\n",
       "      <td>1.164</td>\n",
       "      <td>744.0</td>\n",
       "      <td>0.0</td>\n",
       "    </tr>\n",
       "  </tbody>\n",
       "</table>\n",
       "</div>"
      ],
      "text/plain": [
       "        Date    Day    Well           Formation     Lift type  \\\n",
       "0 1996-05-01  35186  Plat-2  Evlanov-Livenskian  Natural flow   \n",
       "1 1996-06-01  35217  Plat-2  Evlanov-Livenskian  Natural flow   \n",
       "2 1996-07-01  35247  Plat-2  Evlanov-Livenskian  Natural flow   \n",
       "\n",
       "   Oil production, m3  Oil production (actual), t  Water production, m3  \\\n",
       "0         1549.516908                        1283                   0.0   \n",
       "1         4330.917874                        3586                   0.0   \n",
       "2         5179.951691                        4289                   0.0   \n",
       "\n",
       "   Water production, t  Gas production, M m3  WCT  Oil density, t/m3  \\\n",
       "0                  0.0                173.20  0.0              0.828   \n",
       "1                  0.0                484.11  0.0              0.828   \n",
       "2                  0.0                630.50  0.0              0.828   \n",
       "\n",
       "   Water density, t/m3  Working hours  Downtime hours  \n",
       "0                1.164          336.0           408.0  \n",
       "1                1.164          696.0            24.0  \n",
       "2                1.164          744.0             0.0  "
      ]
     },
     "execution_count": 4,
     "metadata": {},
     "output_type": "execute_result"
    }
   ],
   "source": [
    "df.head(3)"
   ]
  },
  {
   "cell_type": "code",
   "execution_count": 5,
   "metadata": {
    "ExecuteTime": {
     "end_time": "2021-05-23T20:55:10.416509Z",
     "start_time": "2021-05-23T20:55:10.401464Z"
    }
   },
   "outputs": [
    {
     "data": {
      "text/plain": [
       "(5665, 15)"
      ]
     },
     "execution_count": 5,
     "metadata": {},
     "output_type": "execute_result"
    }
   ],
   "source": [
    "df.shape"
   ]
  },
  {
   "cell_type": "code",
   "execution_count": 6,
   "metadata": {
    "ExecuteTime": {
     "end_time": "2021-05-23T20:55:10.654505Z",
     "start_time": "2021-05-23T20:55:10.417465Z"
    }
   },
   "outputs": [
    {
     "data": {
      "image/png": "[encoded data removed]",
      "text/plain": [
       "<Figure size 432x288 with 2 Axes>"
      ]
     },
     "metadata": {},
     "output_type": "display_data"
    }
   ],
   "source": [
    "well_name = 'Plat-2'\n",
    "\n",
    "x = df['Date'].where(df['Well'] == well_name)\n",
    "y = df['Oil production (actual), t'].where(df['Well'] == well_name).to_numpy(), \\\n",
    "    df['Water production, t'].where(df['Well'] == well_name).to_numpy()\n",
    "wct = df['WCT'].where(df['Well'] == well_name).to_numpy()\n",
    "\n",
    "fig, ax1 = plt.subplots()\n",
    "\n",
    "color = 'tab:red'\n",
    "ax1.set_xlabel('Date')\n",
    "ax1.set_ylabel('Oil & water production', color='black')\n",
    "colors = ['#C9C19C', '#A9DDFF']\n",
    "ax1.stackplot(x, y, labels=['Oil production (actual), t', 'Water production, t'], colors=colors)\n",
    "ax1.tick_params(axis='y', labelcolor='black')\n",
    "\n",
    "\n",
    "color = '#13CAE9'\n",
    "ax2.set_ylabel('WCT, %', color=color)  \n",
    "ax2.plot(x, wct, color=color, linestyle='dashed', linewidth=2,  label='WCT, %')\n",
    "ax2.tick_params(axis='y', labelcolor=color)\n",
    "\n",
    "handles, labels = ax1.get_legend_handles_labels()\n",
    "ax1.legend(handles, labels, loc='upper left')\n",
    "\n",
    "fig.tight_layout()  \n",
    "plt.rcParams[\"figure.figsize\"] = (16,6)\n",
    "plt.show()"
   ]
  },
  {
   "cell_type": "code",
   "execution_count": 7,
   "metadata": {
    "ExecuteTime": {
     "end_time": "2021-05-23T20:55:10.670487Z",
     "start_time": "2021-05-23T20:55:10.657476Z"
    }
   },
   "outputs": [
    {
     "data": {
      "text/plain": [
       "5665"
      ]
     },
     "execution_count": 7,
     "metadata": {},
     "output_type": "execute_result"
    }
   ],
   "source": [
    "len(x)"
   ]
  },
  {
   "cell_type": "code",
   "execution_count": 8,
   "metadata": {
    "ExecuteTime": {
     "end_time": "2021-05-23T20:55:10.686487Z",
     "start_time": "2021-05-23T20:55:10.672489Z"
    },
    "scrolled": true
   },
   "outputs": [
    {
     "data": {
      "text/plain": [
       "Index(['Date', 'Day', 'Well', 'Formation', 'Lift type', 'Oil production, m3',\n",
       "       'Oil production (actual), t', 'Water production, m3',\n",
       "       'Water production, t', 'Gas production, M m3', 'WCT',\n",
       "       'Oil density, t/m3', 'Water density, t/m3', 'Working hours',\n",
       "       'Downtime hours'],\n",
       "      dtype='object')"
      ]
     },
     "execution_count": 8,
     "metadata": {},
     "output_type": "execute_result"
    }
   ],
   "source": [
    "df.columns"
   ]
  },
  {
   "cell_type": "code",
   "execution_count": 9,
   "metadata": {
    "ExecuteTime": {
     "end_time": "2021-05-23T20:55:10.702487Z",
     "start_time": "2021-05-23T20:55:10.687488Z"
    }
   },
   "outputs": [],
   "source": [
    "features = ['Date', 'Day', 'Oil production, m3', 'Oil production (actual), t',\n",
    "       'Water production, m3', 'Water production, t', 'Gas production, M m3',\n",
    "       'Working hours', 'Downtime hours', 'Longitude', 'Latitude']\n",
    "\n",
    "target = 'WCT'"
   ]
  },
  {
   "cell_type": "code",
   "execution_count": 10,
   "metadata": {
    "ExecuteTime": {
     "end_time": "2021-05-23T20:55:10.733487Z",
     "start_time": "2021-05-23T20:55:10.703488Z"
    }
   },
   "outputs": [
    {
     "data": {
      "text/html": [
       "<div>\n",
       "<style scoped>\n",
       "    .dataframe tbody tr th:only-of-type {\n",
       "        vertical-align: middle;\n",
       "    }\n",
       "\n",
       "    .dataframe tbody tr th {\n",
       "        vertical-align: top;\n",
       "    }\n",
       "\n",
       "    .dataframe thead th {\n",
       "        text-align: right;\n",
       "    }\n",
       "</style>\n",
       "<table border=\"1\" class=\"dataframe\">\n",
       "  <thead>\n",
       "    <tr style=\"text-align: right;\">\n",
       "      <th></th>\n",
       "      <th>Date</th>\n",
       "      <th>Day</th>\n",
       "      <th>Well</th>\n",
       "      <th>Formation</th>\n",
       "      <th>Lift type</th>\n",
       "      <th>Oil production, m3</th>\n",
       "      <th>Oil production (actual), t</th>\n",
       "      <th>Water production, m3</th>\n",
       "      <th>Water production, t</th>\n",
       "      <th>Gas production, M m3</th>\n",
       "      <th>WCT</th>\n",
       "      <th>Oil density, t/m3</th>\n",
       "      <th>Water density, t/m3</th>\n",
       "      <th>Working hours</th>\n",
       "      <th>Downtime hours</th>\n",
       "      <th>liquid, m3</th>\n",
       "    </tr>\n",
       "  </thead>\n",
       "  <tbody>\n",
       "    <tr>\n",
       "      <th>0</th>\n",
       "      <td>1996-05-01</td>\n",
       "      <td>35186</td>\n",
       "      <td>Plat-2</td>\n",
       "      <td>Evlanov-Livenskian</td>\n",
       "      <td>Natural flow</td>\n",
       "      <td>1549.516908</td>\n",
       "      <td>1283</td>\n",
       "      <td>0.0</td>\n",
       "      <td>0.0</td>\n",
       "      <td>173.20</td>\n",
       "      <td>0.0</td>\n",
       "      <td>0.828</td>\n",
       "      <td>1.164</td>\n",
       "      <td>336.0</td>\n",
       "      <td>408.0</td>\n",
       "      <td>1549.516908</td>\n",
       "    </tr>\n",
       "    <tr>\n",
       "      <th>1</th>\n",
       "      <td>1996-06-01</td>\n",
       "      <td>35217</td>\n",
       "      <td>Plat-2</td>\n",
       "      <td>Evlanov-Livenskian</td>\n",
       "      <td>Natural flow</td>\n",
       "      <td>4330.917874</td>\n",
       "      <td>3586</td>\n",
       "      <td>0.0</td>\n",
       "      <td>0.0</td>\n",
       "      <td>484.11</td>\n",
       "      <td>0.0</td>\n",
       "      <td>0.828</td>\n",
       "      <td>1.164</td>\n",
       "      <td>696.0</td>\n",
       "      <td>24.0</td>\n",
       "      <td>4330.917874</td>\n",
       "    </tr>\n",
       "    <tr>\n",
       "      <th>2</th>\n",
       "      <td>1996-07-01</td>\n",
       "      <td>35247</td>\n",
       "      <td>Plat-2</td>\n",
       "      <td>Evlanov-Livenskian</td>\n",
       "      <td>Natural flow</td>\n",
       "      <td>5179.951691</td>\n",
       "      <td>4289</td>\n",
       "      <td>0.0</td>\n",
       "      <td>0.0</td>\n",
       "      <td>630.50</td>\n",
       "      <td>0.0</td>\n",
       "      <td>0.828</td>\n",
       "      <td>1.164</td>\n",
       "      <td>744.0</td>\n",
       "      <td>0.0</td>\n",
       "      <td>5179.951691</td>\n",
       "    </tr>\n",
       "  </tbody>\n",
       "</table>\n",
       "</div>"
      ],
      "text/plain": [
       "        Date    Day    Well           Formation     Lift type  \\\n",
       "0 1996-05-01  35186  Plat-2  Evlanov-Livenskian  Natural flow   \n",
       "1 1996-06-01  35217  Plat-2  Evlanov-Livenskian  Natural flow   \n",
       "2 1996-07-01  35247  Plat-2  Evlanov-Livenskian  Natural flow   \n",
       "\n",
       "   Oil production, m3  Oil production (actual), t  Water production, m3  \\\n",
       "0         1549.516908                        1283                   0.0   \n",
       "1         4330.917874                        3586                   0.0   \n",
       "2         5179.951691                        4289                   0.0   \n",
       "\n",
       "   Water production, t  Gas production, M m3  WCT  Oil density, t/m3  \\\n",
       "0                  0.0                173.20  0.0              0.828   \n",
       "1                  0.0                484.11  0.0              0.828   \n",
       "2                  0.0                630.50  0.0              0.828   \n",
       "\n",
       "   Water density, t/m3  Working hours  Downtime hours   liquid, m3  \n",
       "0                1.164          336.0           408.0  1549.516908  \n",
       "1                1.164          696.0            24.0  4330.917874  \n",
       "2                1.164          744.0             0.0  5179.951691  "
      ]
     },
     "execution_count": 10,
     "metadata": {},
     "output_type": "execute_result"
    }
   ],
   "source": [
    "df['liquid, m3'] = df['Oil production, m3'] + df['Water production, m3']\n",
    "df.head(3)"
   ]
  },
  {
   "cell_type": "code",
   "execution_count": 11,
   "metadata": {
    "ExecuteTime": {
     "end_time": "2021-05-23T20:55:10.749489Z",
     "start_time": "2021-05-23T20:55:10.734522Z"
    }
   },
   "outputs": [],
   "source": [
    "#data = df.drop(target, axis=1)\n",
    "data = df"
   ]
  },
  {
   "cell_type": "code",
   "execution_count": 12,
   "metadata": {
    "ExecuteTime": {
     "end_time": "2021-05-23T20:55:10.765487Z",
     "start_time": "2021-05-23T20:55:10.750489Z"
    }
   },
   "outputs": [
    {
     "data": {
      "text/plain": [
       "(['Date',\n",
       "  'Day',\n",
       "  'Oil production, m3',\n",
       "  'Oil production (actual), t',\n",
       "  'Water production, m3',\n",
       "  'Water production, t',\n",
       "  'Gas production, M m3',\n",
       "  'Working hours',\n",
       "  'Downtime hours',\n",
       "  'Longitude',\n",
       "  'Latitude'],\n",
       " 'WCT')"
      ]
     },
     "execution_count": 12,
     "metadata": {},
     "output_type": "execute_result"
    }
   ],
   "source": [
    "features, target"
   ]
  },
  {
   "cell_type": "code",
   "execution_count": 13,
   "metadata": {
    "ExecuteTime": {
     "end_time": "2021-05-23T20:55:10.780529Z",
     "start_time": "2021-05-23T20:55:10.766489Z"
    },
    "scrolled": true
   },
   "outputs": [
    {
     "data": {
      "text/plain": [
       "Index(['Date', 'Day', 'Well', 'Formation', 'Lift type', 'Oil production, m3',\n",
       "       'Oil production (actual), t', 'Water production, m3',\n",
       "       'Water production, t', 'Gas production, M m3', 'WCT',\n",
       "       'Oil density, t/m3', 'Water density, t/m3', 'Working hours',\n",
       "       'Downtime hours', 'liquid, m3'],\n",
       "      dtype='object')"
      ]
     },
     "execution_count": 13,
     "metadata": {},
     "output_type": "execute_result"
    }
   ],
   "source": [
    "data.columns"
   ]
  },
  {
   "cell_type": "code",
   "execution_count": 14,
   "metadata": {
    "ExecuteTime": {
     "end_time": "2021-05-23T20:55:10.795547Z",
     "start_time": "2021-05-23T20:55:10.781516Z"
    }
   },
   "outputs": [],
   "source": [
    "data.drop(['Date', 'Well', 'Formation', 'Lift type'], axis=1, inplace=True)"
   ]
  },
  {
   "cell_type": "code",
   "execution_count": 15,
   "metadata": {
    "ExecuteTime": {
     "end_time": "2021-05-23T20:55:10.811516Z",
     "start_time": "2021-05-23T20:55:10.796534Z"
    }
   },
   "outputs": [
    {
     "data": {
      "text/html": [
       "<div>\n",
       "<style scoped>\n",
       "    .dataframe tbody tr th:only-of-type {\n",
       "        vertical-align: middle;\n",
       "    }\n",
       "\n",
       "    .dataframe tbody tr th {\n",
       "        vertical-align: top;\n",
       "    }\n",
       "\n",
       "    .dataframe thead th {\n",
       "        text-align: right;\n",
       "    }\n",
       "</style>\n",
       "<table border=\"1\" class=\"dataframe\">\n",
       "  <thead>\n",
       "    <tr style=\"text-align: right;\">\n",
       "      <th></th>\n",
       "      <th>Day</th>\n",
       "      <th>Oil production, m3</th>\n",
       "      <th>Oil production (actual), t</th>\n",
       "      <th>Water production, m3</th>\n",
       "      <th>Water production, t</th>\n",
       "      <th>Gas production, M m3</th>\n",
       "      <th>WCT</th>\n",
       "      <th>Oil density, t/m3</th>\n",
       "      <th>Water density, t/m3</th>\n",
       "      <th>Working hours</th>\n",
       "      <th>Downtime hours</th>\n",
       "      <th>liquid, m3</th>\n",
       "    </tr>\n",
       "  </thead>\n",
       "  <tbody>\n",
       "    <tr>\n",
       "      <th>0</th>\n",
       "      <td>35186</td>\n",
       "      <td>1549.516908</td>\n",
       "      <td>1283</td>\n",
       "      <td>0.0</td>\n",
       "      <td>0.0</td>\n",
       "      <td>173.20</td>\n",
       "      <td>0.0</td>\n",
       "      <td>0.828</td>\n",
       "      <td>1.164</td>\n",
       "      <td>336.0</td>\n",
       "      <td>408.0</td>\n",
       "      <td>1549.516908</td>\n",
       "    </tr>\n",
       "    <tr>\n",
       "      <th>1</th>\n",
       "      <td>35217</td>\n",
       "      <td>4330.917874</td>\n",
       "      <td>3586</td>\n",
       "      <td>0.0</td>\n",
       "      <td>0.0</td>\n",
       "      <td>484.11</td>\n",
       "      <td>0.0</td>\n",
       "      <td>0.828</td>\n",
       "      <td>1.164</td>\n",
       "      <td>696.0</td>\n",
       "      <td>24.0</td>\n",
       "      <td>4330.917874</td>\n",
       "    </tr>\n",
       "    <tr>\n",
       "      <th>2</th>\n",
       "      <td>35247</td>\n",
       "      <td>5179.951691</td>\n",
       "      <td>4289</td>\n",
       "      <td>0.0</td>\n",
       "      <td>0.0</td>\n",
       "      <td>630.50</td>\n",
       "      <td>0.0</td>\n",
       "      <td>0.828</td>\n",
       "      <td>1.164</td>\n",
       "      <td>744.0</td>\n",
       "      <td>0.0</td>\n",
       "      <td>5179.951691</td>\n",
       "    </tr>\n",
       "  </tbody>\n",
       "</table>\n",
       "</div>"
      ],
      "text/plain": [
       "     Day  Oil production, m3  Oil production (actual), t  \\\n",
       "0  35186         1549.516908                        1283   \n",
       "1  35217         4330.917874                        3586   \n",
       "2  35247         5179.951691                        4289   \n",
       "\n",
       "   Water production, m3  Water production, t  Gas production, M m3  WCT  \\\n",
       "0                   0.0                  0.0                173.20  0.0   \n",
       "1                   0.0                  0.0                484.11  0.0   \n",
       "2                   0.0                  0.0                630.50  0.0   \n",
       "\n",
       "   Oil density, t/m3  Water density, t/m3  Working hours  Downtime hours  \\\n",
       "0              0.828                1.164          336.0           408.0   \n",
       "1              0.828                1.164          696.0            24.0   \n",
       "2              0.828                1.164          744.0             0.0   \n",
       "\n",
       "    liquid, m3  \n",
       "0  1549.516908  \n",
       "1  4330.917874  \n",
       "2  5179.951691  "
      ]
     },
     "execution_count": 15,
     "metadata": {},
     "output_type": "execute_result"
    }
   ],
   "source": [
    "data.head(3)"
   ]
  },
  {
   "cell_type": "code",
   "execution_count": 16,
   "metadata": {
    "ExecuteTime": {
     "end_time": "2021-05-23T20:55:10.827524Z",
     "start_time": "2021-05-23T20:55:10.813493Z"
    }
   },
   "outputs": [],
   "source": [
    "features = ['Day', 'Oil production, m3', 'Oil production (actual), t',\n",
    "       'Water production, m3', 'Water production, t', 'Gas production, M m3',\n",
    "       'Working hours', 'Downtime hours']\n"
   ]
  },
  {
   "cell_type": "code",
   "execution_count": 17,
   "metadata": {
    "ExecuteTime": {
     "end_time": "2021-05-23T20:55:10.842492Z",
     "start_time": "2021-05-23T20:55:10.828489Z"
    }
   },
   "outputs": [
    {
     "data": {
      "text/plain": [
       "((215, 8), (50, 8))"
      ]
     },
     "execution_count": 17,
     "metadata": {},
     "output_type": "execute_result"
    }
   ],
   "source": [
    "train_size = 215\n",
    "val_size = 50\n",
    "bias = 1\n",
    "\n",
    "train_data = data.iloc[:train_size][features]\n",
    "val_data = data.iloc[train_size + bias:train_size + bias + val_size][features]\n",
    "\n",
    "train_data.shape, val_data.shape"
   ]
  },
  {
   "cell_type": "code",
   "execution_count": 18,
   "metadata": {
    "ExecuteTime": {
     "end_time": "2021-05-23T20:55:10.874489Z",
     "start_time": "2021-05-23T20:55:10.843490Z"
    }
   },
   "outputs": [
    {
     "data": {
      "text/html": [
       "<div>\n",
       "<style scoped>\n",
       "    .dataframe tbody tr th:only-of-type {\n",
       "        vertical-align: middle;\n",
       "    }\n",
       "\n",
       "    .dataframe tbody tr th {\n",
       "        vertical-align: top;\n",
       "    }\n",
       "\n",
       "    .dataframe thead th {\n",
       "        text-align: right;\n",
       "    }\n",
       "</style>\n",
       "<table border=\"1\" class=\"dataframe\">\n",
       "  <thead>\n",
       "    <tr style=\"text-align: right;\">\n",
       "      <th></th>\n",
       "      <th>Day</th>\n",
       "      <th>Oil production, m3</th>\n",
       "      <th>Oil production (actual), t</th>\n",
       "      <th>Water production, m3</th>\n",
       "      <th>Water production, t</th>\n",
       "      <th>Gas production, M m3</th>\n",
       "      <th>Working hours</th>\n",
       "      <th>Downtime hours</th>\n",
       "    </tr>\n",
       "  </thead>\n",
       "  <tbody>\n",
       "    <tr>\n",
       "      <th>0</th>\n",
       "      <td>-1.724247</td>\n",
       "      <td>-8.109071</td>\n",
       "      <td>-8.109071</td>\n",
       "      <td>-0.359144</td>\n",
       "      <td>-0.35914</td>\n",
       "      <td>-8.098885</td>\n",
       "      <td>-11.552428</td>\n",
       "      <td>14.166523</td>\n",
       "    </tr>\n",
       "    <tr>\n",
       "      <th>1</th>\n",
       "      <td>-1.707837</td>\n",
       "      <td>-3.662321</td>\n",
       "      <td>-3.662321</td>\n",
       "      <td>-0.359144</td>\n",
       "      <td>-0.35914</td>\n",
       "      <td>-4.115956</td>\n",
       "      <td>-0.894216</td>\n",
       "      <td>0.694768</td>\n",
       "    </tr>\n",
       "    <tr>\n",
       "      <th>2</th>\n",
       "      <td>-1.691957</td>\n",
       "      <td>-2.304933</td>\n",
       "      <td>-2.304933</td>\n",
       "      <td>-0.359144</td>\n",
       "      <td>-0.35914</td>\n",
       "      <td>-2.240620</td>\n",
       "      <td>0.526879</td>\n",
       "      <td>-0.147217</td>\n",
       "    </tr>\n",
       "    <tr>\n",
       "      <th>3</th>\n",
       "      <td>-1.675547</td>\n",
       "      <td>-2.501880</td>\n",
       "      <td>-2.501880</td>\n",
       "      <td>-0.359144</td>\n",
       "      <td>-0.35914</td>\n",
       "      <td>-2.439184</td>\n",
       "      <td>0.526879</td>\n",
       "      <td>-0.147217</td>\n",
       "    </tr>\n",
       "    <tr>\n",
       "      <th>4</th>\n",
       "      <td>-1.659137</td>\n",
       "      <td>-2.258593</td>\n",
       "      <td>-2.258593</td>\n",
       "      <td>-0.359144</td>\n",
       "      <td>-0.35914</td>\n",
       "      <td>-2.054867</td>\n",
       "      <td>-0.183668</td>\n",
       "      <td>-0.147217</td>\n",
       "    </tr>\n",
       "  </tbody>\n",
       "</table>\n",
       "</div>"
      ],
      "text/plain": [
       "        Day  Oil production, m3  Oil production (actual), t  \\\n",
       "0 -1.724247           -8.109071                   -8.109071   \n",
       "1 -1.707837           -3.662321                   -3.662321   \n",
       "2 -1.691957           -2.304933                   -2.304933   \n",
       "3 -1.675547           -2.501880                   -2.501880   \n",
       "4 -1.659137           -2.258593                   -2.258593   \n",
       "\n",
       "   Water production, m3  Water production, t  Gas production, M m3  \\\n",
       "0             -0.359144             -0.35914             -8.098885   \n",
       "1             -0.359144             -0.35914             -4.115956   \n",
       "2             -0.359144             -0.35914             -2.240620   \n",
       "3             -0.359144             -0.35914             -2.439184   \n",
       "4             -0.359144             -0.35914             -2.054867   \n",
       "\n",
       "   Working hours  Downtime hours  \n",
       "0     -11.552428       14.166523  \n",
       "1      -0.894216        0.694768  \n",
       "2       0.526879       -0.147217  \n",
       "3       0.526879       -0.147217  \n",
       "4      -0.183668       -0.147217  "
      ]
     },
     "execution_count": 18,
     "metadata": {},
     "output_type": "execute_result"
    }
   ],
   "source": [
    "scaler = StandardScaler()\n",
    "\n",
    "train_data[features] = scaler.fit_transform(train_data[features])\n",
    "val_data[features] = scaler.transform(val_data[features])\n",
    "\n",
    "train_data.head()"
   ]
  },
  {
   "cell_type": "markdown",
   "metadata": {},
   "source": [
    "Формируем параметры для генерации выборки"
   ]
  },
  {
   "cell_type": "code",
   "execution_count": 19,
   "metadata": {
    "ExecuteTime": {
     "end_time": "2021-05-23T20:55:10.890500Z",
     "start_time": "2021-05-23T20:55:10.875490Z"
    }
   },
   "outputs": [],
   "source": [
    "x_len = 7\n",
    "\n",
    "future = 1\n",
    "\n",
    "learning_rate = 0.001\n",
    "batch_size = 16\n",
    "epochs = 200"
   ]
  },
  {
   "cell_type": "code",
   "execution_count": 20,
   "metadata": {
    "ExecuteTime": {
     "end_time": "2021-05-23T20:55:10.906487Z",
     "start_time": "2021-05-23T20:55:10.892489Z"
    }
   },
   "outputs": [
    {
     "name": "stdout",
     "output_type": "stream",
     "text": [
      "8 223\n",
      "42 224\n"
     ]
    },
    {
     "data": {
      "text/plain": [
       "((215, 8), (215,), (42, 8), (42,))"
      ]
     },
     "execution_count": 20,
     "metadata": {},
     "output_type": "execute_result"
    }
   ],
   "source": [
    "start = x_len + future\n",
    "end = start + train_size\n",
    "\n",
    "print(start, end)\n",
    "\n",
    "X_train = train_data[features].values\n",
    "y_train = data.iloc[start:end][target].values\n",
    "\n",
    "\n",
    "x_end = len(val_data) - x_len - future\n",
    "label_start = len(train_data) + bias + x_len + future\n",
    "print(x_end, label_start)\n",
    "\n",
    "X_val = val_data.iloc[:x_end][features].values\n",
    "y_val = data.iloc[label_start:train_size+val_size + bias][target].values\n",
    "\n",
    "X_train.shape, y_train.shape, X_val.shape, y_val.shape"
   ]
  },
  {
   "cell_type": "code",
   "execution_count": 21,
   "metadata": {
    "ExecuteTime": {
     "end_time": "2021-05-23T20:55:11.050486Z",
     "start_time": "2021-05-23T20:55:10.908489Z"
    }
   },
   "outputs": [
    {
     "data": {
      "image/png": "[encoded data removed]",
      "text/plain": [
       "<Figure size 720x360 with 1 Axes>"
      ]
     },
     "metadata": {
      "needs_background": "light"
     },
     "output_type": "display_data"
    }
   ],
   "source": [
    "plt.figure(figsize=(10, 5))\n",
    "plt.plot(data.index[x_len:y_train.shape[0]+x_len],y_train[:])\n",
    "plt.plot(data.index[y_train.shape[0]+x_len+bias+future:train_size+val_size + bias],y_val[:])\n",
    "plt.grid('on')\n",
    "plt.xlabel('t, дни')\n",
    "plt.ylabel('$')\n",
    "plt.title('Обводнённость')\n",
    "plt.show()"
   ]
  },
  {
   "cell_type": "code",
   "execution_count": 22,
   "metadata": {
    "ExecuteTime": {
     "end_time": "2021-05-23T20:55:11.146542Z",
     "start_time": "2021-05-23T20:55:11.054491Z"
    }
   },
   "outputs": [],
   "source": [
    "from keras.preprocessing import timeseries_dataset_from_array \n",
    "\n",
    "dataset_train = timeseries_dataset_from_array(\n",
    "    X_train,\n",
    "    y_train,\n",
    "    sequence_length=x_len,\n",
    "    sampling_rate=1,\n",
    "    batch_size=batch_size,\n",
    ")\n",
    "\n",
    "dataset_val = timeseries_dataset_from_array(\n",
    "    X_val,\n",
    "    y_val,\n",
    "    sequence_length=x_len,\n",
    "    sampling_rate=1,\n",
    "    batch_size=batch_size,\n",
    ")"
   ]
  },
  {
   "cell_type": "code",
   "execution_count": 23,
   "metadata": {
    "ExecuteTime": {
     "end_time": "2021-05-23T20:55:11.193890Z",
     "start_time": "2021-05-23T20:55:11.148516Z"
    }
   },
   "outputs": [
    {
     "name": "stdout",
     "output_type": "stream",
     "text": [
      "Input shape: (16, 7, 8)\n",
      "tf.Tensor(\n",
      "[[-1.70783748 -3.66232135 -3.66232135 -0.35914405 -0.35913956 -4.11595646\n",
      "  -0.89421574  0.69476793]\n",
      " [-1.69195685 -2.30493313 -2.30493313 -0.35914405 -0.35913956 -2.24062006\n",
      "   0.52687922 -0.14721679]\n",
      " [-1.67554686 -2.50187992 -2.50187992 -0.35914405 -0.35913956 -2.43918358\n",
      "   0.52687922 -0.14721679]\n",
      " [-1.65913688 -2.2585927  -2.2585927  -0.35914405 -0.35913956 -2.05486708\n",
      "  -0.18366826 -0.14721679]\n",
      " [-1.64325625  0.7651199   0.7651199  -0.35914405 -0.35913956  1.20541787\n",
      "   0.52687922 -0.14721679]\n",
      " [-1.62684626 -0.01108219 -0.01108219 -0.35914405 -0.35913956  0.62766207\n",
      "  -0.18366826 -0.14721679]\n",
      " [-1.61096563  0.28240716  0.28240716 -0.35914405 -0.35913956  0.32533309\n",
      "   0.52687922 -0.14721679]], shape=(7, 8), dtype=float64)\n",
      "Target shape: (16,)\n",
      "tf.Tensor(0.0, shape=(), dtype=float64)\n"
     ]
    }
   ],
   "source": [
    "for batch in dataset_train.take(1):\n",
    "    inputs, targets = batch\n",
    "    print(\"Input shape:\", inputs.shape)\n",
    "    print(inputs[1])\n",
    "    print(\"Target shape:\", targets.shape)\n",
    "    print(targets[1])"
   ]
  },
  {
   "cell_type": "code",
   "execution_count": 24,
   "metadata": {
    "ExecuteTime": {
     "end_time": "2021-05-23T20:55:11.813458Z",
     "start_time": "2021-05-23T20:55:11.195670Z"
    }
   },
   "outputs": [
    {
     "name": "stdout",
     "output_type": "stream",
     "text": [
      "Model: \"sequential\"\n",
      "_________________________________________________________________\n",
      "Layer (type)                 Output Shape              Param #   \n",
      "=================================================================\n",
      "lstm (LSTM)                  (None, 7, 32)             5248      \n",
      "_________________________________________________________________\n",
      "lstm_1 (LSTM)                (None, 7, 32)             8320      \n",
      "_________________________________________________________________\n",
      "conv1d (Conv1D)              (None, 5, 64)             6208      \n",
      "_________________________________________________________________\n",
      "conv1d_1 (Conv1D)            (None, 5, 64)             4160      \n",
      "_________________________________________________________________\n",
      "flatten (Flatten)            (None, 320)               0         \n",
      "_________________________________________________________________\n",
      "dense (Dense)                (None, 3)                 963       \n",
      "_________________________________________________________________\n",
      "dense_1 (Dense)              (None, 1)                 4         \n",
      "=================================================================\n",
      "Total params: 24,903\n",
      "Trainable params: 24,903\n",
      "Non-trainable params: 0\n",
      "_________________________________________________________________\n"
     ]
    }
   ],
   "source": [
    "early_stop = EarlyStopping(monitor='val_mae', patience=5)\n",
    "\n",
    "\n",
    "model = Sequential()\n",
    "\n",
    "model.add(LSTM(32, input_shape=(inputs.shape[1], inputs.shape[2]),\n",
    "               return_sequences=True))\n",
    "model.add(LSTM(32, return_sequences=True))\n",
    "model.add(Conv1D(64, 3, activation='linear'))\n",
    "model.add(Conv1D(64, 1, activation='linear'))\n",
    "model.add(Flatten())\n",
    "model.add(Dense(3, activation='linear'))\n",
    "model.add(Dense(1, activation='linear'))\n",
    "\n",
    "model.compile(loss='mse', optimizer='adam', metrics=['mae'])\n",
    "model.summary()"
   ]
  },
  {
   "cell_type": "code",
   "execution_count": 25,
   "metadata": {
    "ExecuteTime": {
     "end_time": "2021-05-23T20:55:48.818511Z",
     "start_time": "2021-05-23T20:55:11.815433Z"
    },
    "scrolled": true
   },
   "outputs": [
    {
     "name": "stdout",
     "output_type": "stream",
     "text": [
      "Epoch 1/200\n",
      "14/14 [==============================] - 5s 122ms/step - loss: 9.9779 - mae: 0.5919 - val_loss: 1850.7769 - val_mae: 41.3983\n",
      "Epoch 2/200\n",
      "14/14 [==============================] - 0s 10ms/step - loss: 9.2134 - mae: 0.6152 - val_loss: 1783.3314 - val_mae: 40.4969\n",
      "Epoch 3/200\n",
      "14/14 [==============================] - 0s 10ms/step - loss: 7.9221 - mae: 0.5806 - val_loss: 1647.1599 - val_mae: 38.5841\n",
      "Epoch 4/200\n",
      "14/14 [==============================] - 0s 11ms/step - loss: 4.6110 - mae: 0.5737 - val_loss: 1254.0687 - val_mae: 32.3882\n",
      "Epoch 5/200\n",
      "14/14 [==============================] - 0s 11ms/step - loss: 2.0760 - mae: 0.9502 - val_loss: 795.4205 - val_mae: 21.0445\n",
      "Epoch 6/200\n",
      "14/14 [==============================] - 0s 12ms/step - loss: 6.3179 - mae: 1.5870 - val_loss: 948.5077 - val_mae: 23.9192\n",
      "Epoch 7/200\n",
      "14/14 [==============================] - 0s 11ms/step - loss: 3.2505 - mae: 0.9835 - val_loss: 1254.5223 - val_mae: 30.6506\n",
      "Epoch 8/200\n",
      "14/14 [==============================] - 0s 11ms/step - loss: 0.6544 - mae: 0.3789 - val_loss: 1001.5862 - val_mae: 24.0882\n",
      "Epoch 9/200\n",
      "14/14 [==============================] - 0s 10ms/step - loss: 2.1650 - mae: 0.5181 - val_loss: 897.1203 - val_mae: 23.2706\n",
      "Epoch 10/200\n",
      "14/14 [==============================] - 0s 10ms/step - loss: 0.6781 - mae: 0.4158 - val_loss: 1038.9814 - val_mae: 25.3093\n",
      "Epoch 11/200\n",
      "14/14 [==============================] - 0s 11ms/step - loss: 0.6443 - mae: 0.3856 - val_loss: 958.8120 - val_mae: 23.1344\n",
      "Epoch 12/200\n",
      "14/14 [==============================] - 0s 10ms/step - loss: 0.6375 - mae: 0.3665 - val_loss: 985.1085 - val_mae: 23.4945\n",
      "Epoch 13/200\n",
      "14/14 [==============================] - 0s 10ms/step - loss: 0.4430 - mae: 0.3373 - val_loss: 1022.2595 - val_mae: 24.2532\n",
      "Epoch 14/200\n",
      "14/14 [==============================] - 0s 10ms/step - loss: 0.5217 - mae: 0.3349 - val_loss: 1016.6339 - val_mae: 24.0556\n",
      "Epoch 15/200\n",
      "14/14 [==============================] - 0s 10ms/step - loss: 0.3998 - mae: 0.3224 - val_loss: 1043.8081 - val_mae: 24.8716\n",
      "Epoch 16/200\n",
      "14/14 [==============================] - 0s 10ms/step - loss: 0.4548 - mae: 0.3235 - val_loss: 1035.6116 - val_mae: 24.6343\n",
      "Epoch 17/200\n",
      "14/14 [==============================] - 0s 11ms/step - loss: 0.3733 - mae: 0.3183 - val_loss: 1057.3278 - val_mae: 25.3874\n",
      "Epoch 18/200\n",
      "14/14 [==============================] - 0s 10ms/step - loss: 0.4492 - mae: 0.3279 - val_loss: 1039.9562 - val_mae: 24.8798\n",
      "Epoch 19/200\n",
      "14/14 [==============================] - 0s 12ms/step - loss: 0.3710 - mae: 0.3207 - val_loss: 1066.4478 - val_mae: 25.8350\n",
      "Epoch 20/200\n",
      "14/14 [==============================] - 0s 12ms/step - loss: 0.5281 - mae: 0.3442 - val_loss: 1029.3115 - val_mae: 24.6779\n",
      "Epoch 21/200\n",
      "14/14 [==============================] - 0s 10ms/step - loss: 0.4756 - mae: 0.3442 - val_loss: 1085.2943 - val_mae: 26.5862\n",
      "Epoch 22/200\n",
      "14/14 [==============================] - 0s 10ms/step - loss: 0.9105 - mae: 0.3879 - val_loss: 1001.7702 - val_mae: 23.9788\n",
      "Epoch 23/200\n",
      "14/14 [==============================] - 0s 10ms/step - loss: 1.1352 - mae: 0.4174 - val_loss: 1159.8914 - val_mae: 28.8051\n",
      "Epoch 24/200\n",
      "14/14 [==============================] - 0s 10ms/step - loss: 1.1114 - mae: 0.3942 - val_loss: 971.0470 - val_mae: 23.4807\n",
      "Epoch 25/200\n",
      "14/14 [==============================] - 0s 11ms/step - loss: 1.0397 - mae: 0.4314 - val_loss: 1149.5052 - val_mae: 28.4727\n",
      "Epoch 26/200\n",
      "14/14 [==============================] - 0s 12ms/step - loss: 0.7599 - mae: 0.3605 - val_loss: 986.0696 - val_mae: 23.6769\n",
      "Epoch 27/200\n",
      "14/14 [==============================] - 0s 10ms/step - loss: 0.5180 - mae: 0.3706 - val_loss: 1082.2355 - val_mae: 26.5733\n",
      "Epoch 28/200\n",
      "14/14 [==============================] - 0s 10ms/step - loss: 0.6453 - mae: 0.3492 - val_loss: 989.9259 - val_mae: 23.7654\n",
      "Epoch 29/200\n",
      "14/14 [==============================] - 0s 11ms/step - loss: 0.4997 - mae: 0.3530 - val_loss: 1078.8602 - val_mae: 26.4990\n",
      "Epoch 30/200\n",
      "14/14 [==============================] - 0s 12ms/step - loss: 0.6413 - mae: 0.3481 - val_loss: 988.7410 - val_mae: 23.7713\n",
      "Epoch 31/200\n",
      "14/14 [==============================] - 0s 12ms/step - loss: 0.5325 - mae: 0.3518 - val_loss: 1082.0985 - val_mae: 26.6606\n",
      "Epoch 32/200\n",
      "14/14 [==============================] - 0s 12ms/step - loss: 0.6632 - mae: 0.3521 - val_loss: 983.7380 - val_mae: 23.6906\n",
      "Epoch 33/200\n",
      "14/14 [==============================] - 0s 11ms/step - loss: 0.5740 - mae: 0.3594 - val_loss: 1085.9888 - val_mae: 26.8170\n",
      "Epoch 34/200\n",
      "14/14 [==============================] - 0s 12ms/step - loss: 0.6720 - mae: 0.3527 - val_loss: 978.4163 - val_mae: 23.6069\n",
      "Epoch 35/200\n",
      "14/14 [==============================] - 0s 10ms/step - loss: 0.5855 - mae: 0.3601 - val_loss: 1084.6437 - val_mae: 26.8185\n",
      "Epoch 36/200\n",
      "14/14 [==============================] - 0s 10ms/step - loss: 0.6569 - mae: 0.3503 - val_loss: 973.9727 - val_mae: 23.5429\n",
      "Epoch 37/200\n",
      "14/14 [==============================] - 0s 11ms/step - loss: 0.5658 - mae: 0.3551 - val_loss: 1078.6814 - val_mae: 26.6833\n",
      "Epoch 38/200\n",
      "14/14 [==============================] - 0s 11ms/step - loss: 0.6298 - mae: 0.3464 - val_loss: 970.1223 - val_mae: 23.4886\n",
      "Epoch 39/200\n",
      "14/14 [==============================] - 0s 11ms/step - loss: 0.5385 - mae: 0.3474 - val_loss: 1071.2018 - val_mae: 26.5052\n",
      "Epoch 40/200\n",
      "14/14 [==============================] - 0s 11ms/step - loss: 0.6043 - mae: 0.3431 - val_loss: 966.3352 - val_mae: 23.4355\n",
      "Epoch 41/200\n",
      "14/14 [==============================] - 0s 10ms/step - loss: 0.5177 - mae: 0.3403 - val_loss: 1064.3737 - val_mae: 26.3501\n",
      "Epoch 42/200\n",
      "14/14 [==============================] - 0s 10ms/step - loss: 0.5851 - mae: 0.3409 - val_loss: 961.9349 - val_mae: 23.3734\n",
      "Epoch 43/200\n",
      "14/14 [==============================] - 0s 10ms/step - loss: 0.5050 - mae: 0.3344 - val_loss: 1058.4987 - val_mae: 26.2259\n",
      "Epoch 44/200\n",
      "14/14 [==============================] - 0s 9ms/step - loss: 0.5719 - mae: 0.3399 - val_loss: 957.1673 - val_mae: 23.3053\n",
      "Epoch 45/200\n",
      "14/14 [==============================] - 0s 10ms/step - loss: 0.4979 - mae: 0.3301 - val_loss: 1053.3392 - val_mae: 26.1272\n",
      "Epoch 46/200\n",
      "14/14 [==============================] - 0s 9ms/step - loss: 0.5619 - mae: 0.3391 - val_loss: 951.7988 - val_mae: 23.2282\n",
      "Epoch 47/200\n",
      "14/14 [==============================] - 0s 10ms/step - loss: 0.4930 - mae: 0.3265 - val_loss: 1048.3799 - val_mae: 26.0352\n",
      "Epoch 48/200\n",
      "14/14 [==============================] - 0s 9ms/step - loss: 0.5533 - mae: 0.3388 - val_loss: 946.5350 - val_mae: 23.1522\n",
      "Epoch 49/200\n",
      "14/14 [==============================] - 0s 11ms/step - loss: 0.4884 - mae: 0.3246 - val_loss: 1043.4066 - val_mae: 25.9477\n",
      "Epoch 50/200\n",
      "14/14 [==============================] - 0s 9ms/step - loss: 0.5440 - mae: 0.3381 - val_loss: 940.6929 - val_mae: 23.0681\n",
      "Epoch 51/200\n",
      "14/14 [==============================] - 0s 9ms/step - loss: 0.4822 - mae: 0.3221 - val_loss: 1038.0717 - val_mae: 25.8455\n",
      "Epoch 52/200\n",
      "14/14 [==============================] - 0s 10ms/step - loss: 0.5353 - mae: 0.3385 - val_loss: 935.8648 - val_mae: 22.9986\n",
      "Epoch 53/200\n",
      "14/14 [==============================] - 0s 9ms/step - loss: 0.4762 - mae: 0.3218 - val_loss: 1032.6981 - val_mae: 25.7554\n",
      "Epoch 54/200\n",
      "14/14 [==============================] - 0s 10ms/step - loss: 0.5242 - mae: 0.3367 - val_loss: 928.8771 - val_mae: 22.8980\n",
      "Epoch 55/200\n",
      "14/14 [==============================] - 0s 9ms/step - loss: 0.4692 - mae: 0.3173 - val_loss: 1026.8335 - val_mae: 25.6231\n",
      "Epoch 56/200\n",
      "14/14 [==============================] - 0s 10ms/step - loss: 0.5231 - mae: 0.3428 - val_loss: 926.3009 - val_mae: 22.8609\n",
      "Epoch 57/200\n",
      "14/14 [==============================] - 0s 9ms/step - loss: 0.4713 - mae: 0.3230 - val_loss: 1022.1204 - val_mae: 25.5858\n",
      "Epoch 58/200\n",
      "14/14 [==============================] - 0s 10ms/step - loss: 0.5180 - mae: 0.3385 - val_loss: 915.8445 - val_mae: 22.7085\n",
      "Epoch 59/200\n",
      "14/14 [==============================] - 0s 10ms/step - loss: 0.4756 - mae: 0.3158 - val_loss: 1019.8724 - val_mae: 25.5249\n",
      "Epoch 60/200\n",
      "14/14 [==============================] - 0s 9ms/step - loss: 0.5125 - mae: 0.3467 - val_loss: 913.5639 - val_mae: 22.6745\n",
      "Epoch 61/200\n",
      "14/14 [==============================] - 0s 9ms/step - loss: 0.4549 - mae: 0.3193 - val_loss: 1011.7953 - val_mae: 25.3681\n",
      "Epoch 62/200\n",
      "14/14 [==============================] - 0s 10ms/step - loss: 0.4852 - mae: 0.3402 - val_loss: 908.0126 - val_mae: 22.5985\n",
      "Epoch 63/200\n",
      "14/14 [==============================] - 0s 10ms/step - loss: 0.4335 - mae: 0.3130 - val_loss: 1003.0173 - val_mae: 25.1712\n",
      "Epoch 64/200\n",
      "14/14 [==============================] - 0s 9ms/step - loss: 0.4724 - mae: 0.3435 - val_loss: 903.6263 - val_mae: 22.5386\n",
      "Epoch 65/200\n",
      "14/14 [==============================] - 0s 10ms/step - loss: 0.4233 - mae: 0.3134 - val_loss: 996.3316 - val_mae: 25.0527\n",
      "Epoch 66/200\n",
      "14/14 [==============================] - 0s 9ms/step - loss: 0.4616 - mae: 0.3429 - val_loss: 897.6683 - val_mae: 22.4548\n",
      "Epoch 67/200\n",
      "14/14 [==============================] - 0s 10ms/step - loss: 0.4193 - mae: 0.3132 - val_loss: 990.3831 - val_mae: 24.9482\n",
      "Epoch 68/200\n",
      "14/14 [==============================] - 0s 10ms/step - loss: 0.4581 - mae: 0.3454 - val_loss: 891.9594 - val_mae: 22.3738\n",
      "Epoch 69/200\n",
      "14/14 [==============================] - 0s 8ms/step - loss: 0.4200 - mae: 0.3148 - val_loss: 985.3136 - val_mae: 24.8757\n",
      "Epoch 70/200\n",
      "14/14 [==============================] - 0s 10ms/step - loss: 0.4551 - mae: 0.3467 - val_loss: 885.5191 - val_mae: 22.2818\n",
      "Epoch 71/200\n",
      "14/14 [==============================] - 0s 9ms/step - loss: 0.4217 - mae: 0.3165 - val_loss: 980.4138 - val_mae: 24.8035\n",
      "Epoch 72/200\n",
      "14/14 [==============================] - 0s 10ms/step - loss: 0.4537 - mae: 0.3491 - val_loss: 879.5291 - val_mae: 22.1969\n",
      "Epoch 73/200\n",
      "14/14 [==============================] - 0s 10ms/step - loss: 0.4229 - mae: 0.3186 - val_loss: 975.4288 - val_mae: 24.7361\n",
      "Epoch 74/200\n",
      "14/14 [==============================] - 0s 9ms/step - loss: 0.4497 - mae: 0.3502 - val_loss: 873.1217 - val_mae: 22.1059\n",
      "Epoch 75/200\n",
      "14/14 [==============================] - 0s 10ms/step - loss: 0.4220 - mae: 0.3208 - val_loss: 970.0654 - val_mae: 24.6520\n",
      "Epoch 76/200\n",
      "14/14 [==============================] - 0s 10ms/step - loss: 0.4461 - mae: 0.3520 - val_loss: 867.5353 - val_mae: 22.0282\n",
      "Epoch 77/200\n",
      "14/14 [==============================] - 0s 10ms/step - loss: 0.4193 - mae: 0.3225 - val_loss: 964.3589 - val_mae: 24.5696\n",
      "Epoch 78/200\n",
      "14/14 [==============================] - 0s 10ms/step - loss: 0.4387 - mae: 0.3523 - val_loss: 861.0000 - val_mae: 21.9357\n",
      "Epoch 79/200\n",
      "14/14 [==============================] - 0s 9ms/step - loss: 0.4159 - mae: 0.3261 - val_loss: 958.3755 - val_mae: 24.4638\n",
      "Epoch 80/200\n",
      "14/14 [==============================] - 0s 10ms/step - loss: 0.4359 - mae: 0.3544 - val_loss: 856.3252 - val_mae: 21.8733\n",
      "Epoch 81/200\n",
      "14/14 [==============================] - 0s 10ms/step - loss: 0.4126 - mae: 0.3263 - val_loss: 952.4099 - val_mae: 24.3879\n",
      "Epoch 82/200\n",
      "14/14 [==============================] - 0s 10ms/step - loss: 0.4270 - mae: 0.3538 - val_loss: 848.3571 - val_mae: 21.7570\n",
      "Epoch 83/200\n",
      "14/14 [==============================] - 0s 10ms/step - loss: 0.4147 - mae: 0.3330 - val_loss: 947.1433 - val_mae: 24.2772\n",
      "Epoch 84/200\n",
      "14/14 [==============================] - 0s 11ms/step - loss: 0.4368 - mae: 0.3596 - val_loss: 845.8167 - val_mae: 21.7280\n",
      "Epoch 85/200\n",
      "14/14 [==============================] - 0s 10ms/step - loss: 0.4186 - mae: 0.3313 - val_loss: 942.4814 - val_mae: 24.2675\n",
      "Epoch 86/200\n",
      "14/14 [==============================] - 0s 11ms/step - loss: 0.4287 - mae: 0.3577 - val_loss: 835.5706 - val_mae: 21.5755\n",
      "Epoch 87/200\n",
      "14/14 [==============================] - 0s 11ms/step - loss: 0.4303 - mae: 0.3415 - val_loss: 941.0813 - val_mae: 24.2293\n",
      "Epoch 88/200\n",
      "14/14 [==============================] - 0s 10ms/step - loss: 0.4284 - mae: 0.3614 - val_loss: 833.6639 - val_mae: 21.5540\n",
      "Epoch 89/200\n",
      "14/14 [==============================] - 0s 9ms/step - loss: 0.4076 - mae: 0.3343 - val_loss: 931.9291 - val_mae: 24.0798\n",
      "Epoch 90/200\n",
      "14/14 [==============================] - 0s 10ms/step - loss: 0.4044 - mae: 0.3560 - val_loss: 826.4990 - val_mae: 21.4553\n",
      "Epoch 91/200\n",
      "14/14 [==============================] - 0s 10ms/step - loss: 0.3905 - mae: 0.3376 - val_loss: 922.8157 - val_mae: 23.8860\n",
      "Epoch 92/200\n",
      "14/14 [==============================] - 0s 10ms/step - loss: 0.3952 - mae: 0.3571 - val_loss: 823.1271 - val_mae: 21.4158\n",
      "Epoch 93/200\n",
      "14/14 [==============================] - 0s 9ms/step - loss: 0.3797 - mae: 0.3351 - val_loss: 915.0364 - val_mae: 23.7663\n",
      "Epoch 94/200\n",
      "14/14 [==============================] - 0s 10ms/step - loss: 0.3838 - mae: 0.3553 - val_loss: 816.1990 - val_mae: 21.3190\n",
      "Epoch 95/200\n",
      "14/14 [==============================] - 0s 10ms/step - loss: 0.3748 - mae: 0.3370 - val_loss: 908.5706 - val_mae: 23.6462\n",
      "Epoch 96/200\n",
      "14/14 [==============================] - 0s 10ms/step - loss: 0.3807 - mae: 0.3554 - val_loss: 811.3015 - val_mae: 21.2536\n",
      "Epoch 97/200\n",
      "14/14 [==============================] - 0s 11ms/step - loss: 0.3741 - mae: 0.3362 - val_loss: 902.6994 - val_mae: 23.5715\n",
      "Epoch 98/200\n",
      "14/14 [==============================] - 0s 12ms/step - loss: 0.3775 - mae: 0.3554 - val_loss: 804.4100 - val_mae: 21.1560\n",
      "Epoch 99/200\n",
      "14/14 [==============================] - 0s 10ms/step - loss: 0.3766 - mae: 0.3380 - val_loss: 897.8303 - val_mae: 23.5028\n",
      "Epoch 100/200\n",
      "14/14 [==============================] - 0s 9ms/step - loss: 0.3785 - mae: 0.3560 - val_loss: 798.8738 - val_mae: 21.0797\n",
      "Epoch 101/200\n",
      "14/14 [==============================] - 0s 9ms/step - loss: 0.3801 - mae: 0.3379 - val_loss: 893.1875 - val_mae: 23.4573\n",
      "Epoch 102/200\n",
      "14/14 [==============================] - 0s 9ms/step - loss: 0.3774 - mae: 0.3562 - val_loss: 792.1229 - val_mae: 20.9836\n",
      "Epoch 103/200\n",
      "14/14 [==============================] - 0s 9ms/step - loss: 0.3831 - mae: 0.3393 - val_loss: 888.7076 - val_mae: 23.3989\n",
      "Epoch 104/200\n",
      "14/14 [==============================] - 0s 10ms/step - loss: 0.3781 - mae: 0.3564 - val_loss: 787.0090 - val_mae: 20.9143\n",
      "Epoch 105/200\n",
      "14/14 [==============================] - 0s 10ms/step - loss: 0.3844 - mae: 0.3386 - val_loss: 883.9753 - val_mae: 23.3523\n",
      "Epoch 106/200\n",
      "14/14 [==============================] - 0s 10ms/step - loss: 0.3743 - mae: 0.3559 - val_loss: 780.2702 - val_mae: 20.8178\n",
      "Epoch 107/200\n",
      "14/14 [==============================] - 0s 10ms/step - loss: 0.3840 - mae: 0.3395 - val_loss: 879.0300 - val_mae: 23.2731\n",
      "Epoch 108/200\n",
      "14/14 [==============================] - 0s 9ms/step - loss: 0.3742 - mae: 0.3554 - val_loss: 776.4255 - val_mae: 20.7698\n",
      "Epoch 109/200\n",
      "14/14 [==============================] - 0s 10ms/step - loss: 0.3829 - mae: 0.3377 - val_loss: 873.9583 - val_mae: 23.2272\n",
      "Epoch 110/200\n",
      "14/14 [==============================] - 0s 10ms/step - loss: 0.3678 - mae: 0.3544 - val_loss: 768.6409 - val_mae: 20.6547\n",
      "Epoch 111/200\n",
      "14/14 [==============================] - 0s 10ms/step - loss: 0.3825 - mae: 0.3388 - val_loss: 869.2527 - val_mae: 23.1320\n",
      "Epoch 112/200\n",
      "14/14 [==============================] - 0s 10ms/step - loss: 0.3719 - mae: 0.3538 - val_loss: 767.0191 - val_mae: 20.6431\n",
      "Epoch 113/200\n",
      "14/14 [==============================] - 0s 9ms/step - loss: 0.3844 - mae: 0.3372 - val_loss: 864.6342 - val_mae: 23.1211\n",
      "Epoch 114/200\n",
      "14/14 [==============================] - 0s 10ms/step - loss: 0.3664 - mae: 0.3542 - val_loss: 757.1882 - val_mae: 20.4955\n",
      "Epoch 115/200\n",
      "14/14 [==============================] - 0s 10ms/step - loss: 0.3870 - mae: 0.3381 - val_loss: 862.3156 - val_mae: 23.0588\n",
      "Epoch 116/200\n",
      "14/14 [==============================] - 0s 11ms/step - loss: 0.3652 - mae: 0.3505 - val_loss: 757.1187 - val_mae: 20.5060\n",
      "Epoch 117/200\n",
      "14/14 [==============================] - 0s 10ms/step - loss: 0.3791 - mae: 0.3352 - val_loss: 855.0187 - val_mae: 22.9839\n",
      "Epoch 118/200\n",
      "14/14 [==============================] - 0s 10ms/step - loss: 0.3538 - mae: 0.3510 - val_loss: 748.3494 - val_mae: 20.3748\n",
      "Epoch 119/200\n",
      "14/14 [==============================] - 0s 9ms/step - loss: 0.3652 - mae: 0.3323 - val_loss: 849.3757 - val_mae: 22.8444\n",
      "Epoch 120/200\n",
      "14/14 [==============================] - 0s 10ms/step - loss: 0.3459 - mae: 0.3448 - val_loss: 747.5581 - val_mae: 20.3816\n",
      "Epoch 121/200\n"
     ]
    },
    {
     "name": "stdout",
     "output_type": "stream",
     "text": [
      "14/14 [==============================] - 0s 10ms/step - loss: 0.3570 - mae: 0.3295 - val_loss: 842.0540 - val_mae: 22.7543\n",
      "Epoch 122/200\n",
      "14/14 [==============================] - 0s 10ms/step - loss: 0.3367 - mae: 0.3449 - val_loss: 740.3981 - val_mae: 20.2732\n",
      "Epoch 123/200\n",
      "14/14 [==============================] - 0s 9ms/step - loss: 0.3462 - mae: 0.3260 - val_loss: 836.4314 - val_mae: 22.6343\n",
      "Epoch 124/200\n",
      "14/14 [==============================] - 0s 10ms/step - loss: 0.3306 - mae: 0.3397 - val_loss: 737.9409 - val_mae: 20.2545\n",
      "Epoch 125/200\n",
      "14/14 [==============================] - 0s 9ms/step - loss: 0.3427 - mae: 0.3242 - val_loss: 830.6055 - val_mae: 22.5638\n",
      "Epoch 126/200\n",
      "14/14 [==============================] - 0s 10ms/step - loss: 0.3265 - mae: 0.3396 - val_loss: 731.7945 - val_mae: 20.1641\n",
      "Epoch 127/200\n",
      "14/14 [==============================] - 0s 10ms/step - loss: 0.3389 - mae: 0.3218 - val_loss: 826.0758 - val_mae: 22.4885\n",
      "Epoch 128/200\n",
      "14/14 [==============================] - 0s 9ms/step - loss: 0.3245 - mae: 0.3366 - val_loss: 728.1011 - val_mae: 20.1196\n",
      "Epoch 129/200\n",
      "14/14 [==============================] - 0s 10ms/step - loss: 0.3402 - mae: 0.3208 - val_loss: 821.8313 - val_mae: 22.4475\n",
      "Epoch 130/200\n",
      "14/14 [==============================] - 0s 11ms/step - loss: 0.3241 - mae: 0.3369 - val_loss: 722.5081 - val_mae: 20.0379\n",
      "Epoch 131/200\n",
      "14/14 [==============================] - 0s 10ms/step - loss: 0.3409 - mae: 0.3193 - val_loss: 818.2755 - val_mae: 22.4044\n",
      "Epoch 132/200\n",
      "14/14 [==============================] - 0s 11ms/step - loss: 0.3245 - mae: 0.3352 - val_loss: 718.4158 - val_mae: 19.9846\n",
      "Epoch 133/200\n",
      "14/14 [==============================] - 0s 10ms/step - loss: 0.3439 - mae: 0.3184 - val_loss: 814.8395 - val_mae: 22.3789\n",
      "Epoch 134/200\n",
      "14/14 [==============================] - 0s 10ms/step - loss: 0.3249 - mae: 0.3354 - val_loss: 713.2766 - val_mae: 19.9104\n",
      "Epoch 135/200\n",
      "14/14 [==============================] - 0s 10ms/step - loss: 0.3446 - mae: 0.3168 - val_loss: 811.4852 - val_mae: 22.3417\n",
      "Epoch 136/200\n",
      "14/14 [==============================] - 0s 9ms/step - loss: 0.3250 - mae: 0.3340 - val_loss: 709.4048 - val_mae: 19.8608\n",
      "Epoch 137/200\n",
      "14/14 [==============================] - 0s 10ms/step - loss: 0.3459 - mae: 0.3157 - val_loss: 808.0233 - val_mae: 22.3123\n",
      "Epoch 138/200\n",
      "14/14 [==============================] - 0s 10ms/step - loss: 0.3237 - mae: 0.3337 - val_loss: 704.7013 - val_mae: 19.7942\n",
      "Epoch 139/200\n",
      "14/14 [==============================] - 0s 9ms/step - loss: 0.3441 - mae: 0.3133 - val_loss: 804.3202 - val_mae: 22.2639\n",
      "Epoch 140/200\n",
      "14/14 [==============================] - 0s 10ms/step - loss: 0.3222 - mae: 0.3319 - val_loss: 701.3057 - val_mae: 19.7534\n",
      "Epoch 141/200\n",
      "14/14 [==============================] - 0s 10ms/step - loss: 0.3430 - mae: 0.3121 - val_loss: 800.5715 - val_mae: 22.2252\n",
      "Epoch 142/200\n",
      "14/14 [==============================] - 0s 9ms/step - loss: 0.3192 - mae: 0.3313 - val_loss: 696.8857 - val_mae: 19.6915\n",
      "Epoch 143/200\n",
      "14/14 [==============================] - 0s 9ms/step - loss: 0.3388 - mae: 0.3090 - val_loss: 796.5716 - val_mae: 22.1658\n",
      "Epoch 144/200\n",
      "14/14 [==============================] - 0s 11ms/step - loss: 0.3168 - mae: 0.3289 - val_loss: 693.9685 - val_mae: 19.6591\n",
      "Epoch 145/200\n",
      "14/14 [==============================] - 0s 11ms/step - loss: 0.3370 - mae: 0.3079 - val_loss: 792.7969 - val_mae: 22.1256\n",
      "Epoch 146/200\n",
      "14/14 [==============================] - 0s 10ms/step - loss: 0.3132 - mae: 0.3283 - val_loss: 689.6240 - val_mae: 19.5975\n",
      "Epoch 147/200\n",
      "14/14 [==============================] - 0s 9ms/step - loss: 0.3322 - mae: 0.3044 - val_loss: 788.8454 - val_mae: 22.0636\n",
      "Epoch 148/200\n",
      "14/14 [==============================] - 0s 12ms/step - loss: 0.3110 - mae: 0.3256 - val_loss: 687.1205 - val_mae: 19.5720\n",
      "Epoch 149/200\n",
      "14/14 [==============================] - 0s 10ms/step - loss: 0.3313 - mae: 0.3038 - val_loss: 785.3656 - val_mae: 22.0308\n",
      "Epoch 150/200\n",
      "14/14 [==============================] - 0s 9ms/step - loss: 0.3081 - mae: 0.3257 - val_loss: 682.7323 - val_mae: 19.5082\n",
      "Epoch 151/200\n",
      "14/14 [==============================] - 0s 11ms/step - loss: 0.3267 - mae: 0.2998 - val_loss: 781.7145 - val_mae: 21.9726\n",
      "Epoch 152/200\n",
      "14/14 [==============================] - 0s 9ms/step - loss: 0.3065 - mae: 0.3228 - val_loss: 680.6081 - val_mae: 19.4887\n",
      "Epoch 153/200\n",
      "14/14 [==============================] - 0s 9ms/step - loss: 0.3274 - mae: 0.3010 - val_loss: 778.6494 - val_mae: 21.9502\n",
      "Epoch 154/200\n",
      "14/14 [==============================] - 0s 10ms/step - loss: 0.3044 - mae: 0.3241 - val_loss: 676.1810 - val_mae: 19.4228\n",
      "Epoch 155/200\n",
      "14/14 [==============================] - 0s 10ms/step - loss: 0.3230 - mae: 0.2959 - val_loss: 775.3497 - val_mae: 21.8973\n",
      "Epoch 156/200\n",
      "14/14 [==============================] - 0s 9ms/step - loss: 0.3033 - mae: 0.3211 - val_loss: 674.4321 - val_mae: 19.4092\n",
      "Epoch 157/200\n",
      "14/14 [==============================] - 0s 9ms/step - loss: 0.3250 - mae: 0.2999 - val_loss: 772.6399 - val_mae: 21.8834\n",
      "Epoch 158/200\n",
      "14/14 [==============================] - 0s 10ms/step - loss: 0.3020 - mae: 0.3234 - val_loss: 670.0418 - val_mae: 19.3427\n",
      "Epoch 159/200\n",
      "14/14 [==============================] - 0s 10ms/step - loss: 0.3203 - mae: 0.2932 - val_loss: 769.6194 - val_mae: 21.8342\n",
      "Epoch 160/200\n",
      "14/14 [==============================] - 0s 11ms/step - loss: 0.3008 - mae: 0.3197 - val_loss: 668.6548 - val_mae: 19.3350\n",
      "Epoch 161/200\n",
      "14/14 [==============================] - 0s 10ms/step - loss: 0.3231 - mae: 0.2998 - val_loss: 767.1371 - val_mae: 21.8250\n",
      "Epoch 162/200\n",
      "14/14 [==============================] - 0s 9ms/step - loss: 0.3000 - mae: 0.3232 - val_loss: 664.3987 - val_mae: 19.2700\n",
      "Epoch 163/200\n",
      "14/14 [==============================] - 0s 10ms/step - loss: 0.3178 - mae: 0.2922 - val_loss: 764.3093 - val_mae: 21.7779\n",
      "Epoch 164/200\n",
      "14/14 [==============================] - 0s 11ms/step - loss: 0.2983 - mae: 0.3187 - val_loss: 663.3142 - val_mae: 19.2669\n",
      "Epoch 165/200\n",
      "14/14 [==============================] - 0s 10ms/step - loss: 0.3208 - mae: 0.2997 - val_loss: 761.9414 - val_mae: 21.7697\n",
      "Epoch 166/200\n",
      "14/14 [==============================] - 0s 10ms/step - loss: 0.2979 - mae: 0.3235 - val_loss: 659.2941 - val_mae: 19.2055\n",
      "Epoch 167/200\n",
      "14/14 [==============================] - 0s 10ms/step - loss: 0.3148 - mae: 0.2919 - val_loss: 759.2644 - val_mae: 21.7245\n",
      "Epoch 168/200\n",
      "14/14 [==============================] - 0s 10ms/step - loss: 0.2954 - mae: 0.3183 - val_loss: 658.3995 - val_mae: 19.2050\n",
      "Epoch 169/200\n",
      "14/14 [==============================] - 0s 10ms/step - loss: 0.3177 - mae: 0.2998 - val_loss: 756.9476 - val_mae: 21.7149\n",
      "Epoch 170/200\n",
      "14/14 [==============================] - 0s 9ms/step - loss: 0.2954 - mae: 0.3241 - val_loss: 654.7120 - val_mae: 19.1492\n",
      "Epoch 171/200\n",
      "14/14 [==============================] - 0s 10ms/step - loss: 0.3115 - mae: 0.2918 - val_loss: 754.4329 - val_mae: 21.6730\n",
      "Epoch 172/200\n",
      "14/14 [==============================] - 0s 10ms/step - loss: 0.2923 - mae: 0.3186 - val_loss: 653.8669 - val_mae: 19.1485\n",
      "Epoch 173/200\n",
      "14/14 [==============================] - 0s 11ms/step - loss: 0.3140 - mae: 0.2997 - val_loss: 752.1779 - val_mae: 21.6614\n",
      "Epoch 174/200\n",
      "14/14 [==============================] - 0s 9ms/step - loss: 0.2927 - mae: 0.3248 - val_loss: 650.5759 - val_mae: 19.0996\n",
      "Epoch 175/200\n",
      "14/14 [==============================] - 0s 10ms/step - loss: 0.3084 - mae: 0.2926 - val_loss: 749.8777 - val_mae: 21.6252\n",
      "Epoch 176/200\n",
      "14/14 [==============================] - 0s 10ms/step - loss: 0.2895 - mae: 0.3197 - val_loss: 649.6606 - val_mae: 19.0965\n",
      "Epoch 177/200\n",
      "14/14 [==============================] - 0s 9ms/step - loss: 0.3105 - mae: 0.2996 - val_loss: 747.7552 - val_mae: 21.6130\n",
      "Epoch 178/200\n",
      "14/14 [==============================] - 0s 10ms/step - loss: 0.2902 - mae: 0.3257 - val_loss: 646.7800 - val_mae: 19.0547\n",
      "Epoch 179/200\n",
      "14/14 [==============================] - 0s 10ms/step - loss: 0.3060 - mae: 0.2943 - val_loss: 745.7141 - val_mae: 21.5842\n",
      "Epoch 180/200\n",
      "14/14 [==============================] - 0s 9ms/step - loss: 0.2875 - mae: 0.3218 - val_loss: 645.7443 - val_mae: 19.0481\n",
      "Epoch 181/200\n"
     ]
    },
    {
     "name": "stdout",
     "output_type": "stream",
     "text": [
      "14/14 [==============================] - 0s 9ms/step - loss: 0.3078 - mae: 0.2997 - val_loss: 743.7884 - val_mae: 21.5730\n",
      "Epoch 182/200\n",
      "14/14 [==============================] - 0s 9ms/step - loss: 0.2884 - mae: 0.3272 - val_loss: 643.2456 - val_mae: 19.0129\n",
      "Epoch 183/200\n",
      "14/14 [==============================] - 0s 10ms/step - loss: 0.3045 - mae: 0.2961 - val_loss: 742.0014 - val_mae: 21.5514\n",
      "Epoch 184/200\n",
      "14/14 [==============================] - 0s 9ms/step - loss: 0.2864 - mae: 0.3246 - val_loss: 642.1138 - val_mae: 19.0036\n",
      "Epoch 185/200\n",
      "14/14 [==============================] - 0s 11ms/step - loss: 0.3061 - mae: 0.3004 - val_loss: 740.2811 - val_mae: 21.5417\n",
      "Epoch 186/200\n",
      "14/14 [==============================] - 0s 9ms/step - loss: 0.2872 - mae: 0.3293 - val_loss: 639.9506 - val_mae: 18.9739\n",
      "Epoch 187/200\n",
      "14/14 [==============================] - 0s 10ms/step - loss: 0.3038 - mae: 0.2982 - val_loss: 738.6948 - val_mae: 21.5256\n",
      "Epoch 188/200\n",
      "14/14 [==============================] - 0s 10ms/step - loss: 0.2858 - mae: 0.3281 - val_loss: 638.7843 - val_mae: 18.9631\n",
      "Epoch 189/200\n",
      "14/14 [==============================] - 0s 10ms/step - loss: 0.3050 - mae: 0.3018 - val_loss: 737.1377 - val_mae: 21.5169\n",
      "Epoch 190/200\n",
      "14/14 [==============================] - 0s 10ms/step - loss: 0.2863 - mae: 0.3316 - val_loss: 636.9089 - val_mae: 18.9383\n",
      "Epoch 191/200\n",
      "14/14 [==============================] - 0s 10ms/step - loss: 0.3032 - mae: 0.3005 - val_loss: 735.6857 - val_mae: 21.5041\n",
      "Epoch 192/200\n",
      "14/14 [==============================] - 0s 10ms/step - loss: 0.2853 - mae: 0.3313 - val_loss: 635.7651 - val_mae: 18.9272\n",
      "Epoch 193/200\n",
      "14/14 [==============================] - 0s 10ms/step - loss: 0.3039 - mae: 0.3033 - val_loss: 734.2380 - val_mae: 21.4955\n",
      "Epoch 194/200\n",
      "14/14 [==============================] - 0s 10ms/step - loss: 0.2855 - mae: 0.3340 - val_loss: 634.1299 - val_mae: 18.9064\n",
      "Epoch 195/200\n",
      "14/14 [==============================] - 0s 10ms/step - loss: 0.3024 - mae: 0.3025 - val_loss: 732.8771 - val_mae: 21.4847\n",
      "Epoch 196/200\n",
      "14/14 [==============================] - 0s 11ms/step - loss: 0.2846 - mae: 0.3342 - val_loss: 633.0414 - val_mae: 18.8956\n",
      "Epoch 197/200\n",
      "14/14 [==============================] - 0s 9ms/step - loss: 0.3028 - mae: 0.3047 - val_loss: 731.5079 - val_mae: 21.4770\n",
      "Epoch 198/200\n",
      "14/14 [==============================] - 0s 10ms/step - loss: 0.2845 - mae: 0.3361 - val_loss: 631.5995 - val_mae: 18.8779\n",
      "Epoch 199/200\n",
      "14/14 [==============================] - 0s 10ms/step - loss: 0.3013 - mae: 0.3043 - val_loss: 730.2267 - val_mae: 21.4691\n",
      "Epoch 200/200\n",
      "14/14 [==============================] - 0s 9ms/step - loss: 0.2837 - mae: 0.3367 - val_loss: 630.5779 - val_mae: 18.8678\n"
     ]
    }
   ],
   "source": [
    "history = model.fit(dataset_train,\n",
    "                    epochs=epochs,\n",
    "                    validation_data=dataset_val,\n",
    "                   )"
   ]
  },
  {
   "cell_type": "code",
   "execution_count": 26,
   "metadata": {
    "ExecuteTime": {
     "end_time": "2021-05-23T20:55:48.984752Z",
     "start_time": "2021-05-23T20:55:48.818511Z"
    }
   },
   "outputs": [
    {
     "data": {
      "image/png": "[encoded data removed]",
      "text/plain": [
       "<Figure size 1152x432 with 1 Axes>"
      ]
     },
     "metadata": {
      "needs_background": "light"
     },
     "output_type": "display_data"
    }
   ],
   "source": [
    "plt.plot(history.history['mae'][:], \n",
    "         label='MAE на обучающем наборе')\n",
    "plt.plot(history.history['val_mae'][:], \n",
    "         label='MAE на проверочном наборе')\n",
    "\n",
    "plt.ylabel('Средняя ошибка')\n",
    "plt.legend()\n",
    "plt.show()"
   ]
  },
  {
   "cell_type": "code",
   "execution_count": 27,
   "metadata": {
    "ExecuteTime": {
     "end_time": "2021-05-23T20:55:49.808999Z",
     "start_time": "2021-05-23T20:55:48.986522Z"
    }
   },
   "outputs": [],
   "source": [
    "pred = model.predict(dataset_train).flatten()\n",
    "pred_val = model.predict(dataset_val).flatten()"
   ]
  },
  {
   "cell_type": "code",
   "execution_count": 28,
   "metadata": {
    "ExecuteTime": {
     "end_time": "2021-05-23T20:55:49.946919Z",
     "start_time": "2021-05-23T20:55:49.809979Z"
    },
    "scrolled": false
   },
   "outputs": [
    {
     "data": {
      "image/png": "[encoded data removed]",
      "text/plain": [
       "<Figure size 720x360 with 1 Axes>"
      ]
     },
     "metadata": {
      "needs_background": "light"
     },
     "output_type": "display_data"
    }
   ],
   "source": [
    "start = 0\n",
    "step = 500\n",
    "plt.figure(figsize=(10, 5))\n",
    "plt.grid('on')\n",
    "plt.plot(pred_val[future + start: future + start + step], \n",
    "         label='Прогноз')\n",
    "plt.plot(y_val.flatten()[start: start+step], \n",
    "         label='Базовый ряд')\n",
    "plt.xlabel('Время')\n",
    "plt.ylabel('Значение ')\n",
    "\n",
    "plt.legend()\n",
    "plt.show()"
   ]
  },
  {
   "cell_type": "code",
   "execution_count": 29,
   "metadata": {
    "ExecuteTime": {
     "end_time": "2021-05-23T20:55:49.962080Z",
     "start_time": "2021-05-23T20:55:49.948813Z"
    }
   },
   "outputs": [
    {
     "data": {
      "text/plain": [
       "array([32.10718113, 33.80358942, 28.00295341, 31.80376249, 29.0041021 ,\n",
       "       35.89423007, 34.20327472, 33.10102668, 34.99823794, 29.50578931,\n",
       "       35.10604518, 35.50719057, 41.3038349 , 39.75926756, 30.00648409,\n",
       "       32.00125456,  8.90465289, 34.20035939, 31.49983076, 38.5950582 ,\n",
       "       41.9049634 , 42.59939769, 56.20452399, 61.10638097, 58.89983274,\n",
       "       60.3064993 , 62.19735871, 52.30485556, 52.80304633, 53.59041061,\n",
       "       49.10358666, 46.29984225, 49.70476252, 52.68634606, 50.28758941,\n",
       "       51.88642288, 48.21632732, 53.39600317, 57.70353305, 64.00742115,\n",
       "       70.19708505, 70.80342672])"
      ]
     },
     "execution_count": 29,
     "metadata": {},
     "output_type": "execute_result"
    }
   ],
   "source": [
    "y_val[:]"
   ]
  },
  {
   "cell_type": "code",
   "execution_count": 30,
   "metadata": {
    "ExecuteTime": {
     "end_time": "2021-05-23T20:55:50.136900Z",
     "start_time": "2021-05-23T20:55:49.963348Z"
    }
   },
   "outputs": [
    {
     "data": {
      "image/png": "[encoded data removed]",
      "text/plain": [
       "<Figure size 1152x504 with 1 Axes>"
      ]
     },
     "metadata": {
      "needs_background": "light"
     },
     "output_type": "display_data"
    }
   ],
   "source": [
    "plt.figure(figsize=(16, 7))\n",
    "plt.plot(data.index[x_len:y_train.shape[0]+x_len], y_train[:], label='train')\n",
    "plt.plot(data.index[y_train.shape[0]+x_len+bias+future:y_train.shape[0]+x_len+bias+future + len(y_val)],\n",
    "         y_val[:], label='test')\n",
    "plt.plot(pred[:] * (-1), label='pred')\n",
    "plt.plot(data.index[y_train.shape[0]+x_len+bias+future:y_train.shape[0]+x_len+bias+future + len(pred_val)],\n",
    "         pred_val[:] * (-1), label='pred_val')\n",
    "plt.grid('on')\n",
    "plt.xlabel('t, дни')\n",
    "plt.ylabel('$')\n",
    "plt.title('Обводнённость')\n",
    "plt.legend()\n",
    "plt.show()"
   ]
  }
 ],
 "metadata": {
  "kernelspec": {
   "display_name": "Python 3",
   "language": "python",
   "name": "python3"
  },
  "language_info": {
   "codemirror_mode": {
    "name": "ipython",
    "version": 3
   },
   "file_extension": ".py",
   "mimetype": "text/x-python",
   "name": "python",
   "nbconvert_exporter": "python",
   "pygments_lexer": "ipython3",
   "version": "3.8.5"
  },
  "toc": {
   "base_numbering": 1,
   "nav_menu": {},
   "number_sections": false,
   "sideBar": true,
   "skip_h1_title": false,
   "title_cell": "Table of Contents",
   "title_sidebar": "Contents",
   "toc_cell": false,
   "toc_position": {},
   "toc_section_display": true,
   "toc_window_display": false
  },
  "varInspector": {
   "cols": {
    "lenName": 16,
    "lenType": 16,
    "lenVar": 40
   },
   "kernels_config": {
    "python": {
     "delete_cmd_postfix": "",
     "delete_cmd_prefix": "del ",
     "library": "var_list.py",
     "varRefreshCmd": "print(var_dic_list())"
    },
    "r": {
     "delete_cmd_postfix": ") ",
     "delete_cmd_prefix": "rm(",
     "library": "var_list.r",
     "varRefreshCmd": "cat(var_dic_list()) "
    }
   },
   "types_to_exclude": [
    "module",
    "function",
    "builtin_function_or_method",
    "instance",
    "_Feature"
   ],
   "window_display": false
  }
 },
 "nbformat": 4,
 "nbformat_minor": 4
}
