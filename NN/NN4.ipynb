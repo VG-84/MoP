{
 "cells": [
  {
   "cell_type": "code",
   "execution_count": 1,
   "metadata": {
    "ExecuteTime": {
     "end_time": "2021-05-15T10:39:49.366320Z",
     "start_time": "2021-05-15T10:39:46.102900Z"
    },
    "id": "1ijjNXSlFdVO"
   },
   "outputs": [],
   "source": [
    "import numpy as np\n",
    "import pandas as pd\n",
    "from tqdm import tqdm\n",
    "import matplotlib.pyplot as plt\n",
    "import os\n",
    "\n",
    "import tensorflow as tf\n",
    "import tensorflow.keras as keras\n",
    "from tensorflow.keras import models, layers\n",
    "from tensorflow.keras.preprocessing.image import ImageDataGenerator\n",
    "from tensorflow.keras.utils import to_categorical, plot_model \n",
    "from tensorflow.keras.models import Sequential, Model\n",
    "from tensorflow.keras.layers import (Dense, Dropout, Activation, Flatten, Conv2D, MaxPooling2D, Input, Concatenate,\n",
    "                                     Average, Maximum, Add, Subtract, Multiply,\n",
    "                                    GlobalMaxPooling2D, AveragePooling2D, GlobalAveragePooling2D)\n",
    "from tensorflow.keras.datasets import cifar10"
   ]
  },
  {
   "cell_type": "code",
   "execution_count": 2,
   "metadata": {
    "ExecuteTime": {
     "end_time": "2021-05-15T10:39:49.381235Z",
     "start_time": "2021-05-15T10:39:49.368121Z"
    },
    "id": "Zh5_h4G8FdVQ"
   },
   "outputs": [],
   "source": [
    "classes = ['самолет', 'автомобиль', 'птица', 'кот', 'олень', 'собака', 'лягушка', 'лошадь', 'корабль', 'грузовик']"
   ]
  },
  {
   "cell_type": "code",
   "execution_count": 3,
   "metadata": {
    "ExecuteTime": {
     "end_time": "2021-05-15T10:39:50.418143Z",
     "start_time": "2021-05-15T10:39:49.383161Z"
    },
    "colab": {
     "base_uri": "https://localhost:8080/"
    },
    "id": "xML5lu0PFdVR",
    "outputId": "2155d7a8-c76c-4437-8877-576743be23e8"
   },
   "outputs": [
    {
     "name": "stdout",
     "output_type": "stream",
     "text": [
      "Downloading data from https://www.cs.toronto.edu/~kriz/cifar-10-python.tar.gz\n",
      "170500096/170498071 [==============================] - 2s 0us/step\n",
      "X_train shape: (50000, 32, 32, 3)\n",
      "50000 тренировочные примеры\n",
      "10000 тестовые примеры\n"
     ]
    }
   ],
   "source": [
    "(X_train, y_train), (X_test, y_test) = cifar10.load_data()\n",
    "print('X_train shape:', X_train.shape)\n",
    "print(X_train.shape[0], 'тренировочные примеры')\n",
    "print(X_test.shape[0], 'тестовые примеры')\n",
    "\n",
    "X_train = X_train / 255.0\n",
    "X_test = X_test / 255.0\n",
    "\n",
    "# изменение размерности массива в 4D массив\n",
    "# X_train = X_train.reshape(X_train.shape[0], 28, 28, 1)\n",
    "# X_test = X_test.reshape(X_test.shape[0], 28, 28, 1)"
   ]
  },
  {
   "cell_type": "code",
   "execution_count": 4,
   "metadata": {
    "ExecuteTime": {
     "end_time": "2021-05-15T10:39:50.433922Z",
     "start_time": "2021-05-15T10:39:50.419896Z"
    },
    "id": "3ArnI9f5FdVS"
   },
   "outputs": [],
   "source": [
    "batch_size = 512\n",
    "num_classes = 10\n",
    "epochs = 5\n",
    "data_augmentation = False\n",
    "num_predictions = 20\n",
    "save_dir = os.path.join(os.getcwd(), 'saved_models')\n",
    "model_name = 'keras_cifar10_trained_model.h5'\n",
    "\n",
    "y_train = to_categorical(y_train, num_classes)\n",
    "y_test = to_categorical(y_test, num_classes)"
   ]
  },
  {
   "cell_type": "code",
   "execution_count": 5,
   "metadata": {
    "ExecuteTime": {
     "end_time": "2021-05-15T10:39:50.572922Z",
     "start_time": "2021-05-15T10:39:50.435924Z"
    },
    "colab": {
     "base_uri": "https://localhost:8080/",
     "height": 281
    },
    "id": "LOeoueALFdVT",
    "outputId": "14a6be6c-4a54-469b-e9f2-4c75d2501d3b"
   },
   "outputs": [
    {
     "data": {
      "image/png": "[encoded data removed]",
      "text/plain": [
       "<Figure size 432x288 with 1 Axes>"
      ]
     },
     "metadata": {
      "needs_background": "light",
      "tags": []
     },
     "output_type": "display_data"
    }
   ],
   "source": [
    "N = 10\n",
    "\n",
    "plt.imshow(X_test[N])\n",
    "plt.title(classes[np.argmax(y_test[N,:])])\n",
    "plt.show()"
   ]
  },
  {
   "cell_type": "code",
   "execution_count": 6,
   "metadata": {
    "ExecuteTime": {
     "end_time": "2021-05-15T10:39:50.697924Z",
     "start_time": "2021-05-15T10:39:50.573923Z"
    },
    "colab": {
     "base_uri": "https://localhost:8080/"
    },
    "id": "_ZuaTK_gFdVU",
    "outputId": "519d3fca-79e7-451d-9c1e-5702f1eaa1c8"
   },
   "outputs": [
    {
     "name": "stdout",
     "output_type": "stream",
     "text": [
      "Model: \"sequential\"\n",
      "_________________________________________________________________\n",
      "Layer (type)                 Output Shape              Param #   \n",
      "=================================================================\n",
      "conv2d (Conv2D)              (None, 32, 32, 32)        896       \n",
      "_________________________________________________________________\n",
      "activation (Activation)      (None, 32, 32, 32)        0         \n",
      "_________________________________________________________________\n",
      "conv2d_1 (Conv2D)            (None, 30, 30, 32)        9248      \n",
      "_________________________________________________________________\n",
      "activation_1 (Activation)    (None, 30, 30, 32)        0         \n",
      "_________________________________________________________________\n",
      "max_pooling2d (MaxPooling2D) (None, 15, 15, 32)        0         \n",
      "_________________________________________________________________\n",
      "dropout (Dropout)            (None, 15, 15, 32)        0         \n",
      "_________________________________________________________________\n",
      "conv2d_2 (Conv2D)            (None, 15, 15, 64)        18496     \n",
      "_________________________________________________________________\n",
      "activation_2 (Activation)    (None, 15, 15, 64)        0         \n",
      "_________________________________________________________________\n",
      "conv2d_3 (Conv2D)            (None, 13, 13, 64)        36928     \n",
      "_________________________________________________________________\n",
      "activation_3 (Activation)    (None, 13, 13, 64)        0         \n",
      "_________________________________________________________________\n",
      "max_pooling2d_1 (MaxPooling2 (None, 6, 6, 64)          0         \n",
      "_________________________________________________________________\n",
      "dropout_1 (Dropout)          (None, 6, 6, 64)          0         \n",
      "_________________________________________________________________\n",
      "flatten (Flatten)            (None, 2304)              0         \n",
      "_________________________________________________________________\n",
      "dense (Dense)                (None, 512)               1180160   \n",
      "_________________________________________________________________\n",
      "activation_4 (Activation)    (None, 512)               0         \n",
      "_________________________________________________________________\n",
      "dropout_2 (Dropout)          (None, 512)               0         \n",
      "_________________________________________________________________\n",
      "dense_1 (Dense)              (None, 10)                5130      \n",
      "_________________________________________________________________\n",
      "activation_5 (Activation)    (None, 10)                0         \n",
      "=================================================================\n",
      "Total params: 1,250,858\n",
      "Trainable params: 1,250,858\n",
      "Non-trainable params: 0\n",
      "_________________________________________________________________\n"
     ]
    }
   ],
   "source": [
    "model = Sequential()\n",
    "\n",
    "model.add(Conv2D(32, (3, 3), padding='same', input_shape=X_train.shape[1:]))\n",
    "model.add(Activation('relu')) \n",
    "model.add(Conv2D(32, (3, 3)))\n",
    "model.add(Activation('relu'))\n",
    "model.add(MaxPooling2D(pool_size=(2, 2)))\n",
    "model.add(Dropout(0.25))\n",
    "\n",
    "model.add(Conv2D(64, (3, 3), padding='same'))\n",
    "model.add(Activation('relu'))\n",
    "model.add(Conv2D(64, (3, 3)))\n",
    "model.add(Activation('relu'))\n",
    "model.add(MaxPooling2D(pool_size=(2, 2)))\n",
    "model.add(Dropout(0.25))\n",
    "\n",
    "\n",
    "model.add(Flatten()) \n",
    "\n",
    "model.add(Dense(512))\n",
    "model.add(Activation('relu'))\n",
    "model.add(Dropout(0.5))\n",
    "model.add(Dense(num_classes))\n",
    "\n",
    "model.add(Activation('softmax'))\n",
    "\n",
    "model.summary()\n",
    "\n",
    "model.compile(loss='categorical_crossentropy',\n",
    "              optimizer='SGD',\n",
    "              metrics=['accuracy'])"
   ]
  },
  {
   "cell_type": "code",
   "execution_count": 7,
   "metadata": {
    "ExecuteTime": {
     "start_time": "2021-05-15T17:20:55.769Z"
    },
    "colab": {
     "base_uri": "https://localhost:8080/"
    },
    "id": "pnWZeWVZFdVX",
    "outputId": "59a50fd2-fa15-45d9-ae30-e7fffec37889"
   },
   "outputs": [
    {
     "name": "stdout",
     "output_type": "stream",
     "text": [
      "Epoch 1/20\n",
      "3125/3125 [==============================] - 45s 4ms/step - loss: 2.1321 - accuracy: 0.2030 - val_loss: 1.6775 - val_accuracy: 0.3951\n",
      "Epoch 2/20\n",
      "3125/3125 [==============================] - 12s 4ms/step - loss: 1.6656 - accuracy: 0.3922 - val_loss: 1.3914 - val_accuracy: 0.4921\n",
      "Epoch 3/20\n",
      "3125/3125 [==============================] - 12s 4ms/step - loss: 1.4488 - accuracy: 0.4728 - val_loss: 1.2409 - val_accuracy: 0.5539\n",
      "Epoch 4/20\n",
      "3125/3125 [==============================] - 12s 4ms/step - loss: 1.3320 - accuracy: 0.5201 - val_loss: 1.1468 - val_accuracy: 0.5924\n",
      "Epoch 5/20\n",
      "3125/3125 [==============================] - 12s 4ms/step - loss: 1.2219 - accuracy: 0.5656 - val_loss: 1.0947 - val_accuracy: 0.6168\n",
      "Epoch 6/20\n",
      "3125/3125 [==============================] - 12s 4ms/step - loss: 1.1451 - accuracy: 0.5969 - val_loss: 1.1035 - val_accuracy: 0.6067\n",
      "Epoch 7/20\n",
      "3125/3125 [==============================] - 12s 4ms/step - loss: 1.0881 - accuracy: 0.6107 - val_loss: 1.0153 - val_accuracy: 0.6408\n",
      "Epoch 8/20\n",
      "3125/3125 [==============================] - 12s 4ms/step - loss: 1.0237 - accuracy: 0.6351 - val_loss: 0.9253 - val_accuracy: 0.6843\n",
      "Epoch 9/20\n",
      "3125/3125 [==============================] - 12s 4ms/step - loss: 0.9667 - accuracy: 0.6594 - val_loss: 0.8737 - val_accuracy: 0.6915\n",
      "Epoch 10/20\n",
      "3125/3125 [==============================] - 12s 4ms/step - loss: 0.9257 - accuracy: 0.6743 - val_loss: 0.8511 - val_accuracy: 0.7031\n",
      "Epoch 11/20\n",
      "3125/3125 [==============================] - 12s 4ms/step - loss: 0.8814 - accuracy: 0.6891 - val_loss: 0.8030 - val_accuracy: 0.7221\n",
      "Epoch 12/20\n",
      "3125/3125 [==============================] - 12s 4ms/step - loss: 0.8386 - accuracy: 0.7029 - val_loss: 0.7994 - val_accuracy: 0.7198\n",
      "Epoch 13/20\n",
      "3125/3125 [==============================] - 12s 4ms/step - loss: 0.8156 - accuracy: 0.7112 - val_loss: 0.7724 - val_accuracy: 0.7322\n",
      "Epoch 14/20\n",
      "3125/3125 [==============================] - 12s 4ms/step - loss: 0.7831 - accuracy: 0.7225 - val_loss: 0.7338 - val_accuracy: 0.7418\n",
      "Epoch 15/20\n",
      "3125/3125 [==============================] - 12s 4ms/step - loss: 0.7481 - accuracy: 0.7338 - val_loss: 0.7331 - val_accuracy: 0.7426\n",
      "Epoch 16/20\n",
      "3125/3125 [==============================] - 12s 4ms/step - loss: 0.7134 - accuracy: 0.7492 - val_loss: 0.7174 - val_accuracy: 0.7481\n",
      "Epoch 17/20\n",
      "3125/3125 [==============================] - 12s 4ms/step - loss: 0.7007 - accuracy: 0.7515 - val_loss: 0.6907 - val_accuracy: 0.7594\n",
      "Epoch 18/20\n",
      "3125/3125 [==============================] - 12s 4ms/step - loss: 0.6765 - accuracy: 0.7597 - val_loss: 0.6841 - val_accuracy: 0.7642\n",
      "Epoch 19/20\n",
      "3125/3125 [==============================] - 12s 4ms/step - loss: 0.6504 - accuracy: 0.7707 - val_loss: 0.6521 - val_accuracy: 0.7742\n",
      "Epoch 20/20\n",
      "3125/3125 [==============================] - 12s 4ms/step - loss: 0.6235 - accuracy: 0.7809 - val_loss: 0.6708 - val_accuracy: 0.7665\n",
      "313/313 [==============================] - 1s 3ms/step - loss: 0.6708 - accuracy: 0.7665\n",
      "Test loss 0.6708, accuracy 0.77%\n"
     ]
    }
   ],
   "source": [
    "hist = model.fit(X_train, y_train,\n",
    "                 epochs=20,\n",
    "                 batch_size=16,\n",
    "                 validation_data=(X_test, y_test),\n",
    "                 verbose=1)\n",
    "\n",
    "test_loss, test_metric = model.evaluate(X_test, y_test)\n",
    "print(f\"Test loss {test_loss:.4f}, accuracy {test_metric:.2f}%\")"
   ]
  },
  {
   "cell_type": "code",
   "execution_count": 9,
   "metadata": {
    "ExecuteTime": {
     "end_time": "2021-05-15T10:42:25.711795Z",
     "start_time": "2021-05-15T10:42:22.162505Z"
    },
    "id": "xPntEQnzFdVY"
   },
   "outputs": [],
   "source": [
    "y_pred = model.predict(X_test)"
   ]
  },
  {
   "cell_type": "code",
   "execution_count": 16,
   "metadata": {
    "ExecuteTime": {
     "end_time": "2021-05-15T10:42:25.959676Z",
     "start_time": "2021-05-15T10:42:25.713792Z"
    },
    "colab": {
     "base_uri": "https://localhost:8080/",
     "height": 562
    },
    "id": "sZRDsxiAFdVZ",
    "outputId": "90c8753d-009c-4010-ef84-45020cb8f564"
   },
   "outputs": [
    {
     "data": {
      "image/png": "[encoded data removed]",
      "text/plain": [
       "<Figure size 432x288 with 1 Axes>"
      ]
     },
     "metadata": {
      "needs_background": "light",
      "tags": []
     },
     "output_type": "display_data"
    },
    {
     "name": "stdout",
     "output_type": "stream",
     "text": [
      "[0.5908041  0.00158665 0.07125401 0.11839733 0.06613015 0.09666061\n",
      " 0.00144096 0.003782   0.04611617 0.00382802]\n"
     ]
    },
    {
     "data": {
      "image/png": "[encoded data removed]",
      "text/plain": [
       "<Figure size 432x288 with 1 Axes>"
      ]
     },
     "metadata": {
      "needs_background": "light",
      "tags": []
     },
     "output_type": "display_data"
    }
   ],
   "source": [
    "N = 10\n",
    "plt.plot(y_pred[N][:])\n",
    "plt.show()\n",
    "print(y_pred[N][:])\n",
    "plt.imshow(X_test[N][:,:,0])\n",
    "plt.title(classes[np.argmax(y_test[N,:])])\n",
    "plt.show()"
   ]
  },
  {
   "cell_type": "markdown",
   "metadata": {
    "id": "ewODFJCzTZSZ"
   },
   "source": [
    "# 2. Оценим рост точности при увеличении ширины сети (больше фильтров т.е. количества каналов на свёртках)"
   ]
  },
  {
   "cell_type": "code",
   "execution_count": 18,
   "metadata": {
    "colab": {
     "base_uri": "https://localhost:8080/"
    },
    "id": "MT6PtrUrFdVZ",
    "outputId": "fc87f49d-7502-4ae0-e330-df8862241f7c"
   },
   "outputs": [
    {
     "name": "stdout",
     "output_type": "stream",
     "text": [
      "Model: \"sequential_2\"\n",
      "_________________________________________________________________\n",
      "Layer (type)                 Output Shape              Param #   \n",
      "=================================================================\n",
      "conv2d_8 (Conv2D)            (None, 32, 32, 32)        896       \n",
      "_________________________________________________________________\n",
      "activation_12 (Activation)   (None, 32, 32, 32)        0         \n",
      "_________________________________________________________________\n",
      "conv2d_9 (Conv2D)            (None, 30, 30, 64)        18496     \n",
      "_________________________________________________________________\n",
      "activation_13 (Activation)   (None, 30, 30, 64)        0         \n",
      "_________________________________________________________________\n",
      "max_pooling2d_4 (MaxPooling2 (None, 15, 15, 64)        0         \n",
      "_________________________________________________________________\n",
      "dropout_6 (Dropout)          (None, 15, 15, 64)        0         \n",
      "_________________________________________________________________\n",
      "conv2d_10 (Conv2D)           (None, 15, 15, 128)       73856     \n",
      "_________________________________________________________________\n",
      "activation_14 (Activation)   (None, 15, 15, 128)       0         \n",
      "_________________________________________________________________\n",
      "conv2d_11 (Conv2D)           (None, 13, 13, 256)       295168    \n",
      "_________________________________________________________________\n",
      "activation_15 (Activation)   (None, 13, 13, 256)       0         \n",
      "_________________________________________________________________\n",
      "max_pooling2d_5 (MaxPooling2 (None, 6, 6, 256)         0         \n",
      "_________________________________________________________________\n",
      "dropout_7 (Dropout)          (None, 6, 6, 256)         0         \n",
      "_________________________________________________________________\n",
      "flatten_2 (Flatten)          (None, 9216)              0         \n",
      "_________________________________________________________________\n",
      "dense_4 (Dense)              (None, 512)               4719104   \n",
      "_________________________________________________________________\n",
      "activation_16 (Activation)   (None, 512)               0         \n",
      "_________________________________________________________________\n",
      "dropout_8 (Dropout)          (None, 512)               0         \n",
      "_________________________________________________________________\n",
      "dense_5 (Dense)              (None, 10)                5130      \n",
      "_________________________________________________________________\n",
      "activation_17 (Activation)   (None, 10)                0         \n",
      "=================================================================\n",
      "Total params: 5,112,650\n",
      "Trainable params: 5,112,650\n",
      "Non-trainable params: 0\n",
      "_________________________________________________________________\n"
     ]
    }
   ],
   "source": [
    "model_2 = Sequential()\n",
    "\n",
    "model_2.add(Conv2D(32, (3, 3), padding='same', input_shape=X_train.shape[1:]))\n",
    "model_2.add(Activation('relu')) \n",
    "model_2.add(Conv2D(64, (3, 3)))\n",
    "model_2.add(Activation('relu'))\n",
    "model_2.add(MaxPooling2D(pool_size=(2, 2)))\n",
    "model_2.add(Dropout(0.25))\n",
    "\n",
    "model_2.add(Conv2D(128, (3, 3), padding='same'))\n",
    "model_2.add(Activation('relu'))\n",
    "model_2.add(Conv2D(256, (3, 3)))\n",
    "model_2.add(Activation('relu'))\n",
    "model_2.add(MaxPooling2D(pool_size=(2, 2)))\n",
    "model_2.add(Dropout(0.25))\n",
    "\n",
    "model_2.add(Flatten()) \n",
    "model_2.add(Dense(512))\n",
    "model_2.add(Activation('relu'))\n",
    "model_2.add(Dropout(0.5))\n",
    "model_2.add(Dense(num_classes))\n",
    "model_2.add(Activation('softmax'))\n",
    "\n",
    "model_2.summary()\n",
    "\n",
    "model_2.compile(loss='categorical_crossentropy',\n",
    "              optimizer='SGD',\n",
    "              metrics=['accuracy'])"
   ]
  },
  {
   "cell_type": "code",
   "execution_count": 19,
   "metadata": {
    "colab": {
     "base_uri": "https://localhost:8080/"
    },
    "id": "q7kC9k9nVzPu",
    "outputId": "80bf73dd-2db8-4dac-a75b-574089997302"
   },
   "outputs": [
    {
     "name": "stdout",
     "output_type": "stream",
     "text": [
      "Epoch 1/10\n",
      "3125/3125 [==============================] - 17s 5ms/step - loss: 2.0769 - accuracy: 0.2326 - val_loss: 1.5825 - val_accuracy: 0.4292\n",
      "Epoch 2/10\n",
      "3125/3125 [==============================] - 16s 5ms/step - loss: 1.5878 - accuracy: 0.4242 - val_loss: 1.2983 - val_accuracy: 0.5339\n",
      "Epoch 3/10\n",
      "3125/3125 [==============================] - 16s 5ms/step - loss: 1.3472 - accuracy: 0.5158 - val_loss: 1.1741 - val_accuracy: 0.5804\n",
      "Epoch 4/10\n",
      "3125/3125 [==============================] - 16s 5ms/step - loss: 1.1651 - accuracy: 0.5847 - val_loss: 1.0109 - val_accuracy: 0.6443\n",
      "Epoch 5/10\n",
      "3125/3125 [==============================] - 16s 5ms/step - loss: 1.0426 - accuracy: 0.6332 - val_loss: 0.9164 - val_accuracy: 0.6798\n",
      "Epoch 6/10\n",
      "3125/3125 [==============================] - 16s 5ms/step - loss: 0.9366 - accuracy: 0.6688 - val_loss: 0.8392 - val_accuracy: 0.7097\n",
      "Epoch 7/10\n",
      "3125/3125 [==============================] - 16s 5ms/step - loss: 0.8586 - accuracy: 0.6979 - val_loss: 0.8018 - val_accuracy: 0.7198\n",
      "Epoch 8/10\n",
      "3125/3125 [==============================] - 16s 5ms/step - loss: 0.7860 - accuracy: 0.7196 - val_loss: 0.7633 - val_accuracy: 0.7347\n",
      "Epoch 9/10\n",
      "3125/3125 [==============================] - 16s 5ms/step - loss: 0.7227 - accuracy: 0.7491 - val_loss: 0.7095 - val_accuracy: 0.7544\n",
      "Epoch 10/10\n",
      "3125/3125 [==============================] - 16s 5ms/step - loss: 0.6631 - accuracy: 0.7690 - val_loss: 0.6896 - val_accuracy: 0.7567\n",
      "313/313 [==============================] - 1s 4ms/step - loss: 0.6896 - accuracy: 0.7567\n",
      "Test loss 0.6896, accuracy 0.76%\n"
     ]
    }
   ],
   "source": [
    "hist = model_2.fit(X_train, y_train,\n",
    "                 epochs=10,\n",
    "                 batch_size=16,\n",
    "                 validation_data=(X_test, y_test),\n",
    "                 verbose=1)\n",
    "\n",
    "test_loss, test_metric = model_2.evaluate(X_test, y_test)\n",
    "print(f\"Test loss {test_loss:.4f}, accuracy {test_metric:.2f}%\")"
   ]
  },
  {
   "cell_type": "markdown",
   "metadata": {
    "id": "qh8f6kgsWvyG"
   },
   "source": [
    "**Вывод**: С увеличением ширины сети качество упало - с 0.7665 до 0.7567"
   ]
  },
  {
   "cell_type": "markdown",
   "metadata": {
    "id": "RfK588j1V_x-"
   },
   "source": [
    "# 3. Оценим рост точности при увеличении глубины сети (больше слоев конволюций-пулингов)"
   ]
  },
  {
   "cell_type": "code",
   "execution_count": 20,
   "metadata": {
    "colab": {
     "base_uri": "https://localhost:8080/"
    },
    "id": "2u4OnjjPWDpo",
    "outputId": "9009a73f-d8aa-4811-8f44-b6044a2abf80"
   },
   "outputs": [
    {
     "name": "stdout",
     "output_type": "stream",
     "text": [
      "Model: \"sequential_3\"\n",
      "_________________________________________________________________\n",
      "Layer (type)                 Output Shape              Param #   \n",
      "=================================================================\n",
      "conv2d_12 (Conv2D)           (None, 32, 32, 32)        896       \n",
      "_________________________________________________________________\n",
      "activation_18 (Activation)   (None, 32, 32, 32)        0         \n",
      "_________________________________________________________________\n",
      "conv2d_13 (Conv2D)           (None, 30, 30, 32)        9248      \n",
      "_________________________________________________________________\n",
      "activation_19 (Activation)   (None, 30, 30, 32)        0         \n",
      "_________________________________________________________________\n",
      "max_pooling2d_6 (MaxPooling2 (None, 15, 15, 32)        0         \n",
      "_________________________________________________________________\n",
      "dropout_9 (Dropout)          (None, 15, 15, 32)        0         \n",
      "_________________________________________________________________\n",
      "conv2d_14 (Conv2D)           (None, 15, 15, 64)        18496     \n",
      "_________________________________________________________________\n",
      "activation_20 (Activation)   (None, 15, 15, 64)        0         \n",
      "_________________________________________________________________\n",
      "conv2d_15 (Conv2D)           (None, 13, 13, 64)        36928     \n",
      "_________________________________________________________________\n",
      "activation_21 (Activation)   (None, 13, 13, 64)        0         \n",
      "_________________________________________________________________\n",
      "max_pooling2d_7 (MaxPooling2 (None, 6, 6, 64)          0         \n",
      "_________________________________________________________________\n",
      "dropout_10 (Dropout)         (None, 6, 6, 64)          0         \n",
      "_________________________________________________________________\n",
      "conv2d_16 (Conv2D)           (None, 6, 6, 64)          36928     \n",
      "_________________________________________________________________\n",
      "activation_22 (Activation)   (None, 6, 6, 64)          0         \n",
      "_________________________________________________________________\n",
      "conv2d_17 (Conv2D)           (None, 4, 4, 64)          36928     \n",
      "_________________________________________________________________\n",
      "activation_23 (Activation)   (None, 4, 4, 64)          0         \n",
      "_________________________________________________________________\n",
      "max_pooling2d_8 (MaxPooling2 (None, 2, 2, 64)          0         \n",
      "_________________________________________________________________\n",
      "dropout_11 (Dropout)         (None, 2, 2, 64)          0         \n",
      "_________________________________________________________________\n",
      "flatten_3 (Flatten)          (None, 256)               0         \n",
      "_________________________________________________________________\n",
      "dense_6 (Dense)              (None, 512)               131584    \n",
      "_________________________________________________________________\n",
      "activation_24 (Activation)   (None, 512)               0         \n",
      "_________________________________________________________________\n",
      "dropout_12 (Dropout)         (None, 512)               0         \n",
      "_________________________________________________________________\n",
      "dense_7 (Dense)              (None, 10)                5130      \n",
      "_________________________________________________________________\n",
      "activation_25 (Activation)   (None, 10)                0         \n",
      "=================================================================\n",
      "Total params: 276,138\n",
      "Trainable params: 276,138\n",
      "Non-trainable params: 0\n",
      "_________________________________________________________________\n"
     ]
    }
   ],
   "source": [
    "model_3 = Sequential()\n",
    "\n",
    "model_3.add(Conv2D(32, (3, 3), padding='same', input_shape=X_train.shape[1:]))\n",
    "model_3.add(Activation('relu')) \n",
    "model_3.add(Conv2D(32, (3, 3)))\n",
    "model_3.add(Activation('relu'))\n",
    "model_3.add(MaxPooling2D(pool_size=(2, 2)))\n",
    "model_3.add(Dropout(0.25))\n",
    "\n",
    "model_3.add(Conv2D(64, (3, 3), padding='same'))\n",
    "model_3.add(Activation('relu'))\n",
    "model_3.add(Conv2D(64, (3, 3)))\n",
    "model_3.add(Activation('relu'))\n",
    "model_3.add(MaxPooling2D(pool_size=(2, 2)))\n",
    "model_3.add(Dropout(0.25))\n",
    "model_3.add(Conv2D(64, (3, 3), padding='same'))\n",
    "model_3.add(Activation('relu'))\n",
    "model_3.add(Conv2D(64, (3, 3)))\n",
    "model_3.add(Activation('relu'))\n",
    "model_3.add(MaxPooling2D(pool_size=(2, 2)))\n",
    "model_3.add(Dropout(0.25))\n",
    "\n",
    "model_3.add(Flatten()) \n",
    "model_3.add(Dense(512))\n",
    "model_3.add(Activation('relu'))\n",
    "model_3.add(Dropout(0.5))\n",
    "model_3.add(Dense(num_classes))\n",
    "model_3.add(Activation('softmax'))\n",
    "\n",
    "model_3.summary()\n",
    "\n",
    "model_3.compile(loss='categorical_crossentropy',\n",
    "              optimizer='SGD',\n",
    "              metrics=['accuracy'])"
   ]
  },
  {
   "cell_type": "code",
   "execution_count": 21,
   "metadata": {
    "colab": {
     "base_uri": "https://localhost:8080/"
    },
    "id": "q4IWk887XX7o",
    "outputId": "60290370-166d-4803-e836-14c9628c3d21"
   },
   "outputs": [
    {
     "name": "stdout",
     "output_type": "stream",
     "text": [
      "Epoch 1/10\n",
      "3125/3125 [==============================] - 14s 4ms/step - loss: 2.2103 - accuracy: 0.1538 - val_loss: 1.8015 - val_accuracy: 0.3355\n",
      "Epoch 2/10\n",
      "3125/3125 [==============================] - 13s 4ms/step - loss: 1.8145 - accuracy: 0.3221 - val_loss: 1.5349 - val_accuracy: 0.4239\n",
      "Epoch 3/10\n",
      "3125/3125 [==============================] - 13s 4ms/step - loss: 1.6022 - accuracy: 0.4090 - val_loss: 1.3833 - val_accuracy: 0.4939\n",
      "Epoch 4/10\n",
      "3125/3125 [==============================] - 13s 4ms/step - loss: 1.4453 - accuracy: 0.4691 - val_loss: 1.2607 - val_accuracy: 0.5402\n",
      "Epoch 5/10\n",
      "3125/3125 [==============================] - 13s 4ms/step - loss: 1.3213 - accuracy: 0.5253 - val_loss: 1.1428 - val_accuracy: 0.5881\n",
      "Epoch 6/10\n",
      "3125/3125 [==============================] - 13s 4ms/step - loss: 1.2246 - accuracy: 0.5631 - val_loss: 1.0933 - val_accuracy: 0.6087\n",
      "Epoch 7/10\n",
      "3125/3125 [==============================] - 13s 4ms/step - loss: 1.1514 - accuracy: 0.5887 - val_loss: 1.0520 - val_accuracy: 0.6314\n",
      "Epoch 8/10\n",
      "3125/3125 [==============================] - 13s 4ms/step - loss: 1.0798 - accuracy: 0.6180 - val_loss: 0.9851 - val_accuracy: 0.6489\n",
      "Epoch 9/10\n",
      "3125/3125 [==============================] - 14s 4ms/step - loss: 1.0266 - accuracy: 0.6377 - val_loss: 0.9205 - val_accuracy: 0.6755\n",
      "Epoch 10/10\n",
      "3125/3125 [==============================] - 13s 4ms/step - loss: 0.9802 - accuracy: 0.6513 - val_loss: 0.8943 - val_accuracy: 0.6885\n",
      "313/313 [==============================] - 1s 3ms/step - loss: 0.8943 - accuracy: 0.6885\n",
      "Test loss 0.8943, accuracy 0.69%\n"
     ]
    }
   ],
   "source": [
    "hist = model_3.fit(X_train, y_train,\n",
    "                 epochs=10,\n",
    "                 batch_size=16,\n",
    "                 validation_data=(X_test, y_test),\n",
    "                 verbose=1)\n",
    "\n",
    "test_loss, test_metric = model_3.evaluate(X_test, y_test)\n",
    "print(f\"Test loss {test_loss:.4f}, accuracy {test_metric:.2f}%\")"
   ]
  },
  {
   "cell_type": "markdown",
   "metadata": {
    "id": "qI29SZ1DXdNW"
   },
   "source": [
    "**Вывод**: При увеличении глубины сети (увеличении количества слоёв конволюций-пулингов) качество упало ещё сильнее - до 0.6885."
   ]
  },
  {
   "cell_type": "markdown",
   "metadata": {
    "id": "55fX3siUXvPM"
   },
   "source": [
    "# 4. *сравнение с точностью полносвязной сети для этой выборки"
   ]
  },
  {
   "cell_type": "code",
   "execution_count": 22,
   "metadata": {
    "colab": {
     "base_uri": "https://localhost:8080/"
    },
    "id": "2hbY4RwJXm-Y",
    "outputId": "fb189676-280f-4c8f-f7cc-6b8402feb90d"
   },
   "outputs": [
    {
     "name": "stdout",
     "output_type": "stream",
     "text": [
      "Model: \"sequential_4\"\n",
      "_________________________________________________________________\n",
      "Layer (type)                 Output Shape              Param #   \n",
      "=================================================================\n",
      "flatten_4 (Flatten)          (None, 3072)              0         \n",
      "_________________________________________________________________\n",
      "dense_8 (Dense)              (None, 512)               1573376   \n",
      "_________________________________________________________________\n",
      "activation_26 (Activation)   (None, 512)               0         \n",
      "_________________________________________________________________\n",
      "dropout_13 (Dropout)         (None, 512)               0         \n",
      "_________________________________________________________________\n",
      "dense_9 (Dense)              (None, 10)                5130      \n",
      "_________________________________________________________________\n",
      "activation_27 (Activation)   (None, 10)                0         \n",
      "=================================================================\n",
      "Total params: 1,578,506\n",
      "Trainable params: 1,578,506\n",
      "Non-trainable params: 0\n",
      "_________________________________________________________________\n"
     ]
    }
   ],
   "source": [
    "model_4 = Sequential()\n",
    "model_4.add(Flatten(input_shape=X_train.shape[1:]))\n",
    "model_4.add(Dense(512))\n",
    "model_4.add(Activation('relu'))\n",
    "model_4.add(Dropout(0.5))\n",
    "model_4.add(Dense(num_classes))\n",
    "model_4.add(Activation('softmax'))\n",
    "\n",
    "model_4.summary()\n",
    "\n",
    "model_4.compile(loss='categorical_crossentropy',\n",
    "              optimizer='SGD',\n",
    "              metrics=['accuracy'])"
   ]
  },
  {
   "cell_type": "code",
   "execution_count": 23,
   "metadata": {
    "colab": {
     "base_uri": "https://localhost:8080/"
    },
    "id": "OgbwJIc1Yjnd",
    "outputId": "d960c493-b925-47a1-faee-4ba1cce8d67f"
   },
   "outputs": [
    {
     "name": "stdout",
     "output_type": "stream",
     "text": [
      "Epoch 1/10\n",
      "3125/3125 [==============================] - 7s 2ms/step - loss: 2.0482 - accuracy: 0.2546 - val_loss: 1.7689 - val_accuracy: 0.3670\n",
      "Epoch 2/10\n",
      "3125/3125 [==============================] - 7s 2ms/step - loss: 1.8115 - accuracy: 0.3506 - val_loss: 1.6799 - val_accuracy: 0.4140\n",
      "Epoch 3/10\n",
      "3125/3125 [==============================] - 7s 2ms/step - loss: 1.7390 - accuracy: 0.3831 - val_loss: 1.6383 - val_accuracy: 0.4173\n",
      "Epoch 4/10\n",
      "3125/3125 [==============================] - 7s 2ms/step - loss: 1.7115 - accuracy: 0.3927 - val_loss: 1.6054 - val_accuracy: 0.4348\n",
      "Epoch 5/10\n",
      "3125/3125 [==============================] - 7s 2ms/step - loss: 1.6655 - accuracy: 0.4087 - val_loss: 1.5799 - val_accuracy: 0.4410\n",
      "Epoch 6/10\n",
      "3125/3125 [==============================] - 7s 2ms/step - loss: 1.6380 - accuracy: 0.4224 - val_loss: 1.5538 - val_accuracy: 0.4531\n",
      "Epoch 7/10\n",
      "3125/3125 [==============================] - 7s 2ms/step - loss: 1.6162 - accuracy: 0.4269 - val_loss: 1.5269 - val_accuracy: 0.4629\n",
      "Epoch 8/10\n",
      "3125/3125 [==============================] - 7s 2ms/step - loss: 1.5939 - accuracy: 0.4326 - val_loss: 1.5367 - val_accuracy: 0.4546\n",
      "Epoch 9/10\n",
      "3125/3125 [==============================] - 7s 2ms/step - loss: 1.5825 - accuracy: 0.4378 - val_loss: 1.5048 - val_accuracy: 0.4695\n",
      "Epoch 10/10\n",
      "3125/3125 [==============================] - 7s 2ms/step - loss: 1.5659 - accuracy: 0.4451 - val_loss: 1.5089 - val_accuracy: 0.4705\n",
      "313/313 [==============================] - 1s 3ms/step - loss: 1.5089 - accuracy: 0.4705\n",
      "Test loss 1.5089, accuracy 0.47%\n"
     ]
    }
   ],
   "source": [
    "hist = model_4.fit(X_train, y_train,\n",
    "                 epochs=10,\n",
    "                 batch_size=16,\n",
    "                 validation_data=(X_test, y_test),\n",
    "                 verbose=1)\n",
    "\n",
    "test_loss, test_metric = model_4.evaluate(X_test, y_test)\n",
    "print(f\"Test loss {test_loss:.4f}, accuracy {test_metric:.2f}%\")"
   ]
  },
  {
   "cell_type": "markdown",
   "metadata": {
    "id": "k4SrV_KWY96o"
   },
   "source": [
    "**Вывод**: Полносвзная сеть обеспечила самое низкое качество."
   ]
  }
 ],
 "metadata": {
  "accelerator": "GPU",
  "colab": {
   "collapsed_sections": [],
   "name": "hw_4.ipynb",
   "provenance": []
  },
  "kernelspec": {
   "display_name": "Python 3",
   "language": "python",
   "name": "python3"
  },
  "language_info": {
   "codemirror_mode": {
    "name": "ipython",
    "version": 3
   },
   "file_extension": ".py",
   "mimetype": "text/x-python",
   "name": "python",
   "nbconvert_exporter": "python",
   "pygments_lexer": "ipython3",
   "version": "3.8.5"
  },
  "toc": {
   "base_numbering": 1,
   "nav_menu": {},
   "number_sections": false,
   "sideBar": true,
   "skip_h1_title": false,
   "title_cell": "Table of Contents",
   "title_sidebar": "Contents",
   "toc_cell": false,
   "toc_position": {},
   "toc_section_display": true,
   "toc_window_display": false
  },
  "varInspector": {
   "cols": {
    "lenName": 16,
    "lenType": 16,
    "lenVar": 40
   },
   "kernels_config": {
    "python": {
     "delete_cmd_postfix": "",
     "delete_cmd_prefix": "del ",
     "library": "var_list.py",
     "varRefreshCmd": "print(var_dic_list())"
    },
    "r": {
     "delete_cmd_postfix": ") ",
     "delete_cmd_prefix": "rm(",
     "library": "var_list.r",
     "varRefreshCmd": "cat(var_dic_list()) "
    }
   },
   "types_to_exclude": [
    "module",
    "function",
    "builtin_function_or_method",
    "instance",
    "_Feature"
   ],
   "window_display": false
  }
 },
 "nbformat": 4,
 "nbformat_minor": 1
}
