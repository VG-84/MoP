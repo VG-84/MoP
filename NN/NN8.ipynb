{
 "cells": [
  {
   "cell_type": "markdown",
   "metadata": {},
   "source": [
    "Домашнее задание № 8\n",
    "---\n",
    "\n",
    "Выберите любой ноутбук из примеров ниже и приложите результаты работы к ДЗ.\n",
    "\n",
    "Интересные проекты с генерацией:\n",
    "\n",
    "~2min. Using latent space regression to analyze and leverage compositionality in GANs (Восстановление изображения): https://chail.github.io/latent-composition/ https://colab.research.google.com/drive/1p-L2dPMaqMyr56TYoYmBJhoyIyBJ7lzH?usp=sharing\n",
    "\n",
    "~4min. Infinite Nature: Perpetual View Generation of Natural Scenes from a Single Image (Генерация бесконечного пейзажа) https://infinite-nature.github.io/ https://colab.research.google.com/github/google-research/google-research/blob/master/infinite_nature/infinite_nature_demo.ipynb\n",
    "\n",
    "~5min. CLIP + DALL-E (Генерация изображений по словам) https://colab.research.google.com/drive/1Q-TbYvASMPRMXCOQjkxxf72CXYjR_8Vp\n",
    "\n",
    "~4min. ArtLine (Перевод картинки в скетч) https://colab.research.google.com/github/vijishmadhavan/Light-Up/blob/master/ArtLine(AR).ipynb\n",
    "\n",
    "~2min. SkyAR (Динамическая замена неба на видео) https://jiupinjia.github.io/skyar/ https://colab.research.google.com/drive/1-BqXD3EzDY6PHRdwb3cWayk2KictbFaz"
   ]
  },
  {
   "cell_type": "markdown",
   "metadata": {},
   "source": [
    "Для выполнения ДЗ №8 был использован SkyAR (Динамическая замена неба на видео) https://jiupinjia.github.io/skyar/ https://colab.research.google.com/drive/1-BqXD3EzDY6PHRdwb3cWayk2KictbFaz.\n",
    "\n"
   ]
  }
 ],
 "metadata": {
  "kernelspec": {
   "display_name": "Python 3",
   "language": "python",
   "name": "python3"
  },
  "language_info": {
   "codemirror_mode": {
    "name": "ipython",
    "version": 3
   },
   "file_extension": ".py",
   "mimetype": "text/x-python",
   "name": "python",
   "nbconvert_exporter": "python",
   "pygments_lexer": "ipython3",
   "version": "3.8.5"
  },
  "toc": {
   "base_numbering": 1,
   "nav_menu": {},
   "number_sections": false,
   "sideBar": true,
   "skip_h1_title": false,
   "title_cell": "Table of Contents",
   "title_sidebar": "Contents",
   "toc_cell": false,
   "toc_position": {},
   "toc_section_display": true,
   "toc_window_display": false
  },
  "varInspector": {
   "cols": {
    "lenName": 16,
    "lenType": 16,
    "lenVar": 40
   },
   "kernels_config": {
    "python": {
     "delete_cmd_postfix": "",
     "delete_cmd_prefix": "del ",
     "library": "var_list.py",
     "varRefreshCmd": "print(var_dic_list())"
    },
    "r": {
     "delete_cmd_postfix": ") ",
     "delete_cmd_prefix": "rm(",
     "library": "var_list.r",
     "varRefreshCmd": "cat(var_dic_list()) "
    }
   },
   "types_to_exclude": [
    "module",
    "function",
    "builtin_function_or_method",
    "instance",
    "_Feature"
   ],
   "window_display": false
  }
 },
 "nbformat": 4,
 "nbformat_minor": 4
}
